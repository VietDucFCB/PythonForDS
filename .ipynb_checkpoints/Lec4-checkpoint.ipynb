{
 "cells": [
  {
   "cell_type": "markdown",
   "id": "c415d4a3-940d-4397-a4c7-56c334200a4c",
   "metadata": {},
   "source": [
    "# Lecture 4: Object-Oriented Programming (OOP)"
   ]
  },
  {
   "cell_type": "markdown",
   "id": "6f64624f-3295-4890-9830-49a017321a5e",
   "metadata": {},
   "source": [
    "# 1. Định nghĩa\n",
    "OOP là một phương pháp lập trình mà trong đó các đối tượng thực tế được mô phỏng thành các đối tượng trong code.\n",
    "\n",
    "Các đối tượng có **thuộc tính (attributes)** và **hành vi (methods)**, và chúng tương tác với nhau để thực hiện các chức năng trong chương trình."
   ]
  },
  {
   "cell_type": "markdown",
   "id": "65a541e7-a0c0-47fe-8cba-23028a774666",
   "metadata": {},
   "source": [
    "## 1.1 Lớp\n",
    " Lớp là một bản thiết kế (blueprint) cho việc tạo ra các đối tượng. Mỗi lớp có thể chứa các thuộc tính (dữ liệu) và phương thức (hành vi).\n",
    " \n",
    " Cú pháp:\n",
    " \n",
    " class <tên_lớp>:\n",
    " \n",
    "    # code"
   ]
  },
  {
   "cell_type": "code",
   "execution_count": 1,
   "id": "185603be-13db-4267-a39e-08c2c19c5c57",
   "metadata": {},
   "outputs": [],
   "source": [
    "# Có thể tạo class rỗng bằng lệnh pass như bên dưới\n",
    "class Car:\n",
    "    pass"
   ]
  },
  {
   "cell_type": "code",
   "execution_count": 2,
   "id": "5ff539a8-85bc-4c98-9353-b7f910e65f16",
   "metadata": {},
   "outputs": [],
   "source": [
    "car1 = Car()"
   ]
  },
  {
   "cell_type": "code",
   "execution_count": 3,
   "id": "53fec5ab-0c3e-4878-9113-e1d11f73b3e9",
   "metadata": {},
   "outputs": [
    {
     "ename": "AttributeError",
     "evalue": "'Car' object has no attribute 'brand'",
     "output_type": "error",
     "traceback": [
      "\u001b[0;31m---------------------------------------------------------------------------\u001b[0m",
      "\u001b[0;31mAttributeError\u001b[0m                            Traceback (most recent call last)",
      "Cell \u001b[0;32mIn[3], line 1\u001b[0m\n\u001b[0;32m----> 1\u001b[0m \u001b[43mcar1\u001b[49m\u001b[38;5;241;43m.\u001b[39;49m\u001b[43mbrand\u001b[49m\n",
      "\u001b[0;31mAttributeError\u001b[0m: 'Car' object has no attribute 'brand'"
     ]
    }
   ],
   "source": [
    "car1.brand"
   ]
  },
  {
   "cell_type": "code",
   "execution_count": 4,
   "id": "dd254ae8-7ff3-4989-95e0-7a4ce0f321d8",
   "metadata": {},
   "outputs": [],
   "source": [
    "car1.brand = \"Toyota\""
   ]
  },
  {
   "cell_type": "code",
   "execution_count": 5,
   "id": "5ee562f3-79fa-44e4-b6d5-935f4388d754",
   "metadata": {},
   "outputs": [],
   "source": [
    "car1.model = \"Camry\""
   ]
  },
  {
   "cell_type": "code",
   "execution_count": 6,
   "id": "8cc486b1-ac74-491e-b99f-b06d3986b829",
   "metadata": {},
   "outputs": [],
   "source": [
    "car1.year = 2022"
   ]
  },
  {
   "cell_type": "code",
   "execution_count": 7,
   "id": "8a02ec43-cda2-4b89-96d0-fc2b309a2a8a",
   "metadata": {},
   "outputs": [
    {
     "data": {
      "text/plain": [
       "'Toyota Camry 2022'"
      ]
     },
     "execution_count": 7,
     "metadata": {},
     "output_type": "execute_result"
    }
   ],
   "source": [
    "f\"{car1.brand} {car1.model} {car1.year}\""
   ]
  },
  {
   "cell_type": "markdown",
   "id": "1027c491-bd4b-421a-a3c2-6a9a753a83e6",
   "metadata": {
    "jp-MarkdownHeadingCollapsed": true
   },
   "source": [
    "## 1.2 Constructor (initialize method)"
   ]
  },
  {
   "cell_type": "code",
   "execution_count": 8,
   "id": "a3ed8a96-440d-405f-9c1e-75d07dfa44fe",
   "metadata": {},
   "outputs": [],
   "source": [
    "class Car:\n",
    "    def __init__(self, brand, model, year):\n",
    "        self.brand = brand  \n",
    "        self.model = model\n",
    "        self.year = year"
   ]
  },
  {
   "cell_type": "code",
   "execution_count": 9,
   "id": "e49b29ac-2a26-41b6-85cc-af3b2b08fa5c",
   "metadata": {},
   "outputs": [],
   "source": [
    "car1 = Car(\"Toyota\", \"Camry\", 2022)\n",
    "car2 = Car(\"Honda\", \"Accord\", 2021)"
   ]
  },
  {
   "cell_type": "code",
   "execution_count": 10,
   "id": "85436b62-357f-49f4-b230-1d53beb7f495",
   "metadata": {},
   "outputs": [
    {
     "data": {
      "text/plain": [
       "'Honda Accord 2021'"
      ]
     },
     "execution_count": 10,
     "metadata": {},
     "output_type": "execute_result"
    }
   ],
   "source": [
    "f\"{car2.brand} {car2.model} {car2.year}\""
   ]
  },
  {
   "cell_type": "code",
   "execution_count": 11,
   "id": "cc627e23-3e54-4894-9ede-672396a25e25",
   "metadata": {},
   "outputs": [
    {
     "data": {
      "text/plain": [
       "'Toyota Camry 2022'"
      ]
     },
     "execution_count": 11,
     "metadata": {},
     "output_type": "execute_result"
    }
   ],
   "source": [
    "f\"{car1.brand} {car1.model} {car1.year}\""
   ]
  },
  {
   "cell_type": "markdown",
   "id": "0a30e369-b61b-4414-9c70-c6e669e1dd18",
   "metadata": {},
   "source": [
    "# Global attribute"
   ]
  },
  {
   "cell_type": "code",
   "execution_count": 12,
   "id": "d71ec890-87f8-41c4-8e82-162fb4d61090",
   "metadata": {},
   "outputs": [],
   "source": [
    "class Car:\n",
    "    price = \"Unknown\"\n",
    "    def __init__(self, brand, model, year):\n",
    "        self.brand = brand  \n",
    "        self.model = model\n",
    "        self.year = year"
   ]
  },
  {
   "cell_type": "code",
   "execution_count": 13,
   "id": "e6001288-0fac-4916-b5a2-2fed116361f8",
   "metadata": {},
   "outputs": [
    {
     "data": {
      "text/plain": [
       "('Unknown', 'Unknown', 'Unknown')"
      ]
     },
     "execution_count": 13,
     "metadata": {},
     "output_type": "execute_result"
    }
   ],
   "source": [
    "car1 = Car(\"Toyota\", \"Camry\", 2022)\n",
    "car2 = Car(\"Honda\", \"Accord\", 2021)\n",
    "car3 = Car(\"Ford\", \"Mustang\", 2023)\n",
    "car4 = Car(\"Chevrolet\", \"Malibu\", 2020)\n",
    "car5 = Car(\"Nissan\", \"Altima\", 2019)\n",
    "car1.price, car2.price, car3.price"
   ]
  },
  {
   "cell_type": "code",
   "execution_count": 14,
   "id": "a12464a1-a835-4f5b-afa3-3065a2a25dc7",
   "metadata": {},
   "outputs": [
    {
     "data": {
      "text/plain": [
       "(1000000, 'Unknown')"
      ]
     },
     "execution_count": 14,
     "metadata": {},
     "output_type": "execute_result"
    }
   ],
   "source": [
    "car1.price = 10**6\n",
    "car1.price, car3.price"
   ]
  },
  {
   "cell_type": "code",
   "execution_count": 15,
   "id": "7515ef03-2b6b-4a6a-a4bb-c7d3341a46ae",
   "metadata": {},
   "outputs": [
    {
     "data": {
      "text/plain": [
       "(1000000, 1000000, 1000000)"
      ]
     },
     "execution_count": 15,
     "metadata": {},
     "output_type": "execute_result"
    }
   ],
   "source": [
    "Car.price = 10**6\n",
    "car1.price, car2.price, car3.price"
   ]
  },
  {
   "cell_type": "code",
   "execution_count": 16,
   "id": "c9d0e959-d300-450c-8247-b7d908eab084",
   "metadata": {},
   "outputs": [
    {
     "data": {
      "text/plain": [
       "'Toyota'"
      ]
     },
     "execution_count": 16,
     "metadata": {},
     "output_type": "execute_result"
    }
   ],
   "source": [
    "Car.brand = \"Vin\"\n",
    "car1.brand"
   ]
  },
  {
   "cell_type": "code",
   "execution_count": 17,
   "id": "4c695d5d-5d50-4621-9a22-a99927dc66f6",
   "metadata": {},
   "outputs": [
    {
     "data": {
      "text/plain": [
       "'Nissan'"
      ]
     },
     "execution_count": 17,
     "metadata": {},
     "output_type": "execute_result"
    }
   ],
   "source": [
    "car6 = Car(\"Nissan\", \"Altima\", 2019)\n",
    "car6.brand"
   ]
  },
  {
   "cell_type": "code",
   "execution_count": 18,
   "id": "95c5be24-7063-4f97-af06-ff8abb322fc2",
   "metadata": {},
   "outputs": [],
   "source": [
    "class Car:\n",
    "    price = \"Unknown\"\n",
    "    car_index = 1\n",
    "    def __init__(self, brand, model, year):\n",
    "        self.brand = brand  \n",
    "        self.model = model\n",
    "        self.year = year\n",
    "        \n",
    "        self.car_index = Car.car_index\n",
    "        Car.car_index +=1"
   ]
  },
  {
   "cell_type": "code",
   "execution_count": 19,
   "id": "59801ced-fa26-479a-9bca-6f8920faacd1",
   "metadata": {},
   "outputs": [],
   "source": [
    "car1 = Car(\"Toyota\", \"Camry\", 2022)\n",
    "car2 = Car(\"Honda\", \"Accord\", 2021)\n",
    "car3 = Car(\"Ford\", \"Mustang\", 2023)\n",
    "car4 = Car(\"Chevrolet\", \"Malibu\", 2020)\n",
    "car5 = Car(\"Nissan\", \"Altima\", 2019)"
   ]
  },
  {
   "cell_type": "code",
   "execution_count": 20,
   "id": "bf0b17a6-3473-4ec5-8ee2-b811badb9c43",
   "metadata": {},
   "outputs": [
    {
     "name": "stdout",
     "output_type": "stream",
     "text": [
      "1\n",
      "2\n",
      "3\n",
      "4\n",
      "5\n"
     ]
    }
   ],
   "source": [
    "for car in [car1, car2, car3, car4, car5]:\n",
    "    print(car.car_index)"
   ]
  },
  {
   "cell_type": "markdown",
   "id": "926875f1-85bb-446f-ad70-9497ab481e4d",
   "metadata": {},
   "source": [
    "## 1.3 Phương thức (method)"
   ]
  },
  {
   "cell_type": "code",
   "execution_count": 25,
   "id": "42c8d64f-9767-4ee2-ab2e-ba1550a2a128",
   "metadata": {},
   "outputs": [],
   "source": [
    "class Car:\n",
    "    price = \"Unknown\"\n",
    "    car_index = 1\n",
    "    def __init__(self, brand, model, year):\n",
    "        self.brand = brand  \n",
    "        self.model = model\n",
    "        self.year = year\n",
    "        \n",
    "        self.car_index = Car.car_index\n",
    "        Car.car_index +=1\n",
    "        \n",
    "    def describe(self):\n",
    "        return f\"{self.year} {self.brand} {self.model}\""
   ]
  },
  {
   "cell_type": "code",
   "execution_count": 26,
   "id": "4d6a5973-2e87-4fe5-9e36-8b4946a0cead",
   "metadata": {},
   "outputs": [],
   "source": [
    "car1 = Car(\"Toyota\", \"Camry\", 2022)\n",
    "car2 = Car(\"Honda\", \"Accord\", 2021)"
   ]
  },
  {
   "cell_type": "code",
   "execution_count": 27,
   "id": "a2b5593f-3aa6-4cfc-af22-01c63b0efbb6",
   "metadata": {},
   "outputs": [
    {
     "data": {
      "text/plain": [
       "'2021 Honda Accord'"
      ]
     },
     "execution_count": 27,
     "metadata": {},
     "output_type": "execute_result"
    }
   ],
   "source": [
    "car2.describe()"
   ]
  },
  {
   "cell_type": "code",
   "execution_count": 28,
   "id": "3bb97076-fae3-4205-85e1-2f98618b5b73",
   "metadata": {},
   "outputs": [
    {
     "data": {
      "text/plain": [
       "'2024 Honda Accord'"
      ]
     },
     "execution_count": 28,
     "metadata": {},
     "output_type": "execute_result"
    }
   ],
   "source": [
    "car2.year = 2024\n",
    "car2.describe()"
   ]
  },
  {
   "cell_type": "markdown",
   "id": "be109e16-f842-470e-93b9-07e8424acecc",
   "metadata": {},
   "source": [
    "## Static method\n",
    "Các method không dùng đến attribute của class"
   ]
  },
  {
   "cell_type": "code",
   "execution_count": null,
   "id": "abb0daec-16c7-4b24-93c9-72789573d56e",
   "metadata": {},
   "outputs": [],
   "source": [
    "Chatbot: username, age, hobby\n",
    "Features:\n",
    "+ Give name\n",
    "+ Give hobby\n",
    "+ Weather\n",
    "+ Recommend"
   ]
  },
  {
   "cell_type": "code",
   "execution_count": null,
   "id": "7ade4633-fce2-4e77-bda9-329c5f686d9c",
   "metadata": {},
   "outputs": [],
   "source": [
    "class Chatbot:\n",
    "    def __init__(self, username, age, hobby):\n",
    "        self.username = None\n",
    "        self.age = age\n",
    "        self.hobby = None\n",
    "        \n",
    "    def give_name(self):\n",
    "        pass\n",
    "\n",
    "    def give_hobby(self):\n",
    "        pass\n",
    "\n",
    "    @staticmethod\n",
    "    def get_data_from_database():\n",
    "        # Get data\n",
    "        \n",
    "    def Recommend(self):\n",
    "        self.get_data_from_database(key_id, query_value)\n",
    "        pass"
   ]
  },
  {
   "cell_type": "code",
   "execution_count": 29,
   "id": "d249c8e5-29d9-4342-af05-dec238074f3f",
   "metadata": {},
   "outputs": [],
   "source": [
    "class Car:\n",
    "    price = \"Unknown\"\n",
    "    car_index = 1\n",
    "    def __init__(self, brand, model, year):\n",
    "        self.brand = brand  \n",
    "        self.model = model\n",
    "        self.year = year\n",
    "        \n",
    "        self.car_index = Car.car_index\n",
    "        Car.car_index +=1\n",
    "        \n",
    "    def describe(self):\n",
    "        return f\"{self.year} {self.brand} {self.model}\"\n",
    "\n",
    "    def plus(a, b):\n",
    "        return a+b"
   ]
  },
  {
   "cell_type": "code",
   "execution_count": 30,
   "id": "c57017e3-c8fe-47dd-8520-4ddfbe7bf3a4",
   "metadata": {},
   "outputs": [
    {
     "ename": "TypeError",
     "evalue": "plus() takes 2 positional arguments but 3 were given",
     "output_type": "error",
     "traceback": [
      "\u001b[0;31m---------------------------------------------------------------------------\u001b[0m",
      "\u001b[0;31mTypeError\u001b[0m                                 Traceback (most recent call last)",
      "Cell \u001b[0;32mIn[30], line 2\u001b[0m\n\u001b[1;32m      1\u001b[0m car2 \u001b[38;5;241m=\u001b[39m Car(\u001b[38;5;124m\"\u001b[39m\u001b[38;5;124mHonda\u001b[39m\u001b[38;5;124m\"\u001b[39m, \u001b[38;5;124m\"\u001b[39m\u001b[38;5;124mAccord\u001b[39m\u001b[38;5;124m\"\u001b[39m, \u001b[38;5;241m2021\u001b[39m)\n\u001b[0;32m----> 2\u001b[0m \u001b[43mcar2\u001b[49m\u001b[38;5;241;43m.\u001b[39;49m\u001b[43mplus\u001b[49m\u001b[43m(\u001b[49m\u001b[38;5;241;43m3\u001b[39;49m\u001b[43m,\u001b[49m\u001b[38;5;241;43m4\u001b[39;49m\u001b[43m)\u001b[49m\n",
      "\u001b[0;31mTypeError\u001b[0m: plus() takes 2 positional arguments but 3 were given"
     ]
    }
   ],
   "source": [
    "car2 = Car(\"Honda\", \"Accord\", 2021)\n",
    "car2.plus(3,4)"
   ]
  },
  {
   "cell_type": "code",
   "execution_count": 31,
   "id": "b700d0da-8a8f-422c-ae31-5766d12b41d7",
   "metadata": {},
   "outputs": [],
   "source": [
    "class Car:\n",
    "    price = \"Unknown\"\n",
    "    car_index = 1\n",
    "    def __init__(self, brand, model, year):\n",
    "        self.brand = brand  \n",
    "        self.model = model\n",
    "        self.year = year\n",
    "        \n",
    "        self.car_index = Car.car_index\n",
    "        Car.car_index +=1\n",
    "        \n",
    "    def describe(self):\n",
    "        return f\"{self.year} {self.brand} {self.model}\"\n",
    "\n",
    "    @staticmethod\n",
    "    def plus(a, b):\n",
    "        return a+b"
   ]
  },
  {
   "cell_type": "code",
   "execution_count": 32,
   "id": "195f80b7-1eb4-4682-8541-a8b88d57717b",
   "metadata": {},
   "outputs": [
    {
     "data": {
      "text/plain": [
       "8.2"
      ]
     },
     "execution_count": 32,
     "metadata": {},
     "output_type": "execute_result"
    }
   ],
   "source": [
    "car2 = Car(\"Honda\", \"Accord\", 2021)\n",
    "car2.plus(3.7,4.5)"
   ]
  },
  {
   "cell_type": "markdown",
   "id": "79e7c0d4-0e45-439f-821e-c9ef8e2a15b2",
   "metadata": {},
   "source": [
    "# 1.4 Classmethod"
   ]
  },
  {
   "cell_type": "markdown",
   "id": "d597080f-c40b-4ed3-82ba-77e5323bed5a",
   "metadata": {},
   "source": [
    "* Classmethod là một loại phương thức trong Python có thể được gọi trên lớp (class) mà không cần tạo ra một đối tượng (instance) của lớp đó.\n",
    "\n",
    "* Phương thức này nhận một tham số đầu tiên là cls, đại diện cho lớp hiện tại, cho phép bạn truy cập các thuộc tính và phương thức của lớp mà không cần một đối tượng cụ thể."
   ]
  },
  {
   "cell_type": "code",
   "execution_count": 34,
   "id": "741c2ae3-5a92-49f4-87f1-0c03fd960873",
   "metadata": {},
   "outputs": [],
   "source": [
    "class Car:\n",
    "    price = \"Unknown\"\n",
    "    car_index = 1\n",
    "    def __init__(self, brand, model, year):\n",
    "        self.brand = brand  \n",
    "        self.model = model\n",
    "        self.year = year\n",
    "        \n",
    "        self.car_index = Car.car_index\n",
    "        Car.car_index +=1\n",
    "    \n",
    "    def describe(self):\n",
    "        return f\"{self.year} {self.brand} {self.model}\"\n",
    "\n",
    "    @classmethod\n",
    "    def from_string(cls, car_string):\n",
    "        brand, model, year = car_string.split(\", \")\n",
    "        return cls(brand, model, int(year)).describe()"
   ]
  },
  {
   "cell_type": "code",
   "execution_count": 35,
   "id": "7395a41e-cd69-4be0-a9b0-47d816ecf4ab",
   "metadata": {},
   "outputs": [],
   "source": [
    "car = Car.from_string(\"Honda, Accord, 2021\")"
   ]
  },
  {
   "cell_type": "markdown",
   "id": "4322234a-6d27-48d0-926a-4de770674cb0",
   "metadata": {},
   "source": [
    "## 1.5 Các tính chất"
   ]
  },
  {
   "cell_type": "markdown",
   "id": "b3be5d2b-163e-4aaa-822e-15465412a60b",
   "metadata": {},
   "source": [
    "### 1.5.1 Kế thừa (Inheritance): Cho phép tạo ra lớp mới từ lớp đã có."
   ]
  },
  {
   "cell_type": "code",
   "execution_count": 36,
   "id": "db520495-c444-48da-9809-fb718f83ac69",
   "metadata": {},
   "outputs": [],
   "source": [
    "class ElectricCar(Car): \n",
    "    def __init__(self, brand, model, year, battery_size):\n",
    "        super().__init__(brand, model, year)\n",
    "        self.battery_size = battery_size\n",
    "\n",
    "    def describe_battery(self):\n",
    "        print(f\"This car has a {self.battery_size}-kWh battery.\")"
   ]
  },
  {
   "cell_type": "code",
   "execution_count": 37,
   "id": "6ae9eb0c-1d2c-47a7-99d8-811ad928ee1b",
   "metadata": {},
   "outputs": [],
   "source": [
    "electric_car = ElectricCar(\"Tesla\", \"Model 3\", 2023, 75)"
   ]
  },
  {
   "cell_type": "code",
   "execution_count": 38,
   "id": "4bfe08ce-02d5-4c11-82ee-bdd1bcf58d2f",
   "metadata": {},
   "outputs": [
    {
     "data": {
      "text/plain": [
       "'2023 Tesla Model 3'"
      ]
     },
     "execution_count": 38,
     "metadata": {},
     "output_type": "execute_result"
    }
   ],
   "source": [
    "electric_car.describe()"
   ]
  },
  {
   "cell_type": "code",
   "execution_count": 39,
   "id": "f166c679-191d-4069-87ad-ff677b2760f4",
   "metadata": {},
   "outputs": [
    {
     "name": "stdout",
     "output_type": "stream",
     "text": [
      "This car has a 75-kWh battery.\n"
     ]
    }
   ],
   "source": [
    "electric_car.describe_battery()"
   ]
  },
  {
   "cell_type": "code",
   "execution_count": 43,
   "id": "297b8fa3-c45e-48f6-92df-a28a1ef8ef9f",
   "metadata": {},
   "outputs": [
    {
     "ename": "AttributeError",
     "evalue": "'Car' object has no attribute 'describe_battery'",
     "output_type": "error",
     "traceback": [
      "\u001b[0;31m---------------------------------------------------------------------------\u001b[0m",
      "\u001b[0;31mAttributeError\u001b[0m                            Traceback (most recent call last)",
      "Cell \u001b[0;32mIn[43], line 1\u001b[0m\n\u001b[0;32m----> 1\u001b[0m \u001b[43mcar1\u001b[49m\u001b[38;5;241;43m.\u001b[39;49m\u001b[43mdescribe_battery\u001b[49m()\n",
      "\u001b[0;31mAttributeError\u001b[0m: 'Car' object has no attribute 'describe_battery'"
     ]
    }
   ],
   "source": [
    "car1.describe_battery()"
   ]
  },
  {
   "cell_type": "markdown",
   "id": "15a58fd5-7639-412d-8e3d-db29077f9cc7",
   "metadata": {},
   "source": [
    "### 1.5.2 Đa hình (Polymorphism)"
   ]
  },
  {
   "cell_type": "code",
   "execution_count": 41,
   "id": "fe51a970-a7ab-413a-bc00-27c27b4778c9",
   "metadata": {},
   "outputs": [],
   "source": [
    "class ElectricCar(Car): \n",
    "     def start_engine(self):\n",
    "        return \"The electric car has started without the sound of the engine.\"   \n",
    "         \n",
    "class GasolineCar(Car):\n",
    "    def start_engine(self):\n",
    "        return \"The gasoline car has started with the sound of the engine.\"\n",
    "\n",
    "class HybridCar(Car):\n",
    "    def start_engine(self):\n",
    "        return \"The hybrid car has started with both electric and gasoline engines.\""
   ]
  },
  {
   "cell_type": "code",
   "execution_count": 42,
   "id": "41a4d5cd-1a68-45e8-8542-1cd255ae722a",
   "metadata": {},
   "outputs": [
    {
     "name": "stdout",
     "output_type": "stream",
     "text": [
      "The electric car has started without the sound of the engine.\n",
      "The gasoline car has started with the sound of the engine.\n",
      "The hybrid car has started with both electric and gasoline engines.\n"
     ]
    }
   ],
   "source": [
    "cars = [\n",
    "    ElectricCar(\"Tesla\", \"Model 3\", 2023),\n",
    "    GasolineCar(\"Toyota\", \"Camry\", 2022),\n",
    "    HybridCar(\"Honda\", \"Accord Hybrid\", 2021)\n",
    "]\n",
    "\n",
    "for car in cars:\n",
    "    print(car.start_engine())"
   ]
  },
  {
   "cell_type": "code",
   "execution_count": 111,
   "id": "c128bbaf-2c38-46f1-8f46-83728221ef47",
   "metadata": {},
   "outputs": [
    {
     "ename": "AttributeError",
     "evalue": "'ElectricCar' object has no attribute 'describe_battery'",
     "output_type": "error",
     "traceback": [
      "\u001b[0;31m---------------------------------------------------------------------------\u001b[0m",
      "\u001b[0;31mAttributeError\u001b[0m                            Traceback (most recent call last)",
      "Cell \u001b[0;32mIn[111], line 1\u001b[0m\n\u001b[0;32m----> 1\u001b[0m \u001b[43mcars\u001b[49m\u001b[43m[\u001b[49m\u001b[38;5;241;43m0\u001b[39;49m\u001b[43m]\u001b[49m\u001b[38;5;241;43m.\u001b[39;49m\u001b[43mdescribe_battery\u001b[49m()\n",
      "\u001b[0;31mAttributeError\u001b[0m: 'ElectricCar' object has no attribute 'describe_battery'"
     ]
    }
   ],
   "source": [
    "cars[0].describe_battery()"
   ]
  },
  {
   "cell_type": "markdown",
   "id": "4bfdd640-cb3c-4810-9ae9-104da47b73a5",
   "metadata": {},
   "source": [
    "## 1.5.3 Tính đóng gói (Encapsulation)\n",
    "Đóng gói là việc giấu thông tin chi tiết của đối tượng và chỉ cho phép tương tác với đối tượng thông qua các phương thức công khai (public methods)."
   ]
  },
  {
   "cell_type": "markdown",
   "id": "5d25ded9-6b0f-4126-b3de-03648a1186d8",
   "metadata": {},
   "source": [
    "### Protected (add _ )"
   ]
  },
  {
   "cell_type": "code",
   "execution_count": 45,
   "id": "2a684bb0-f551-4c6f-a930-6dd35b2d0db6",
   "metadata": {},
   "outputs": [],
   "source": [
    "class Car:\n",
    "    def __init__(self, brand, model, year):\n",
    "        self._brand = brand  \n",
    "        self.model = model\n",
    "        self.year = year\n",
    "\n",
    "    def describe(self):\n",
    "        return f\"{self.year} {self._brand} {self.model}\"\n",
    "\n",
    "    def start(self):\n",
    "        print(f\"{self.describe()} is starting.\")"
   ]
  },
  {
   "cell_type": "code",
   "execution_count": 46,
   "id": "1e5ad350-63ab-45cc-b78b-ec80e158eb40",
   "metadata": {},
   "outputs": [
    {
     "data": {
      "text/plain": [
       "'2022 Toyota Camry'"
      ]
     },
     "execution_count": 46,
     "metadata": {},
     "output_type": "execute_result"
    }
   ],
   "source": [
    "car1 = Car(\"Toyota\", \"Camry\", 2022)\n",
    "car1.describe() "
   ]
  },
  {
   "cell_type": "code",
   "execution_count": 48,
   "id": "9edc3d2e-629f-4bf5-a5f6-57ba6a33b5d7",
   "metadata": {},
   "outputs": [
    {
     "data": {
      "text/plain": [
       "'Toyota'"
      ]
     },
     "execution_count": 48,
     "metadata": {},
     "output_type": "execute_result"
    }
   ],
   "source": [
    "car1._brand"
   ]
  },
  {
   "cell_type": "code",
   "execution_count": 42,
   "id": "185af88f-7172-4beb-a4be-b009b3144bdb",
   "metadata": {},
   "outputs": [],
   "source": [
    "class Car:\n",
    "    def __init__(self, brand, model, year):\n",
    "        self._brand = brand  \n",
    "        self.model = model\n",
    "        self.year = year\n",
    "\n",
    "    def describe(self):\n",
    "        return f\"{self.year} {self.brand} {self.model}\"\n",
    "\n",
    "    def start(self):\n",
    "        print(f\"{self.describe()} is starting.\")\n",
    "\n",
    "    # # Getter for brand\n",
    "    # def get_brand(self):\n",
    "    #     return self._brand\n",
    "\n",
    "    # # Setter for brand\n",
    "    # def set_brand(self, brand):\n",
    "    #     self._brand = brand\n",
    "\n",
    "    def describe(self):\n",
    "        return f\"{self.year} {self._brand} {self.model}\""
   ]
  },
  {
   "cell_type": "code",
   "execution_count": 43,
   "id": "a3ab28d7-658f-4881-aefb-5abef1361def",
   "metadata": {},
   "outputs": [
    {
     "data": {
      "text/plain": [
       "'2022 Toyota Camry'"
      ]
     },
     "execution_count": 43,
     "metadata": {},
     "output_type": "execute_result"
    }
   ],
   "source": [
    "car1 = Car(\"Toyota\", \"Camry\", 2022)\n",
    "car1.describe() "
   ]
  },
  {
   "cell_type": "code",
   "execution_count": 44,
   "id": "2eb3e2f3-e00c-4863-82e9-32d4bcc0c848",
   "metadata": {},
   "outputs": [
    {
     "data": {
      "text/plain": [
       "'Toyota'"
      ]
     },
     "execution_count": 44,
     "metadata": {},
     "output_type": "execute_result"
    }
   ],
   "source": [
    "car1._brand"
   ]
  },
  {
   "cell_type": "code",
   "execution_count": 41,
   "id": "ef25d623-659c-45e5-9efc-76714903499a",
   "metadata": {},
   "outputs": [
    {
     "data": {
      "text/plain": [
       "'2022 Vin Camry'"
      ]
     },
     "execution_count": 41,
     "metadata": {},
     "output_type": "execute_result"
    }
   ],
   "source": [
    "car1._brand = \"Vin\"\n",
    "car1.describe() "
   ]
  },
  {
   "cell_type": "markdown",
   "id": "253664aa-69f0-4d24-bb36-5acfde656a92",
   "metadata": {},
   "source": [
    "## Private"
   ]
  },
  {
   "cell_type": "code",
   "execution_count": 49,
   "id": "4c51c826-ae9b-4f7a-ae0a-53a050d937d6",
   "metadata": {},
   "outputs": [],
   "source": [
    "class Car:\n",
    "    def __init__(self, brand, model, year):\n",
    "        self.__brand = brand  \n",
    "        self.model = model\n",
    "        self.year = year\n",
    "\n",
    "    def describe(self):\n",
    "        return f\"{self.year} {self.__brand} {self.model}\"\n",
    "\n",
    "    def start(self):\n",
    "        print(f\"{self.describe()} is starting.\")"
   ]
  },
  {
   "cell_type": "code",
   "execution_count": 50,
   "id": "381ec661-3ecd-4d6a-b531-929ffd244781",
   "metadata": {},
   "outputs": [
    {
     "data": {
      "text/plain": [
       "'2022 Toyota Camry'"
      ]
     },
     "execution_count": 50,
     "metadata": {},
     "output_type": "execute_result"
    }
   ],
   "source": [
    "car1 = Car(\"Toyota\", \"Camry\", 2022)\n",
    "car1.describe()"
   ]
  },
  {
   "cell_type": "code",
   "execution_count": 51,
   "id": "e99fb379-9876-42c4-b1ad-2eab4231f940",
   "metadata": {},
   "outputs": [
    {
     "ename": "AttributeError",
     "evalue": "'Car' object has no attribute '__brand'",
     "output_type": "error",
     "traceback": [
      "\u001b[0;31m---------------------------------------------------------------------------\u001b[0m",
      "\u001b[0;31mAttributeError\u001b[0m                            Traceback (most recent call last)",
      "Cell \u001b[0;32mIn[51], line 1\u001b[0m\n\u001b[0;32m----> 1\u001b[0m \u001b[43mcar1\u001b[49m\u001b[38;5;241;43m.\u001b[39;49m\u001b[43m__brand\u001b[49m\n",
      "\u001b[0;31mAttributeError\u001b[0m: 'Car' object has no attribute '__brand'"
     ]
    }
   ],
   "source": [
    "car1.__brand"
   ]
  },
  {
   "cell_type": "markdown",
   "id": "f50b6b97-953d-47ca-84df-d0e1420f27ca",
   "metadata": {},
   "source": [
    "## 1.6 Getter, Setter, Deleter"
   ]
  },
  {
   "cell_type": "code",
   "execution_count": 52,
   "id": "b11899f1-781c-43a9-be16-c0c403cec2de",
   "metadata": {},
   "outputs": [],
   "source": [
    "class Car:\n",
    "    def __init__(self, brand, model, year):\n",
    "        self.brand = brand  \n",
    "        self.model = model\n",
    "        self.year = year\n",
    "        \n",
    "    def describe(self):\n",
    "        return f\"{self.year} {self.brand} {self.model}\"\n",
    "    \n",
    "    def format_brand(self):\n",
    "        return \"Brand: \" + self.brand"
   ]
  },
  {
   "cell_type": "code",
   "execution_count": 53,
   "id": "78d19227-e5d3-45cf-97a7-e6261ca36775",
   "metadata": {},
   "outputs": [
    {
     "data": {
      "text/plain": [
       "'Brand: Toyota'"
      ]
     },
     "execution_count": 53,
     "metadata": {},
     "output_type": "execute_result"
    }
   ],
   "source": [
    "car1 = Car(\"Toyota\", \"Camry\", 2022)\n",
    "car1.format_brand()"
   ]
  },
  {
   "cell_type": "code",
   "execution_count": 54,
   "id": "9ca9b0a3-d288-4b0a-9118-90d9ef88bb5f",
   "metadata": {},
   "outputs": [],
   "source": [
    "class Car:\n",
    "    def __init__(self, brand, model, year):\n",
    "        self.brand = brand  \n",
    "        self.model = model\n",
    "        self.year = year\n",
    "        \n",
    "    def describe(self):\n",
    "        return f\"{self.year} {self.brand} {self.model}\"\n",
    "\n",
    "    @property\n",
    "    def format_brand(self):\n",
    "        return \"Brand: \" + self.brand"
   ]
  },
  {
   "cell_type": "code",
   "execution_count": 55,
   "id": "b00f7513-7586-4769-a582-249296092e91",
   "metadata": {},
   "outputs": [
    {
     "data": {
      "text/plain": [
       "'Brand: Toyota'"
      ]
     },
     "execution_count": 55,
     "metadata": {},
     "output_type": "execute_result"
    }
   ],
   "source": [
    "car1 = Car(\"Toyota\", \"Camry\", 2022)\n",
    "car1.format_brand"
   ]
  },
  {
   "cell_type": "code",
   "execution_count": 56,
   "id": "2c83fa32-5040-444a-8d93-a58cf868815e",
   "metadata": {},
   "outputs": [
    {
     "ename": "AttributeError",
     "evalue": "can't set attribute",
     "output_type": "error",
     "traceback": [
      "\u001b[0;31m---------------------------------------------------------------------------\u001b[0m",
      "\u001b[0;31mAttributeError\u001b[0m                            Traceback (most recent call last)",
      "Cell \u001b[0;32mIn[56], line 1\u001b[0m\n\u001b[0;32m----> 1\u001b[0m \u001b[43mcar1\u001b[49m\u001b[38;5;241;43m.\u001b[39;49m\u001b[43mformat_brand\u001b[49m \u001b[38;5;241m=\u001b[39m \u001b[38;5;124m\"\u001b[39m\u001b[38;5;124mNew brand\u001b[39m\u001b[38;5;124m\"\u001b[39m\n",
      "\u001b[0;31mAttributeError\u001b[0m: can't set attribute"
     ]
    }
   ],
   "source": [
    "car1.format_brand = \"New brand\""
   ]
  },
  {
   "cell_type": "code",
   "execution_count": 58,
   "id": "adbab33c-d6f4-4e65-bb7c-705697f99c2b",
   "metadata": {},
   "outputs": [],
   "source": [
    "class Car:\n",
    "    def __init__(self, brand, model, year):\n",
    "        self.brand = brand  \n",
    "        self.model = model\n",
    "        self.year = year\n",
    "        \n",
    "    def describe(self):\n",
    "        return f\"{self.year} {self.brand} {self.model}\"\n",
    "\n",
    "    @property\n",
    "    def format_brand(self):\n",
    "        return \"Brand: \" + self.brand\n",
    "\n",
    "    @format_brand.setter\n",
    "    def format_brand(self, new_brand):\n",
    "        self.brand = new_brand\n",
    "\n",
    "    @format_brand.deleter\n",
    "    def format_brand(self):\n",
    "        self.brand = None"
   ]
  },
  {
   "cell_type": "code",
   "execution_count": 63,
   "id": "2e73afe8-00d3-4a55-80bb-02385d01ec7f",
   "metadata": {},
   "outputs": [
    {
     "data": {
      "text/plain": [
       "'Brand: Vin'"
      ]
     },
     "execution_count": 63,
     "metadata": {},
     "output_type": "execute_result"
    }
   ],
   "source": [
    "car1 = Car(\"Toyota\", \"Camry\", 2022)\n",
    "car1.format_brand = \"Vin\"\n",
    "car1.format_brand"
   ]
  },
  {
   "cell_type": "code",
   "execution_count": 62,
   "id": "3da55320-f732-4bb6-b7e2-6eb549aa35a2",
   "metadata": {},
   "outputs": [
    {
     "data": {
      "text/plain": [
       "'Brand: Toyota'"
      ]
     },
     "execution_count": 62,
     "metadata": {},
     "output_type": "execute_result"
    }
   ],
   "source": [
    "car1.format_brand"
   ]
  },
  {
   "cell_type": "code",
   "execution_count": 64,
   "id": "2ff05143-d9d9-4632-9183-f578b3610851",
   "metadata": {},
   "outputs": [],
   "source": [
    "del car1.format_brand"
   ]
  },
  {
   "cell_type": "code",
   "execution_count": 69,
   "id": "68380d50-3e3d-421a-96ef-453cf06b56db",
   "metadata": {},
   "outputs": [],
   "source": [
    "class Car:\n",
    "    def __init__(self, brand, model, year):\n",
    "        self.brand = brand  \n",
    "        self.model = model\n",
    "        self.year = year\n",
    "        \n",
    "    def describe(self):\n",
    "        return f\"{self.year} {self.brand} {self.model}\"\n",
    "\n",
    "    @property\n",
    "    def format_brand(self):\n",
    "        return \"Brand: \" + self.brand\n",
    "\n",
    "    @format_brand.setter\n",
    "    def format_brand(self, value):\n",
    "        if not isinstance(value, str):\n",
    "            raise ValueError(\"Brand must be a string.\")\n",
    "        self.brand = value\n",
    "\n",
    "    @format_brand.deleter\n",
    "    def format_brand(self):\n",
    "        self.brand = None"
   ]
  },
  {
   "cell_type": "code",
   "execution_count": 70,
   "id": "d1d8e164-c3be-4c1e-a052-66f812ef86eb",
   "metadata": {},
   "outputs": [
    {
     "ename": "ValueError",
     "evalue": "Brand must be a string.",
     "output_type": "error",
     "traceback": [
      "\u001b[0;31m---------------------------------------------------------------------------\u001b[0m",
      "\u001b[0;31mValueError\u001b[0m                                Traceback (most recent call last)",
      "Cell \u001b[0;32mIn[70], line 2\u001b[0m\n\u001b[1;32m      1\u001b[0m car1 \u001b[38;5;241m=\u001b[39m Car(\u001b[38;5;124m\"\u001b[39m\u001b[38;5;124mToyota\u001b[39m\u001b[38;5;124m\"\u001b[39m, \u001b[38;5;124m\"\u001b[39m\u001b[38;5;124mCamry\u001b[39m\u001b[38;5;124m\"\u001b[39m, \u001b[38;5;241m2022\u001b[39m)\n\u001b[0;32m----> 2\u001b[0m \u001b[43mcar1\u001b[49m\u001b[38;5;241;43m.\u001b[39;49m\u001b[43mformat_brand\u001b[49m \u001b[38;5;241m=\u001b[39m \u001b[38;5;241m123\u001b[39m\n",
      "Cell \u001b[0;32mIn[69], line 17\u001b[0m, in \u001b[0;36mCar.format_brand\u001b[0;34m(self, value)\u001b[0m\n\u001b[1;32m     14\u001b[0m \u001b[38;5;129m@format_brand\u001b[39m\u001b[38;5;241m.\u001b[39msetter\n\u001b[1;32m     15\u001b[0m \u001b[38;5;28;01mdef\u001b[39;00m \u001b[38;5;21mformat_brand\u001b[39m(\u001b[38;5;28mself\u001b[39m, value):\n\u001b[1;32m     16\u001b[0m     \u001b[38;5;28;01mif\u001b[39;00m \u001b[38;5;129;01mnot\u001b[39;00m \u001b[38;5;28misinstance\u001b[39m(value, \u001b[38;5;28mstr\u001b[39m):\n\u001b[0;32m---> 17\u001b[0m         \u001b[38;5;28;01mraise\u001b[39;00m \u001b[38;5;167;01mValueError\u001b[39;00m(\u001b[38;5;124m\"\u001b[39m\u001b[38;5;124mBrand must be a string.\u001b[39m\u001b[38;5;124m\"\u001b[39m)\n\u001b[1;32m     18\u001b[0m     \u001b[38;5;28mself\u001b[39m\u001b[38;5;241m.\u001b[39mbrand \u001b[38;5;241m=\u001b[39m value\n",
      "\u001b[0;31mValueError\u001b[0m: Brand must be a string."
     ]
    }
   ],
   "source": [
    "car1 = Car(\"Toyota\", \"Camry\", 2022)\n",
    "car1.format_brand = 123"
   ]
  },
  {
   "cell_type": "code",
   "execution_count": 71,
   "id": "bf655fa5-e724-4f14-9488-a8133947b6bb",
   "metadata": {},
   "outputs": [
    {
     "data": {
      "text/plain": [
       "'Brand: 123'"
      ]
     },
     "execution_count": 71,
     "metadata": {},
     "output_type": "execute_result"
    }
   ],
   "source": [
    "car1 = Car(\"Toyota\", \"Camry\", 2022)\n",
    "car1.format_brand = \"123\"\n",
    "car1.format_brand"
   ]
  },
  {
   "cell_type": "markdown",
   "id": "0f23df08-eff9-498f-909a-5d1532455a3b",
   "metadata": {},
   "source": [
    "## Ví dụ"
   ]
  },
  {
   "cell_type": "code",
   "execution_count": 12,
   "id": "a57794c5-bd8c-43fa-8bee-30db94fe4b17",
   "metadata": {},
   "outputs": [],
   "source": [
    "class Book:\n",
    "    def __init__(self, title, author, year):\n",
    "        self.title = title\n",
    "        self.author = author\n",
    "        self.year = year\n",
    "        self._is_checked_out = False  \n",
    "\n",
    "    @property\n",
    "    def is_checked_out(self):\n",
    "        return self._is_checked_out\n",
    "\n",
    "    def check_out(self):\n",
    "        if self._is_checked_out:\n",
    "            print(f\"{self.title} is already checked out.\")\n",
    "        else:\n",
    "            self._is_checked_out = True\n",
    "            print(f\"You have checked out {self.title}.\")\n",
    "\n",
    "    def return_book(self):\n",
    "        if not self._is_checked_out:\n",
    "            print(f\"{self.title} is not checked out.\")\n",
    "        else:\n",
    "            self._is_checked_out = False\n",
    "            print(f\"You have returned {self.title}.\")\n",
    "\n",
    "    def describe(self):\n",
    "        return f\"{self.title} by {self.author}, published in {self.year}. {'Checked out' if self._is_checked_out else 'Available'}\"\n",
    "\n",
    "\n",
    "class Library:\n",
    "    def __init__(self):\n",
    "        self.books = []\n",
    "\n",
    "    def add_book(self, book):\n",
    "        self.books.append(book)\n",
    "        print(f\"Added {book.title} to the library.\")\n",
    "\n",
    "    def remove_book(self, title):\n",
    "        for book in self.books:\n",
    "            if book.title == title:\n",
    "                self.books.remove(book)\n",
    "                print(f\"Removed {title} from the library.\")\n",
    "                return\n",
    "        print(f\"{title} not found in the library.\")\n",
    "\n",
    "    def find_book(self, title):\n",
    "        for book in self.books:\n",
    "            if book.title == title:\n",
    "                return book.describe()\n",
    "        return f\"{title} not found in the library.\"\n",
    "\n",
    "\n",
    "library = Library()\n",
    "\n",
    "book1 = Book(\"The Great Gatsby\", \"F. Scott Fitzgerald\", 1925)\n",
    "book2 = Book(\"1984\", \"George Orwell\", 1949)\n",
    "\n",
    "library.add_book(book1)\n",
    "library.add_book(book2)\n",
    "\n",
    "print(library.find_book(\"The Great Gatsby\"))  # Tìm sách\n",
    "book1.check_out()  # Mượn sách\n",
    "print(library.find_book(\"The Great Gatsby\"))  # Kiểm tra thông tin sách sau khi mượn\n",
    "book1.return_book()  # Trả sách\n",
    "print(library.find_book(\"1984\"))  # Kiểm tra sách khác\n",
    "library.remove_book(\"1984\")  # Xóa sách\n",
    "print(library.find_book(\"1984\"))  # Kiểm tra sách đã xóa"
   ]
  },
  {
   "cell_type": "markdown",
   "id": "370ef245-994b-45da-9123-4c1bc12c26a1",
   "metadata": {},
   "source": [
    "# BTVN\n",
    "Quản lý thông tin học sinh\n",
    "\n",
    "Yêu cầu: Tạo một chương trình quản lý thông tin học sinh, bao gồm các lớp Student và School.\n",
    "\n",
    "Chi tiết về các lớp:\n",
    "\n",
    "## Lớp Student:\n",
    "\n",
    "* Thuộc tính:\n",
    "\n",
    "name (tên học sinh)\n",
    "\n",
    "age (tuổi)\n",
    "\n",
    "grade - điểm số\n",
    "\n",
    "* Phương thức:\n",
    "\n",
    "Getter và Setter cho các thuộc tính name và age.\n",
    "\n",
    "add_grade(grade) - Thêm điểm vào danh sách điểm.\n",
    "\n",
    "calculate_average() - Tính và trả về điểm trung bình của học sinh.\n",
    "\n",
    "describe() - Mô tả thông tin của học sinh (tên, tuổi, điểm trung bình).\n",
    "\n",
    "## Lớp School:\n",
    "\n",
    "* Thuộc tính:\n",
    " \n",
    "students (danh sách các đối tượng Student).\n",
    "\n",
    "* Phương thức:\n",
    "\n",
    "add_student(student) - Thêm học sinh vào danh sách.\n",
    "\n",
    "remove_student(name) - Xóa học sinh khỏi danh sách theo tên.\n",
    "\n",
    "find_student(name) - Tìm kiếm học sinh theo tên và trả về thông tin nếu có.\n",
    "\n",
    "get_top_student() - Trả về học sinh có điểm trung bình cao nhất trong trường."
   ]
  },
  {
   "cell_type": "code",
   "execution_count": 200,
   "id": "161f67d1-2d04-46cc-9768-1f3fdcf4332f",
   "metadata": {},
   "outputs": [
    {
     "data": {
      "text/html": [
       "<div>\n",
       "<style scoped>\n",
       "    .dataframe tbody tr th:only-of-type {\n",
       "        vertical-align: middle;\n",
       "    }\n",
       "\n",
       "    .dataframe tbody tr th {\n",
       "        vertical-align: top;\n",
       "    }\n",
       "\n",
       "    .dataframe thead th {\n",
       "        text-align: right;\n",
       "    }\n",
       "</style>\n",
       "<table border=\"1\" class=\"dataframe\">\n",
       "  <thead>\n",
       "    <tr style=\"text-align: right;\">\n",
       "      <th></th>\n",
       "      <th>Name</th>\n",
       "      <th>Age</th>\n",
       "      <th>Grade</th>\n",
       "    </tr>\n",
       "  </thead>\n",
       "  <tbody>\n",
       "    <tr>\n",
       "      <th>0</th>\n",
       "      <td>Student 1</td>\n",
       "      <td>15</td>\n",
       "      <td>75.154022</td>\n",
       "    </tr>\n",
       "    <tr>\n",
       "      <th>1</th>\n",
       "      <td>Student 2</td>\n",
       "      <td>17</td>\n",
       "      <td>40.376372</td>\n",
       "    </tr>\n",
       "    <tr>\n",
       "      <th>2</th>\n",
       "      <td>Student 3</td>\n",
       "      <td>15</td>\n",
       "      <td>68.538742</td>\n",
       "    </tr>\n",
       "    <tr>\n",
       "      <th>3</th>\n",
       "      <td>Student 4</td>\n",
       "      <td>17</td>\n",
       "      <td>93.103769</td>\n",
       "    </tr>\n",
       "    <tr>\n",
       "      <th>4</th>\n",
       "      <td>Student 5</td>\n",
       "      <td>15</td>\n",
       "      <td>26.113013</td>\n",
       "    </tr>\n",
       "  </tbody>\n",
       "</table>\n",
       "</div>"
      ],
      "text/plain": [
       "        Name  Age      Grade\n",
       "0  Student 1   15  75.154022\n",
       "1  Student 2   17  40.376372\n",
       "2  Student 3   15  68.538742\n",
       "3  Student 4   17  93.103769\n",
       "4  Student 5   15  26.113013"
      ]
     },
     "execution_count": 200,
     "metadata": {},
     "output_type": "execute_result"
    }
   ],
   "source": [
    "import pandas as pd\n",
    "import numpy as np\n",
    "\n",
    "num_students = 100\n",
    "\n",
    "names = [f\"Student {i+1}\" for i in range(num_students)]\n",
    "\n",
    "# Tạo tuổi ngẫu nhiên từ 15 đến 18\n",
    "ages = np.random.randint(15, 19, size=num_students)\n",
    "\n",
    "# Tạo điểm số ngẫu nhiên từ 0 đến 100\n",
    "grades = np.random.uniform(0, 100, size=num_students)\n",
    "\n",
    "# Tạo DataFrame\n",
    "students_df = pd.DataFrame({\n",
    "    'Name': names,\n",
    "    'Age': ages,\n",
    "    'Grade': grades\n",
    "})\n",
    "\n",
    "students_df.head()"
   ]
  },
  {
   "cell_type": "code",
   "execution_count": null,
   "id": "48505adc-6e94-4749-a13e-cce49eb2f263",
   "metadata": {},
   "outputs": [],
   "source": []
  }
 ],
 "metadata": {
  "kernelspec": {
   "display_name": "Python 3 (ipykernel)",
   "language": "python",
   "name": "python3"
  },
  "language_info": {
   "codemirror_mode": {
    "name": "ipython",
    "version": 3
   },
   "file_extension": ".py",
   "mimetype": "text/x-python",
   "name": "python",
   "nbconvert_exporter": "python",
   "pygments_lexer": "ipython3",
   "version": "3.9.16"
  }
 },
 "nbformat": 4,
 "nbformat_minor": 5
}
