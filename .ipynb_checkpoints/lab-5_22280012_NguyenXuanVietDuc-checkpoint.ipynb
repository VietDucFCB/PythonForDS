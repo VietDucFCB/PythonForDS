{
 "cells": [
  {
   "metadata": {},
   "cell_type": "markdown",
   "source": [
    "# Python for Data Science\n",
    "## Lab 5:\n",
    "### Nguyen Xuan Viet Duc - 22280012"
   ],
   "id": "db234c0b749ff15b"
  },
  {
   "metadata": {
    "ExecuteTime": {
     "end_time": "2024-11-10T14:13:34.694830Z",
     "start_time": "2024-11-10T14:13:33.180840Z"
    }
   },
   "cell_type": "code",
   "source": [
    "from sklearn.datasets import load_iris\n",
    "\n",
    "iris = load_iris()\n",
    "X = iris.data\n",
    "Y = iris.target"
   ],
   "id": "e11a2c2c867047d",
   "outputs": [],
   "execution_count": 1
  },
  {
   "metadata": {
    "ExecuteTime": {
     "end_time": "2024-11-10T14:13:42.295476Z",
     "start_time": "2024-11-10T14:13:42.136570Z"
    }
   },
   "cell_type": "code",
   "source": [
    "from sklearn.model_selection import train_test_split\n",
    "\n",
    "x_train, x_val, y_train, y_val = train_test_split(X, Y, test_size=0.33, random_state=42)\n",
    "x_val, x_test, y_val, y_test = train_test_split(x_val, y_val, test_size=0.15, random_state=42)"
   ],
   "id": "844628105fb308a0",
   "outputs": [],
   "execution_count": 2
  },
  {
   "metadata": {
    "ExecuteTime": {
     "end_time": "2024-11-10T14:20:48.251377Z",
     "start_time": "2024-11-10T14:20:48.245810Z"
    }
   },
   "cell_type": "code",
   "source": [
    "import torch\n",
    "from torch.utils.data import DataLoader, Dataset\n",
    "\n",
    "class Data(Dataset):\n",
    "    def __init__(self, X, y):\n",
    "        self.x=torch.from_numpy(X)\n",
    "        self.y=torch.from_numpy(y)\n",
    "        self.len=self.x.shape[0]\n",
    "    def __getitem__(self,index):\n",
    "        return self.x[index], self.y[index]\n",
    "    def __len__(self):\n",
    "        return self.len"
   ],
   "id": "771857cd8dc0be84",
   "outputs": [],
   "execution_count": 5
  },
  {
   "metadata": {
    "ExecuteTime": {
     "end_time": "2024-11-10T14:26:43.071498Z",
     "start_time": "2024-11-10T14:26:43.059828Z"
    }
   },
   "cell_type": "code",
   "source": [
    "train_dataset = Data(x_train, y_train)\n",
    "train_loader = DataLoader(dataset=train_dataset,batch_size=64)\n",
    "\n",
    "val_dataset = Data(x_train, y_train)\n",
    "val_loader = DataLoader(dataset=val_dataset,batch_size=64)\n",
    "\n",
    "test_dataset = Data(x_train, y_train)\n",
    "test_loader = DataLoader(dataset=test_dataset,batch_size=64)"
   ],
   "id": "d6bc42f674073835",
   "outputs": [],
   "execution_count": 7
  },
  {
   "metadata": {
    "ExecuteTime": {
     "end_time": "2024-11-10T14:27:33.264855Z",
     "start_time": "2024-11-10T14:27:33.243288Z"
    }
   },
   "cell_type": "code",
   "source": [
    "import torch.nn as nn\n",
    "\n",
    "class Net(nn.Module):\n",
    "    def __init__(self,D_in,H,D_out):\n",
    "        super(Net,self).__init__()\n",
    "        self.linear1=nn.Linear(D_in,H)\n",
    "        self.linear2=nn.Linear(H,D_out)\n",
    "\n",
    "    def forward(self,x):\n",
    "        x=torch.sigmoid(self.linear1(x))\n",
    "        x=self.linear2(x)\n",
    "        return x"
   ],
   "id": "ead296434bb4572",
   "outputs": [],
   "execution_count": 8
  },
  {
   "metadata": {
    "ExecuteTime": {
     "end_time": "2024-11-10T14:27:51.228372Z",
     "start_time": "2024-11-10T14:27:51.181002Z"
    }
   },
   "cell_type": "code",
   "source": [
    "input_dim = 4\n",
    "hidden_dim = 25\n",
    "output_dim = 3\n",
    "model = Net(input_dim,hidden_dim,output_dim)"
   ],
   "id": "ba76fb63d13f38bf",
   "outputs": [],
   "execution_count": 9
  },
  {
   "metadata": {},
   "cell_type": "code",
   "outputs": [],
   "execution_count": null,
   "source": "",
   "id": "c05643514e03facf"
  }
 ],
 "metadata": {
  "kernelspec": {
   "display_name": "Python 3",
   "language": "python",
   "name": "python3"
  },
  "language_info": {
   "codemirror_mode": {
    "name": "ipython",
    "version": 2
   },
   "file_extension": ".py",
   "mimetype": "text/x-python",
   "name": "python",
   "nbconvert_exporter": "python",
   "pygments_lexer": "ipython2",
   "version": "2.7.6"
  }
 },
 "nbformat": 4,
 "nbformat_minor": 5
}
