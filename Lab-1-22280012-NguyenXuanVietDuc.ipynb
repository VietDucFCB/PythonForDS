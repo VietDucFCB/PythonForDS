{
 "cells": [
  {
   "cell_type": "markdown",
   "id": "e9ad3a32-3ca9-420d-8513-48f930c8a0ae",
   "metadata": {},
   "source": [
    "## Nguyễn Xuân Việt Đức\n",
    "## 22280012 - 22KDL1"
   ]
  },
  {
   "cell_type": "markdown",
   "id": "2a0fcf93-6cd2-453e-802c-82b7b6c2a430",
   "metadata": {
    "id": "2a0fcf93-6cd2-453e-802c-82b7b6c2a430"
   },
   "source": [
    "# Lab01 – Basics Syntax\n",
    "### Deadline : 22/09/2024"
   ]
  },
  {
   "cell_type": "markdown",
   "id": "82d14bb7-2ff5-4104-90fd-9d3096fdb26b",
   "metadata": {
    "id": "82d14bb7-2ff5-4104-90fd-9d3096fdb26b"
   },
   "source": [
    "**Link nộp bài**\n",
    "https://docs.google.com/forms/d/1FHFKlyenBq6Ia3jYGdniNJK_pdEWjnR6GzmmA10YBSU"
   ]
  },
  {
   "cell_type": "markdown",
   "id": "da1a9693-02cf-49c8-8e51-6a16e9b738d7",
   "metadata": {
    "id": "da1a9693-02cf-49c8-8e51-6a16e9b738d7"
   },
   "source": [
    "### Mục tiêu\n",
    "\n",
    "Nắm được các kiến thức sau:\n",
    "\n",
    "* Biến, kiểu dữ liệu, phép toán\n",
    "* Chuỗi và xử lý chuỗi\n",
    "* Nhập xuất dữ liệu\n"
   ]
  },
  {
   "cell_type": "markdown",
   "id": "c860fe18-2410-4113-912f-8ac1e72b7f90",
   "metadata": {
    "id": "c860fe18-2410-4113-912f-8ac1e72b7f90"
   },
   "source": [
    "### Yêu cầu"
   ]
  },
  {
   "cell_type": "markdown",
   "id": "41542702-c9d8-447e-b9f6-b137b7492b71",
   "metadata": {
    "id": "41542702-c9d8-447e-b9f6-b137b7492b71"
   },
   "source": [
    "1. Đoạn code sau sẽ đọc hai số nguyên từ user. Update code để in ra ba dòng như sau:\n",
    "* Dòng đầu tiên chứa tổng của hai số.\n",
    "* Dòng thứ hai chứa hiệu của hai số (số thứ nhất trừ số thứ hai).\n",
    "* Dòng thứ ba chứa tích của hai số."
   ]
  },
  {
   "cell_type": "code",
   "execution_count": 10,
   "id": "b1e0cb40-81b8-4f51-8b7d-bedbc86dbc00",
   "metadata": {
    "id": "b1e0cb40-81b8-4f51-8b7d-bedbc86dbc00"
   },
   "outputs": [
    {
     "name": "stdin",
     "output_type": "stream",
     "text": [
      "Hãy nhập số nguyên a:\n",
      " 10\n",
      "Hãy nhập số nguyên b:\n",
      " 5\n"
     ]
    }
   ],
   "source": [
    "a = int(input(\"Hãy nhập số nguyên a:\\n\"))\n",
    "b = int(input(\"Hãy nhập số nguyên b:\\n\"))"
   ]
  },
  {
   "cell_type": "code",
   "execution_count": 12,
   "id": "f63d2f36-6374-4669-a34a-5170b6d80e29",
   "metadata": {
    "id": "f63d2f36-6374-4669-a34a-5170b6d80e29"
   },
   "outputs": [
    {
     "name": "stdout",
     "output_type": "stream",
     "text": [
      "Tổng a và b là: 15\n",
      "Hiệu của a và b là: 5\n",
      "Tích của a và b là: 50\n"
     ]
    }
   ],
   "source": [
    "print(\"Tổng a và b là:\", a+b)\n",
    "print(\"Hiệu của a và b là:\", a-b)\n",
    "print(\"Tích của a và b là:\", a*b)"
   ]
  },
  {
   "cell_type": "markdown",
   "id": "05e2f9b2-1115-4567-9a67-a244c4ad7aed",
   "metadata": {
    "id": "05e2f9b2-1115-4567-9a67-a244c4ad7aed"
   },
   "source": [
    "2. Viết đoạn code hỏi user tên, tuổi và quốc gia của họ, sau đó sử dụng phương pháp format chuỗi để hiển thị thông tin theo mẫu:\n",
    "```\n",
    "Tên: {username}\n",
    "Tuổi: {age}\n",
    "Quốc gia: {country}\n",
    "```"
   ]
  },
  {
   "cell_type": "code",
   "execution_count": 15,
   "id": "5a5a56b0-e75e-47c9-934b-d1aa1de0884d",
   "metadata": {
    "id": "5a5a56b0-e75e-47c9-934b-d1aa1de0884d"
   },
   "outputs": [
    {
     "name": "stdin",
     "output_type": "stream",
     "text": [
      "Nhập tên của bạn: Đức\n",
      "Nhập tuổi của bạn: 20\n",
      "Nhập quốc gia của bạn: Việt Nam\n"
     ]
    }
   ],
   "source": [
    "name = input(\"Nhập tên của bạn:\")\n",
    "age = input(\"Nhập tuổi của bạn:\")\n",
    "country = input(\"Nhập quốc gia của bạn:\")"
   ]
  },
  {
   "cell_type": "code",
   "execution_count": 17,
   "id": "14769617-243f-4cbb-9e37-c8efc843c14a",
   "metadata": {},
   "outputs": [
    {
     "name": "stdout",
     "output_type": "stream",
     "text": [
      "Tên: Đức\n",
      "Tuổi: 20\n",
      "Quốc gia: Việt Nam\n"
     ]
    }
   ],
   "source": [
    "print(f\"Tên: {name}\\nTuổi: {age}\\nQuốc gia: {country}\")"
   ]
  },
  {
   "cell_type": "markdown",
   "id": "edd7a8c7-69bc-4b15-871c-1d6c5fc6e37f",
   "metadata": {
    "id": "edd7a8c7-69bc-4b15-871c-1d6c5fc6e37f"
   },
   "source": [
    "3. Viết đoạn code thực hiện các yêu cầu sau:\n",
    "* Yêu cầu người dùng nhập tên sinh viên.\n",
    "* Yêu cầu người dùng nhập điểm cho các môn học: Toán, Lý, Hóa\n",
    "* Tính và in ra điểm trung bình của sinh viên.\n",
    "* In bảng kết quả với định dạng như sau:\n",
    "Căn chỉnh cột: tên sinh viên, điểm từng môn học, điểm trung bình.\n",
    "Điểm được định dạng với 2 chữ số thập phân.\n",
    "Dùng \"\\t|\\t\" phân cách giữa các cột.\n",
    "\n",
    "* Output mẫu **\n",
    "```\n",
    "Nhập tên sinh viên: Nguyễn Văn A\n",
    "\n",
    "Nhập điểm Toán: 8.0\n",
    "\n",
    "Nhập điểm Lý: 7.5\n",
    "\n",
    "Nhập điểm Hóa: 9.0\n",
    "\n",
    "Điểm trung bình: 7.75\n",
    "\n",
    "Tên sinh viên\t|\tToán\t|\tLý\t|\tHoá\t|\tĐiểm trung bình\n",
    "Nguyễn Văn A\t|\t8.00\t|\t7.50\t|\t9.00\t|\t8.17\n",
    "```"
   ]
  },
  {
   "cell_type": "code",
   "execution_count": 26,
   "id": "cd74fe6e-7283-42fe-a1fa-b02708ee916e",
   "metadata": {
    "id": "cd74fe6e-7283-42fe-a1fa-b02708ee916e"
   },
   "outputs": [
    {
     "name": "stdin",
     "output_type": "stream",
     "text": [
      "Nhập tên sinh viên: Nguyễn Xuân Việt Đức\n",
      "\n",
      "Nhập điểm toán: 9.0\n",
      "\n",
      "Nhập điểm lý: 8.75\n",
      "\n",
      "Nhập điểm hóa: 9.25\n"
     ]
    },
    {
     "name": "stdout",
     "output_type": "stream",
     "text": [
      "\n",
      "Điểm trung bình: 9.00\n",
      "\n",
      "Tên sinh viên      \t|\tToán \t|\tLý   \t|\tHóa  \t|\tĐiểm trung bình\n",
      "Nguyễn Xuân Việt Đức\t|\t9.00 \t|\t8.75 \t|\t9.25 \t|\t9.00 \n"
     ]
    }
   ],
   "source": [
    "student = input(\"Nhập tên sinh viên:\")\n",
    "math = float(input(\"\\nNhập điểm toán:\"))\n",
    "physic = float(input(\"\\nNhập điểm lý:\"))\n",
    "chemistry = float(input(\"\\nNhập điểm hóa:\"))\n",
    "\n",
    "avg = (math + physic + chemistry) / 3\n",
    "print(\"\\nĐiểm trung bình: {:.2f}\".format(avg))\n",
    "\n",
    "print(f\"{'\\nTên sinh viên':<20}\\t|\\t{'Toán':<5}\\t|\\t{'Lý':<5}\\t|\\t{'Hóa':<5}\\t|\\t{'Điểm trung bình':<5}\")\n",
    "print(f\"{student:<20}\\t|\\t{math:<5.2f}\\t|\\t{physic:<5.2f}\\t|\\t{chemistry:<5.2f}\\t|\\t{avg:<5.2f}\")"
   ]
  }
 ],
 "metadata": {
  "colab": {
   "provenance": []
  },
  "kernelspec": {
   "display_name": "Python 3 (ipykernel)",
   "language": "python",
   "name": "python3"
  },
  "language_info": {
   "codemirror_mode": {
    "name": "ipython",
    "version": 3
   },
   "file_extension": ".py",
   "mimetype": "text/x-python",
   "name": "python",
   "nbconvert_exporter": "python",
   "pygments_lexer": "ipython3",
   "version": "3.12.4"
  }
 },
 "nbformat": 4,
 "nbformat_minor": 5
}
