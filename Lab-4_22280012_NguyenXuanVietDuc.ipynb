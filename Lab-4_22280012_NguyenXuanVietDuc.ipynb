{
 "cells": [
  {
   "cell_type": "markdown",
   "id": "8c8ef6b4-c680-4995-bd58-5b06b1e934e7",
   "metadata": {},
   "source": [
    "# Python for Data Science\n",
    "## Lab 4:\n",
    "### Nguyen Xuan Viet Duc - 22280012"
   ]
  },
  {
   "cell_type": "code",
   "execution_count": 5,
   "id": "768d5d39-1999-44c6-98a4-a361edb9a6cc",
   "metadata": {},
   "outputs": [
    {
     "name": "stdout",
     "output_type": "stream",
     "text": [
      "Danh sách học sinh ban đầu:\n",
      "        Name  Age  Average Grade\n",
      "0  Student 1   17      54.814025\n",
      "1  Student 2   17      25.684364\n",
      "2  Student 3   15      51.883859\n",
      "3  Student 4   18      50.377076\n",
      "4  Student 5   15      61.280271\n",
      "\n",
      "Tìm Student 3:\n",
      "Name: Student 3, Age: 15, Average Grade: 51.88\n",
      "\n",
      "Học sinh có điểm trung bình cao nhất:\n",
      "Name: Student 5, Age: 15, Average Grade: 61.28\n",
      "\n",
      "Danh sách học sinh sau khi xóa Student 2:\n",
      "        Name  Age  Average Grade\n",
      "0  Student 1   17      54.814025\n",
      "1  Student 3   15      51.883859\n",
      "2  Student 4   18      50.377076\n",
      "3  Student 5   15      61.280271\n"
     ]
    }
   ],
   "source": ""
  },
  {
   "cell_type": "code",
   "execution_count": null,
   "id": "4b55759e-f5fb-499e-a501-01dbdf036065",
   "metadata": {},
   "outputs": [],
   "source": []
  }
 ],
 "metadata": {
  "kernelspec": {
   "display_name": "Python 3 (ipykernel)",
   "language": "python",
   "name": "python3"
  },
  "language_info": {
   "codemirror_mode": {
    "name": "ipython",
    "version": 3
   },
   "file_extension": ".py",
   "mimetype": "text/x-python",
   "name": "python",
   "nbconvert_exporter": "python",
   "pygments_lexer": "ipython3",
   "version": "3.12.4"
  }
 },
 "nbformat": 4,
 "nbformat_minor": 5
}
