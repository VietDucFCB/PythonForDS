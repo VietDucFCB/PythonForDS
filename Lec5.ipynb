{
 "cells": [
  {
   "cell_type": "code",
   "execution_count": 1,
   "metadata": {
    "colab": {
     "base_uri": "https://localhost:8080/"
    },
    "id": "rXATp0Hzs3ON",
    "outputId": "20a6b8bd-8a53-4aed-b46d-0484637e7fd1"
   },
   "outputs": [
    {
     "name": "stdout",
     "output_type": "stream",
     "text": [
      "Sun Nov 10 20:36:30 2024       \n",
      "+---------------------------------------------------------------------------------------+\n",
      "| NVIDIA-SMI 531.79                 Driver Version: 531.79       CUDA Version: 12.1     |\n",
      "|-----------------------------------------+----------------------+----------------------+\n",
      "| GPU  Name                      TCC/WDDM | Bus-Id        Disp.A | Volatile Uncorr. ECC |\n",
      "| Fan  Temp  Perf            Pwr:Usage/Cap|         Memory-Usage | GPU-Util  Compute M. |\n",
      "|                                         |                      |               MIG M. |\n",
      "|=========================================+======================+======================|\n",
      "|   0  NVIDIA GeForce GTX 1650       WDDM | 00000000:01:00.0 Off |                  N/A |\n",
      "| N/A   47C    P0               12W /  N/A|      0MiB /  4096MiB |      0%      Default |\n",
      "|                                         |                      |                  N/A |\n",
      "+-----------------------------------------+----------------------+----------------------+\n",
      "                                                                                         \n",
      "+---------------------------------------------------------------------------------------+\n",
      "| Processes:                                                                            |\n",
      "|  GPU   GI   CI        PID   Type   Process name                            GPU Memory |\n",
      "|        ID   ID                                                             Usage      |\n",
      "|=======================================================================================|\n",
      "|  No running processes found                                                           |\n",
      "+---------------------------------------------------------------------------------------+\n"
     ]
    }
   ],
   "source": [
    "!nvidia-smi"
   ]
  },
  {
   "cell_type": "code",
   "execution_count": 3,
   "metadata": {
    "colab": {
     "base_uri": "https://localhost:8080/"
    },
    "id": "yMHFaw7ctA3w",
    "outputId": "02d0f5d2-66c5-4026-b9aa-856b67a8cb05"
   },
   "outputs": [
    {
     "ename": "ModuleNotFoundError",
     "evalue": "No module named 'google.colab'",
     "output_type": "error",
     "traceback": [
      "\u001B[1;31m---------------------------------------------------------------------------\u001B[0m",
      "\u001B[1;31mModuleNotFoundError\u001B[0m                       Traceback (most recent call last)",
      "Cell \u001B[1;32mIn[3], line 1\u001B[0m\n\u001B[1;32m----> 1\u001B[0m \u001B[38;5;28;01mfrom\u001B[39;00m \u001B[38;5;21;01mgoogle\u001B[39;00m\u001B[38;5;21;01m.\u001B[39;00m\u001B[38;5;21;01mcolab\u001B[39;00m \u001B[38;5;28;01mimport\u001B[39;00m driveza\n\u001B[0;32m      2\u001B[0m drive\u001B[38;5;241m.\u001B[39mmount(\u001B[38;5;124m'\u001B[39m\u001B[38;5;124m/content/drive\u001B[39m\u001B[38;5;124m'\u001B[39m)\n",
      "\u001B[1;31mModuleNotFoundError\u001B[0m: No module named 'google.colab'"
     ]
    }
   ],
   "source": [
    "from google.colab import driveza\n",
    "\n",
    "drive.mount('/content/drive')\n"
   ]
  },
  {
   "cell_type": "markdown",
   "metadata": {
    "id": "zEWEOpbtt9hc"
   },
   "source": [
    "# 1. Giới thiệu\n",
    "## 1.1 Keras\n",
    "- Phát triển bởi Google\n",
    "- Static computational graphs (trước Tensorflow 2.0): Xây dựng đồ thị trước khi chạy, tối ưu hóa tốt hơn cho triển khai, nhưng phức tạp hơn khi debug.\n",
    "- Từ TensorFlow 2.0: Hỗ trợ cả đồ thị tính toán động (Eager Execution), cải thiện sự linh hoạt.\n",
    "## 1.2 Tensorflow\n",
    "- Từ TensorFlow 2.0, Keras trở thành API mặc định của TensorFlow.\n",
    "- Nhiều hàm hỗ trợ xây dựng mô hình nhanh mà không cần biết quá nhiều chi tiết kỹ thuật.\n",
    "- Hỗ trợ scalability và deployment cho thích hợp để build những model lớn\n",
    "## 1.3 Pytorch\n",
    "- Phát triển bởi Facebook\n",
    "- Dynamic computational graphs (trước Tensorflow 2.0): Xây dựng đồ thị trong khi chạy, dễ debug.\n",
    "\n",
    "=> Về lý thuyết, TensorFlow phù hợp hơn trong production, đặc biệt trong việc triển khai, cập nhật, và duy trì mô hình, rất thích hợp cho các ứng dụng công nghiệp.\n",
    "\n",
    "=> PyTorch phù hợp khi xây dựng các mô hình phức tạp hoặc custom mô hình có sẵn. Tuy nhiên Pytorch gần đây đã trở nên phổ biến nhờ các thư viện và mô hình nghiên cứu như Transformers hay timm, dẫn đến nhiều bản phát hành mới hơn dành cho nó.\n",
    "\n",
    "=> Hiện nay Pytorch được dùng nhiều hơn\n"
   ]
  },
  {
   "cell_type": "code",
   "metadata": {
    "editable": true,
    "id": "6Y5sBx0ltNvh",
    "slideshow": {
     "slide_type": ""
    },
    "tags": [],
    "ExecuteTime": {
     "end_time": "2024-11-10T13:44:37.398488Z",
     "start_time": "2024-11-10T13:44:33.580504Z"
    }
   },
   "source": [
    "import torch"
   ],
   "outputs": [],
   "execution_count": 1
  },
  {
   "cell_type": "markdown",
   "metadata": {
    "id": "69uAeLmBxkIp"
   },
   "source": "# 2. Tensor: tương tự np.array"
  },
  {
   "cell_type": "code",
   "metadata": {
    "id": "jjWXCVaUyIpt",
    "ExecuteTime": {
     "end_time": "2024-11-10T13:44:48.424783Z",
     "start_time": "2024-11-10T13:44:48.419447Z"
    }
   },
   "source": [
    "import numpy as np"
   ],
   "outputs": [],
   "execution_count": 2
  },
  {
   "cell_type": "code",
   "metadata": {
    "id": "Sre090lzi_jl",
    "ExecuteTime": {
     "end_time": "2024-11-10T13:44:49.784701Z",
     "start_time": "2024-11-10T13:44:49.725140Z"
    }
   },
   "source": [
    "# Tạo một Tensor từ list cho trước sử dụng torch.Tensor\n",
    "t = torch.Tensor([[6,7,8],[8,9,10]])\n",
    "n = np.array([[6,7,8],[8,9,10]])"
   ],
   "outputs": [],
   "execution_count": 3
  },
  {
   "cell_type": "code",
   "metadata": {
    "id": "DE3SsYFyjAo2",
    "ExecuteTime": {
     "end_time": "2024-11-10T13:44:50.507333Z",
     "start_time": "2024-11-10T13:44:50.497272Z"
    }
   },
   "source": [
    "# Tạo một Tensor với kích thước (3, 4) và giá trị ngẫu nhiên tuân theo phân phối chuẩn với trung vị 0, phương sai 1\n",
    "t = torch.randn(3, 4)\n",
    "n = np.random.randn(3, 4)"
   ],
   "outputs": [],
   "execution_count": 4
  },
  {
   "cell_type": "code",
   "metadata": {
    "id": "54XA-FQujBqr",
    "ExecuteTime": {
     "end_time": "2024-11-10T13:44:51.178179Z",
     "start_time": "2024-11-10T13:44:51.168169Z"
    }
   },
   "source": [
    "# Tạo một Tensor với kích thước (3, 4) và tất cả phần tử đều bằng 1\n",
    "t = torch.ones(3, 4)\n",
    "n = np.ones((3, 4))"
   ],
   "outputs": [],
   "execution_count": 5
  },
  {
   "cell_type": "code",
   "metadata": {
    "id": "KfueGsh-jCnJ",
    "ExecuteTime": {
     "end_time": "2024-11-10T13:44:52.113268Z",
     "start_time": "2024-11-10T13:44:52.106045Z"
    }
   },
   "source": [
    "# Tạo một Tensor với kích thước (3, 4) và tất cả phần tử đều bằng 0\n",
    "t = torch.zeros(3, 4)\n",
    "n = np.zeros((3, 4))"
   ],
   "outputs": [],
   "execution_count": 6
  },
  {
   "cell_type": "code",
   "metadata": {
    "id": "g9Uwes4ljD21",
    "ExecuteTime": {
     "end_time": "2024-11-10T13:44:52.827792Z",
     "start_time": "2024-11-10T13:44:52.816651Z"
    }
   },
   "source": [
    "# Tạo một Tensor với kích thước (3, 4) và giá trị ngẫu nhiên trong khoảng từ 0 -> 20\n",
    "t = torch.randint(low=0, high=20, size=(3, 4))\n",
    "n = np.random.randint(low=0, high=20, size=(3, 4))"
   ],
   "outputs": [],
   "execution_count": 7
  },
  {
   "cell_type": "code",
   "metadata": {
    "id": "Oh803v_GjE9s",
    "ExecuteTime": {
     "end_time": "2024-11-10T13:44:53.627665Z",
     "start_time": "2024-11-10T13:44:53.621628Z"
    }
   },
   "source": [
    "# Sử dụng torch.from_numpy để chuyển đổi từ NumPy array sang Tensor\n",
    "a = np.array([[6,7,8],[8,9,10]])\n",
    "t = torch.from_numpy(a)"
   ],
   "outputs": [],
   "execution_count": 8
  },
  {
   "cell_type": "code",
   "metadata": {
    "id": "lNdYnmTWjGCc",
    "ExecuteTime": {
     "end_time": "2024-11-10T13:44:54.233648Z",
     "start_time": "2024-11-10T13:44:54.220415Z"
    }
   },
   "source": [
    "# Hoặc torch.as_tensor (dùng được cho list)\n",
    "t = torch.as_tensor(a)"
   ],
   "outputs": [],
   "execution_count": 9
  },
  {
   "cell_type": "code",
   "metadata": {
    "colab": {
     "base_uri": "https://localhost:8080/"
    },
    "id": "ZMFDQxJrjHX2",
    "outputId": "ea561a5f-3020-4fa5-b6f2-8b2681a990d4",
    "ExecuteTime": {
     "end_time": "2024-11-10T13:44:55.153709Z",
     "start_time": "2024-11-10T13:44:55.130990Z"
    }
   },
   "source": [
    "# Sử dụng .numpy() để chuyển đổi từ Tensor sang NumPy array\n",
    "t.numpy()"
   ],
   "outputs": [
    {
     "data": {
      "text/plain": [
       "array([[ 6,  7,  8],\n",
       "       [ 8,  9, 10]])"
      ]
     },
     "execution_count": 10,
     "metadata": {},
     "output_type": "execute_result"
    }
   ],
   "execution_count": 10
  },
  {
   "cell_type": "markdown",
   "metadata": {
    "id": "JNqJm_YIzC_N"
   },
   "source": [
    "## 2.1 Tensor operations"
   ]
  },
  {
   "cell_type": "code",
   "metadata": {
    "id": "bwsVoJvszWwH",
    "ExecuteTime": {
     "end_time": "2024-11-10T13:44:57.190896Z",
     "start_time": "2024-11-10T13:44:57.185375Z"
    }
   },
   "source": [
    "# Tạo 2 ma trận ngẫu nhiên\n",
    "t = torch.randn(2, 4)\n",
    "n = torch.randn(2, 4)"
   ],
   "outputs": [],
   "execution_count": 11
  },
  {
   "cell_type": "code",
   "metadata": {
    "colab": {
     "base_uri": "https://localhost:8080/"
    },
    "id": "wzXIVABqzYH2",
    "outputId": "37f6ae6c-d55b-41eb-dec1-3fce5496c145",
    "ExecuteTime": {
     "end_time": "2024-11-10T13:44:57.749318Z",
     "start_time": "2024-11-10T13:44:57.648286Z"
    }
   },
   "source": [
    "# Nhân 2 ma trận sử dụng .mm trong PyTorch\n",
    "print(A.mm(W))\n",
    "print(np.dot(A.numpy(), W.numpy()))"
   ],
   "outputs": [
    {
     "ename": "NameError",
     "evalue": "name 'A' is not defined",
     "output_type": "error",
     "traceback": [
      "\u001B[1;31m---------------------------------------------------------------------------\u001B[0m",
      "\u001B[1;31mNameError\u001B[0m                                 Traceback (most recent call last)",
      "Cell \u001B[1;32mIn[12], line 2\u001B[0m\n\u001B[0;32m      1\u001B[0m \u001B[38;5;66;03m# Nhân 2 ma trận sử dụng .mm trong PyTorch\u001B[39;00m\n\u001B[1;32m----> 2\u001B[0m \u001B[38;5;28mprint\u001B[39m(\u001B[43mA\u001B[49m\u001B[38;5;241m.\u001B[39mmm(W))\n\u001B[0;32m      3\u001B[0m \u001B[38;5;28mprint\u001B[39m(np\u001B[38;5;241m.\u001B[39mdot(A\u001B[38;5;241m.\u001B[39mnumpy(), W\u001B[38;5;241m.\u001B[39mnumpy()))\n",
      "\u001B[1;31mNameError\u001B[0m: name 'A' is not defined"
     ]
    }
   ],
   "execution_count": 12
  },
  {
   "cell_type": "code",
   "metadata": {
    "colab": {
     "base_uri": "https://localhost:8080/"
    },
    "id": "pSbfUJQ5zaqq",
    "outputId": "32682f83-00da-4bcf-eb44-1f303c130569",
    "ExecuteTime": {
     "end_time": "2024-11-10T13:53:17.971680Z",
     "start_time": "2024-11-10T13:53:17.793065Z"
    }
   },
   "source": [
    "# Ma trận chuyển vị trong PyTorch\n",
    "t = t.t()\n",
    "n = n.T\n",
    "print(t.shape)\n",
    "print(n.shape)"
   ],
   "outputs": [
    {
     "name": "stdout",
     "output_type": "stream",
     "text": [
      "torch.Size([4, 2])\n",
      "torch.Size([4, 2])\n"
     ]
    }
   ],
   "execution_count": 13
  },
  {
   "cell_type": "code",
   "metadata": {
    "colab": {
     "base_uri": "https://localhost:8080/"
    },
    "id": "68R1soVIzwTt",
    "outputId": "bc4c597b-64b4-49bb-91d1-d911eb65f9db",
    "ExecuteTime": {
     "end_time": "2024-11-10T13:53:19.919882Z",
     "start_time": "2024-11-10T13:53:19.891158Z"
    }
   },
   "source": [
    "# Bình phương mỗi giá trị trong Tensor\n",
    "t = t**2\n",
    "print(t)\n",
    "# Tương ứng trong NumPy\n",
    "n = n**2\n",
    "print(n)"
   ],
   "outputs": [
    {
     "name": "stdout",
     "output_type": "stream",
     "text": [
      "tensor([[0.2237, 0.4562],\n",
      "        [2.1023, 2.1651],\n",
      "        [0.2226, 1.4709],\n",
      "        [0.2313, 1.5645]])\n",
      "tensor([[0.0115, 1.1098],\n",
      "        [0.1224, 2.8221],\n",
      "        [1.0059, 1.4565],\n",
      "        [0.0381, 1.2317]])\n"
     ]
    }
   ],
   "execution_count": 14
  },
  {
   "cell_type": "code",
   "metadata": {
    "colab": {
     "base_uri": "https://localhost:8080/"
    },
    "id": "sVoAS7KkzytE",
    "outputId": "a18fd3ab-4fae-430f-8bd2-1e6c2b870e47",
    "ExecuteTime": {
     "end_time": "2024-11-10T13:53:21.669311Z",
     "start_time": "2024-11-10T13:53:21.645015Z"
    }
   },
   "source": [
    "# Trả về kích thước của Tensor\n",
    "t_size = t.size()\n",
    "print(t_size)\n",
    "# Tương ứng trong NumPy\n",
    "n_size = n.shape\n",
    "print(n_size)"
   ],
   "outputs": [
    {
     "name": "stdout",
     "output_type": "stream",
     "text": [
      "torch.Size([4, 2])\n",
      "torch.Size([4, 2])\n"
     ]
    }
   ],
   "execution_count": 15
  },
  {
   "cell_type": "code",
   "metadata": {
    "colab": {
     "base_uri": "https://localhost:8080/"
    },
    "id": "II-xblpSjQXe",
    "outputId": "609bdc36-82c5-4618-bd6d-2903c1b1371e",
    "ExecuteTime": {
     "end_time": "2024-11-10T13:53:22.779120Z",
     "start_time": "2024-11-10T13:53:22.714559Z"
    }
   },
   "source": [
    "t.shape"
   ],
   "outputs": [
    {
     "data": {
      "text/plain": [
       "torch.Size([4, 2])"
      ]
     },
     "execution_count": 16,
     "metadata": {},
     "output_type": "execute_result"
    }
   ],
   "execution_count": 16
  },
  {
   "cell_type": "code",
   "metadata": {
    "colab": {
     "base_uri": "https://localhost:8080/"
    },
    "id": "0cbYY7Qnzzx0",
    "outputId": "f5050206-340a-486f-d5d5-505f05f044de",
    "ExecuteTime": {
     "end_time": "2024-11-10T13:53:23.878045Z",
     "start_time": "2024-11-10T13:53:23.860327Z"
    }
   },
   "source": [
    "# Duỗi Tensor có kích thước (a,b) thành (1,a*b) trong PyTorch\n",
    "t = t.flatten()\n",
    "print(t)\n",
    "# Tương ứng trong NumPy\n",
    "n = n.flatten()\n",
    "print(n)"
   ],
   "outputs": [
    {
     "name": "stdout",
     "output_type": "stream",
     "text": [
      "tensor([0.2237, 0.4562, 2.1023, 2.1651, 0.2226, 1.4709, 0.2313, 1.5645])\n",
      "tensor([0.0115, 1.1098, 0.1224, 2.8221, 1.0059, 1.4565, 0.0381, 1.2317])\n"
     ]
    }
   ],
   "execution_count": 17
  },
  {
   "cell_type": "code",
   "metadata": {
    "colab": {
     "base_uri": "https://localhost:8080/"
    },
    "id": "ajoBGfhan5Tc",
    "outputId": "1ae83e80-e6da-4913-8ba8-0c6333eb2e1b",
    "ExecuteTime": {
     "end_time": "2024-11-10T13:53:26.318221Z",
     "start_time": "2024-11-10T13:53:26.307218Z"
    }
   },
   "source": [
    "t.shape"
   ],
   "outputs": [
    {
     "data": {
      "text/plain": [
       "torch.Size([8])"
      ]
     },
     "execution_count": 18,
     "metadata": {},
     "output_type": "execute_result"
    }
   ],
   "execution_count": 18
  },
  {
   "cell_type": "code",
   "metadata": {
    "colab": {
     "base_uri": "https://localhost:8080/"
    },
    "id": "_n2r7H4Yn6q9",
    "outputId": "bfc4348c-78f5-431c-d54f-9a040d39fe8c",
    "ExecuteTime": {
     "end_time": "2024-11-10T13:53:27.404394Z",
     "start_time": "2024-11-10T13:53:27.388033Z"
    }
   },
   "source": [
    "t = t.unsqueeze(-1)\n",
    "print(t.shape)"
   ],
   "outputs": [
    {
     "name": "stdout",
     "output_type": "stream",
     "text": [
      "torch.Size([8, 1])\n"
     ]
    }
   ],
   "execution_count": 19
  },
  {
   "cell_type": "code",
   "metadata": {
    "colab": {
     "base_uri": "https://localhost:8080/"
    },
    "id": "f_LSsSLbz_ci",
    "outputId": "1c07abeb-2d29-4763-a037-ac48e8a9d765",
    "ExecuteTime": {
     "end_time": "2024-11-10T13:53:28.329940Z",
     "start_time": "2024-11-10T13:53:28.303499Z"
    }
   },
   "source": [
    "# Thêm 1 chiều với dim bằng 0 cho Tensor trong PyTorch\n",
    "t = t.unsqueeze(0)\n",
    "print(t.shape)\n",
    "# Tương ứng trong NumPy (thêm trục)\n",
    "n = np.expand_dims(n, 0)\n",
    "print(n.shape)"
   ],
   "outputs": [
    {
     "name": "stdout",
     "output_type": "stream",
     "text": [
      "torch.Size([1, 8, 1])\n",
      "(1, 8)\n"
     ]
    }
   ],
   "execution_count": 20
  },
  {
   "cell_type": "code",
   "metadata": {
    "colab": {
     "base_uri": "https://localhost:8080/"
    },
    "id": "Up9lLvSVjuJn",
    "outputId": "a78a9085-c79f-463e-f34a-db865c50b89d",
    "ExecuteTime": {
     "end_time": "2024-11-10T13:53:29.276316Z",
     "start_time": "2024-11-10T13:53:29.254906Z"
    }
   },
   "source": [
    "t.shape"
   ],
   "outputs": [
    {
     "data": {
      "text/plain": [
       "torch.Size([1, 8, 1])"
      ]
     },
     "execution_count": 21,
     "metadata": {},
     "output_type": "execute_result"
    }
   ],
   "execution_count": 21
  },
  {
   "cell_type": "code",
   "metadata": {
    "colab": {
     "base_uri": "https://localhost:8080/"
    },
    "id": "WsBAJR5_0BDp",
    "outputId": "91fb42f7-ccdf-41fc-9f7c-a9a064602d27",
    "ExecuteTime": {
     "end_time": "2024-11-10T13:53:29.842409Z",
     "start_time": "2024-11-10T13:53:29.831121Z"
    }
   },
   "source": [
    "n.shape"
   ],
   "outputs": [
    {
     "data": {
      "text/plain": [
       "(1, 8)"
      ]
     },
     "execution_count": 22,
     "metadata": {},
     "output_type": "execute_result"
    }
   ],
   "execution_count": 22
  },
  {
   "cell_type": "code",
   "metadata": {
    "colab": {
     "base_uri": "https://localhost:8080/"
    },
    "id": "AT0MpcPujmwq",
    "outputId": "b4783c99-bd18-43bc-b805-5cb00738f150",
    "ExecuteTime": {
     "end_time": "2024-11-10T13:53:30.566351Z",
     "start_time": "2024-11-10T13:53:30.557194Z"
    }
   },
   "source": [
    "np.expand_dims(n, 0).shape"
   ],
   "outputs": [
    {
     "data": {
      "text/plain": [
       "(1, 1, 8)"
      ]
     },
     "execution_count": 23,
     "metadata": {},
     "output_type": "execute_result"
    }
   ],
   "execution_count": 23
  },
  {
   "cell_type": "code",
   "metadata": {
    "colab": {
     "base_uri": "https://localhost:8080/"
    },
    "id": "lTDGGFse0Fws",
    "outputId": "cc077bef-0ff2-4a16-c50e-0e4a6a656fdd",
    "ExecuteTime": {
     "end_time": "2024-11-10T13:53:31.381815Z",
     "start_time": "2024-11-10T13:53:31.359375Z"
    }
   },
   "source": [
    "t = t.squeeze(0)\n",
    "print(t.shape)\n",
    "# Tương ứng trong NumPy (bỏ trục thừa)\n",
    "n = np.squeeze(n, 0)\n",
    "print(n.shape)"
   ],
   "outputs": [
    {
     "name": "stdout",
     "output_type": "stream",
     "text": [
      "torch.Size([8, 1])\n",
      "(8,)\n"
     ]
    }
   ],
   "execution_count": 24
  },
  {
   "cell_type": "code",
   "metadata": {
    "colab": {
     "base_uri": "https://localhost:8080/"
    },
    "id": "XTNLriptyhwH",
    "outputId": "2c2f712b-6845-4996-b9da-55afe18073aa",
    "ExecuteTime": {
     "end_time": "2024-11-10T13:53:32.186533Z",
     "start_time": "2024-11-10T13:53:32.168977Z"
    }
   },
   "source": [
    "t = torch.randn(3, 4, 5)\n",
    "t_transposed = t.transpose(1, 2)  #\n",
    "print(t_transposed.shape)\n",
    "n_transposed = np.transpose(t.numpy(), (0, 2, 1))\n",
    "n_transposed_2 = t.numpy().swapaxes(1, 2)\n",
    "\n",
    "print(n_transposed.shape, n_transposed_2.shape)"
   ],
   "outputs": [
    {
     "name": "stdout",
     "output_type": "stream",
     "text": [
      "torch.Size([3, 5, 4])\n",
      "(3, 5, 4) (3, 5, 4)\n"
     ]
    }
   ],
   "execution_count": 25
  },
  {
   "cell_type": "code",
   "metadata": {
    "colab": {
     "base_uri": "https://localhost:8080/"
    },
    "id": "X2TFDa1xzTyT",
    "outputId": "272f6c09-893f-4c60-af0a-d25b24d9cef9",
    "ExecuteTime": {
     "end_time": "2024-11-10T13:53:33.284506Z",
     "start_time": "2024-11-10T13:53:33.269379Z"
    }
   },
   "source": [
    "n_transposed[0]"
   ],
   "outputs": [
    {
     "data": {
      "text/plain": [
       "array([[ 1.1808823 ,  1.1748395 ,  1.7758881 ,  0.4012791 ],\n",
       "       [-0.30923653, -0.9462211 ,  0.40482393, -0.14731497],\n",
       "       [-0.21072598, -0.14051513, -1.5185976 ,  0.30766112],\n",
       "       [ 1.3000392 ,  0.66810834,  0.5376605 , -0.36484155],\n",
       "       [-0.17686684, -0.99437225, -1.2369536 ,  0.98603666]],\n",
       "      dtype=float32)"
      ]
     },
     "execution_count": 26,
     "metadata": {},
     "output_type": "execute_result"
    }
   ],
   "execution_count": 26
  },
  {
   "cell_type": "code",
   "metadata": {
    "colab": {
     "base_uri": "https://localhost:8080/"
    },
    "id": "rfr7S8471UPU",
    "outputId": "a0165091-9312-4614-d6a2-e237359e5881",
    "ExecuteTime": {
     "end_time": "2024-11-10T13:53:34.922542Z",
     "start_time": "2024-11-10T13:53:34.913291Z"
    }
   },
   "source": [
    "t.numpy()[0]"
   ],
   "outputs": [
    {
     "data": {
      "text/plain": [
       "array([[ 1.1808823 , -0.30923653, -0.21072598,  1.3000392 , -0.17686684],\n",
       "       [ 1.1748395 , -0.9462211 , -0.14051513,  0.66810834, -0.99437225],\n",
       "       [ 1.7758881 ,  0.40482393, -1.5185976 ,  0.5376605 , -1.2369536 ],\n",
       "       [ 0.4012791 , -0.14731497,  0.30766112, -0.36484155,  0.98603666]],\n",
       "      dtype=float32)"
      ]
     },
     "execution_count": 27,
     "metadata": {},
     "output_type": "execute_result"
    }
   ],
   "execution_count": 27
  },
  {
   "cell_type": "code",
   "metadata": {
    "id": "gOP8IhmJkRHY",
    "ExecuteTime": {
     "end_time": "2024-11-10T13:53:35.974253Z",
     "start_time": "2024-11-10T13:53:35.966241Z"
    }
   },
   "source": [
    "# Sử dụng view để dữ liệu thành 2 chiều (thường áp dụng 3 chiều trở lên)\n",
    "# PyTorch\n",
    "t = t.view(t.size(0), -1) # Mặc định giữ số chiều đầu tiên, tính toán số chiều còn lại\n",
    "# NumPy tương ứng\n",
    "n = n.reshape(n.shape[0], -1)"
   ],
   "outputs": [],
   "execution_count": 28
  },
  {
   "cell_type": "markdown",
   "metadata": {
    "id": "hvaEAYs91wix"
   },
   "source": [
    "## 4. Create model (kết thừa nn.Module)"
   ]
  },
  {
   "cell_type": "code",
   "metadata": {
    "id": "3J9OlPxC2EC5",
    "ExecuteTime": {
     "end_time": "2024-11-10T13:53:38.214044Z",
     "start_time": "2024-11-10T13:53:38.203432Z"
    }
   },
   "source": [
    "import torch.nn as nn"
   ],
   "outputs": [],
   "execution_count": 29
  },
  {
   "cell_type": "code",
   "metadata": {
    "id": "r3X9kxLU1rqS",
    "ExecuteTime": {
     "end_time": "2024-11-10T13:53:40.616863Z",
     "start_time": "2024-11-10T13:53:40.603900Z"
    }
   },
   "source": [
    "class SimpleModel(nn.Module):\n",
    "    def __init__(self):\n",
    "        super().__init__() # Gọi hàm init lớp cha nn.Module\n",
    "        self.lin1 = nn.Linear(256, 128)\n",
    "        self.lin2 = nn.Linear(128, 10)\n",
    "    def forward(self, input):\n",
    "        x1 = self.lin1(input)\n",
    "        x2 = self.lin2(x1)\n",
    "        return x2"
   ],
   "outputs": [],
   "execution_count": 30
  },
  {
   "cell_type": "code",
   "metadata": {
    "id": "EkEMU7jm2PKd",
    "ExecuteTime": {
     "end_time": "2024-11-10T13:53:41.446607Z",
     "start_time": "2024-11-10T13:53:41.432598Z"
    }
   },
   "source": [
    "class MySkipCModel(nn.Module):\n",
    "    def __init__(self):\n",
    "        super().__init__()\n",
    "        self.layer1 = nn.Linear(256, 128)\n",
    "        self.layer2 = nn.Linear(128, 256)\n",
    "        self.layer3 = nn.Linear(128, 10)\n",
    "\n",
    "    def forward(self, x):\n",
    "        x_out1 = self.layer1(x)\n",
    "        x_out2 = x + self.layer2(x_out1)\n",
    "        x_out2 = self.layer1(x_out2)\n",
    "        x = self.layer3(x_out2)\n",
    "        return x"
   ],
   "outputs": [],
   "execution_count": 31
  },
  {
   "cell_type": "code",
   "metadata": {
    "colab": {
     "base_uri": "https://localhost:8080/"
    },
    "id": "JKYlSoDg2oZn",
    "outputId": "5bd8d4ae-1dda-4a53-e262-8c6849db5d2d",
    "ExecuteTime": {
     "end_time": "2024-11-10T13:59:12.111767Z",
     "start_time": "2024-11-10T13:58:52.012050Z"
    }
   },
   "source": [
    "import torchvision.models as models\n",
    "backbone = models.resnet50(pretrained=True)\n",
    "list(backbone.children())"
   ],
   "outputs": [
    {
     "name": "stderr",
     "output_type": "stream",
     "text": [
      "C:\\Users\\kkagi\\AppData\\Local\\Programs\\Python\\Python312\\Lib\\site-packages\\torchvision\\models\\_utils.py:208: UserWarning: The parameter 'pretrained' is deprecated since 0.13 and may be removed in the future, please use 'weights' instead.\n",
      "  warnings.warn(\n",
      "C:\\Users\\kkagi\\AppData\\Local\\Programs\\Python\\Python312\\Lib\\site-packages\\torchvision\\models\\_utils.py:223: UserWarning: Arguments other than a weight enum or `None` for 'weights' are deprecated since 0.13 and may be removed in the future. The current behavior is equivalent to passing `weights=ResNet50_Weights.IMAGENET1K_V1`. You can also use `weights=ResNet50_Weights.DEFAULT` to get the most up-to-date weights.\n",
      "  warnings.warn(msg)\n",
      "Downloading: \"https://download.pytorch.org/models/resnet50-0676ba61.pth\" to C:\\Users\\kkagi/.cache\\torch\\hub\\checkpoints\\resnet50-0676ba61.pth\n",
      "100.0%\n"
     ]
    },
    {
     "data": {
      "text/plain": [
       "[Conv2d(3, 64, kernel_size=(7, 7), stride=(2, 2), padding=(3, 3), bias=False),\n",
       " BatchNorm2d(64, eps=1e-05, momentum=0.1, affine=True, track_running_stats=True),\n",
       " ReLU(inplace=True),\n",
       " MaxPool2d(kernel_size=3, stride=2, padding=1, dilation=1, ceil_mode=False),\n",
       " Sequential(\n",
       "   (0): Bottleneck(\n",
       "     (conv1): Conv2d(64, 64, kernel_size=(1, 1), stride=(1, 1), bias=False)\n",
       "     (bn1): BatchNorm2d(64, eps=1e-05, momentum=0.1, affine=True, track_running_stats=True)\n",
       "     (conv2): Conv2d(64, 64, kernel_size=(3, 3), stride=(1, 1), padding=(1, 1), bias=False)\n",
       "     (bn2): BatchNorm2d(64, eps=1e-05, momentum=0.1, affine=True, track_running_stats=True)\n",
       "     (conv3): Conv2d(64, 256, kernel_size=(1, 1), stride=(1, 1), bias=False)\n",
       "     (bn3): BatchNorm2d(256, eps=1e-05, momentum=0.1, affine=True, track_running_stats=True)\n",
       "     (relu): ReLU(inplace=True)\n",
       "     (downsample): Sequential(\n",
       "       (0): Conv2d(64, 256, kernel_size=(1, 1), stride=(1, 1), bias=False)\n",
       "       (1): BatchNorm2d(256, eps=1e-05, momentum=0.1, affine=True, track_running_stats=True)\n",
       "     )\n",
       "   )\n",
       "   (1): Bottleneck(\n",
       "     (conv1): Conv2d(256, 64, kernel_size=(1, 1), stride=(1, 1), bias=False)\n",
       "     (bn1): BatchNorm2d(64, eps=1e-05, momentum=0.1, affine=True, track_running_stats=True)\n",
       "     (conv2): Conv2d(64, 64, kernel_size=(3, 3), stride=(1, 1), padding=(1, 1), bias=False)\n",
       "     (bn2): BatchNorm2d(64, eps=1e-05, momentum=0.1, affine=True, track_running_stats=True)\n",
       "     (conv3): Conv2d(64, 256, kernel_size=(1, 1), stride=(1, 1), bias=False)\n",
       "     (bn3): BatchNorm2d(256, eps=1e-05, momentum=0.1, affine=True, track_running_stats=True)\n",
       "     (relu): ReLU(inplace=True)\n",
       "   )\n",
       "   (2): Bottleneck(\n",
       "     (conv1): Conv2d(256, 64, kernel_size=(1, 1), stride=(1, 1), bias=False)\n",
       "     (bn1): BatchNorm2d(64, eps=1e-05, momentum=0.1, affine=True, track_running_stats=True)\n",
       "     (conv2): Conv2d(64, 64, kernel_size=(3, 3), stride=(1, 1), padding=(1, 1), bias=False)\n",
       "     (bn2): BatchNorm2d(64, eps=1e-05, momentum=0.1, affine=True, track_running_stats=True)\n",
       "     (conv3): Conv2d(64, 256, kernel_size=(1, 1), stride=(1, 1), bias=False)\n",
       "     (bn3): BatchNorm2d(256, eps=1e-05, momentum=0.1, affine=True, track_running_stats=True)\n",
       "     (relu): ReLU(inplace=True)\n",
       "   )\n",
       " ),\n",
       " Sequential(\n",
       "   (0): Bottleneck(\n",
       "     (conv1): Conv2d(256, 128, kernel_size=(1, 1), stride=(1, 1), bias=False)\n",
       "     (bn1): BatchNorm2d(128, eps=1e-05, momentum=0.1, affine=True, track_running_stats=True)\n",
       "     (conv2): Conv2d(128, 128, kernel_size=(3, 3), stride=(2, 2), padding=(1, 1), bias=False)\n",
       "     (bn2): BatchNorm2d(128, eps=1e-05, momentum=0.1, affine=True, track_running_stats=True)\n",
       "     (conv3): Conv2d(128, 512, kernel_size=(1, 1), stride=(1, 1), bias=False)\n",
       "     (bn3): BatchNorm2d(512, eps=1e-05, momentum=0.1, affine=True, track_running_stats=True)\n",
       "     (relu): ReLU(inplace=True)\n",
       "     (downsample): Sequential(\n",
       "       (0): Conv2d(256, 512, kernel_size=(1, 1), stride=(2, 2), bias=False)\n",
       "       (1): BatchNorm2d(512, eps=1e-05, momentum=0.1, affine=True, track_running_stats=True)\n",
       "     )\n",
       "   )\n",
       "   (1): Bottleneck(\n",
       "     (conv1): Conv2d(512, 128, kernel_size=(1, 1), stride=(1, 1), bias=False)\n",
       "     (bn1): BatchNorm2d(128, eps=1e-05, momentum=0.1, affine=True, track_running_stats=True)\n",
       "     (conv2): Conv2d(128, 128, kernel_size=(3, 3), stride=(1, 1), padding=(1, 1), bias=False)\n",
       "     (bn2): BatchNorm2d(128, eps=1e-05, momentum=0.1, affine=True, track_running_stats=True)\n",
       "     (conv3): Conv2d(128, 512, kernel_size=(1, 1), stride=(1, 1), bias=False)\n",
       "     (bn3): BatchNorm2d(512, eps=1e-05, momentum=0.1, affine=True, track_running_stats=True)\n",
       "     (relu): ReLU(inplace=True)\n",
       "   )\n",
       "   (2): Bottleneck(\n",
       "     (conv1): Conv2d(512, 128, kernel_size=(1, 1), stride=(1, 1), bias=False)\n",
       "     (bn1): BatchNorm2d(128, eps=1e-05, momentum=0.1, affine=True, track_running_stats=True)\n",
       "     (conv2): Conv2d(128, 128, kernel_size=(3, 3), stride=(1, 1), padding=(1, 1), bias=False)\n",
       "     (bn2): BatchNorm2d(128, eps=1e-05, momentum=0.1, affine=True, track_running_stats=True)\n",
       "     (conv3): Conv2d(128, 512, kernel_size=(1, 1), stride=(1, 1), bias=False)\n",
       "     (bn3): BatchNorm2d(512, eps=1e-05, momentum=0.1, affine=True, track_running_stats=True)\n",
       "     (relu): ReLU(inplace=True)\n",
       "   )\n",
       "   (3): Bottleneck(\n",
       "     (conv1): Conv2d(512, 128, kernel_size=(1, 1), stride=(1, 1), bias=False)\n",
       "     (bn1): BatchNorm2d(128, eps=1e-05, momentum=0.1, affine=True, track_running_stats=True)\n",
       "     (conv2): Conv2d(128, 128, kernel_size=(3, 3), stride=(1, 1), padding=(1, 1), bias=False)\n",
       "     (bn2): BatchNorm2d(128, eps=1e-05, momentum=0.1, affine=True, track_running_stats=True)\n",
       "     (conv3): Conv2d(128, 512, kernel_size=(1, 1), stride=(1, 1), bias=False)\n",
       "     (bn3): BatchNorm2d(512, eps=1e-05, momentum=0.1, affine=True, track_running_stats=True)\n",
       "     (relu): ReLU(inplace=True)\n",
       "   )\n",
       " ),\n",
       " Sequential(\n",
       "   (0): Bottleneck(\n",
       "     (conv1): Conv2d(512, 256, kernel_size=(1, 1), stride=(1, 1), bias=False)\n",
       "     (bn1): BatchNorm2d(256, eps=1e-05, momentum=0.1, affine=True, track_running_stats=True)\n",
       "     (conv2): Conv2d(256, 256, kernel_size=(3, 3), stride=(2, 2), padding=(1, 1), bias=False)\n",
       "     (bn2): BatchNorm2d(256, eps=1e-05, momentum=0.1, affine=True, track_running_stats=True)\n",
       "     (conv3): Conv2d(256, 1024, kernel_size=(1, 1), stride=(1, 1), bias=False)\n",
       "     (bn3): BatchNorm2d(1024, eps=1e-05, momentum=0.1, affine=True, track_running_stats=True)\n",
       "     (relu): ReLU(inplace=True)\n",
       "     (downsample): Sequential(\n",
       "       (0): Conv2d(512, 1024, kernel_size=(1, 1), stride=(2, 2), bias=False)\n",
       "       (1): BatchNorm2d(1024, eps=1e-05, momentum=0.1, affine=True, track_running_stats=True)\n",
       "     )\n",
       "   )\n",
       "   (1): Bottleneck(\n",
       "     (conv1): Conv2d(1024, 256, kernel_size=(1, 1), stride=(1, 1), bias=False)\n",
       "     (bn1): BatchNorm2d(256, eps=1e-05, momentum=0.1, affine=True, track_running_stats=True)\n",
       "     (conv2): Conv2d(256, 256, kernel_size=(3, 3), stride=(1, 1), padding=(1, 1), bias=False)\n",
       "     (bn2): BatchNorm2d(256, eps=1e-05, momentum=0.1, affine=True, track_running_stats=True)\n",
       "     (conv3): Conv2d(256, 1024, kernel_size=(1, 1), stride=(1, 1), bias=False)\n",
       "     (bn3): BatchNorm2d(1024, eps=1e-05, momentum=0.1, affine=True, track_running_stats=True)\n",
       "     (relu): ReLU(inplace=True)\n",
       "   )\n",
       "   (2): Bottleneck(\n",
       "     (conv1): Conv2d(1024, 256, kernel_size=(1, 1), stride=(1, 1), bias=False)\n",
       "     (bn1): BatchNorm2d(256, eps=1e-05, momentum=0.1, affine=True, track_running_stats=True)\n",
       "     (conv2): Conv2d(256, 256, kernel_size=(3, 3), stride=(1, 1), padding=(1, 1), bias=False)\n",
       "     (bn2): BatchNorm2d(256, eps=1e-05, momentum=0.1, affine=True, track_running_stats=True)\n",
       "     (conv3): Conv2d(256, 1024, kernel_size=(1, 1), stride=(1, 1), bias=False)\n",
       "     (bn3): BatchNorm2d(1024, eps=1e-05, momentum=0.1, affine=True, track_running_stats=True)\n",
       "     (relu): ReLU(inplace=True)\n",
       "   )\n",
       "   (3): Bottleneck(\n",
       "     (conv1): Conv2d(1024, 256, kernel_size=(1, 1), stride=(1, 1), bias=False)\n",
       "     (bn1): BatchNorm2d(256, eps=1e-05, momentum=0.1, affine=True, track_running_stats=True)\n",
       "     (conv2): Conv2d(256, 256, kernel_size=(3, 3), stride=(1, 1), padding=(1, 1), bias=False)\n",
       "     (bn2): BatchNorm2d(256, eps=1e-05, momentum=0.1, affine=True, track_running_stats=True)\n",
       "     (conv3): Conv2d(256, 1024, kernel_size=(1, 1), stride=(1, 1), bias=False)\n",
       "     (bn3): BatchNorm2d(1024, eps=1e-05, momentum=0.1, affine=True, track_running_stats=True)\n",
       "     (relu): ReLU(inplace=True)\n",
       "   )\n",
       "   (4): Bottleneck(\n",
       "     (conv1): Conv2d(1024, 256, kernel_size=(1, 1), stride=(1, 1), bias=False)\n",
       "     (bn1): BatchNorm2d(256, eps=1e-05, momentum=0.1, affine=True, track_running_stats=True)\n",
       "     (conv2): Conv2d(256, 256, kernel_size=(3, 3), stride=(1, 1), padding=(1, 1), bias=False)\n",
       "     (bn2): BatchNorm2d(256, eps=1e-05, momentum=0.1, affine=True, track_running_stats=True)\n",
       "     (conv3): Conv2d(256, 1024, kernel_size=(1, 1), stride=(1, 1), bias=False)\n",
       "     (bn3): BatchNorm2d(1024, eps=1e-05, momentum=0.1, affine=True, track_running_stats=True)\n",
       "     (relu): ReLU(inplace=True)\n",
       "   )\n",
       "   (5): Bottleneck(\n",
       "     (conv1): Conv2d(1024, 256, kernel_size=(1, 1), stride=(1, 1), bias=False)\n",
       "     (bn1): BatchNorm2d(256, eps=1e-05, momentum=0.1, affine=True, track_running_stats=True)\n",
       "     (conv2): Conv2d(256, 256, kernel_size=(3, 3), stride=(1, 1), padding=(1, 1), bias=False)\n",
       "     (bn2): BatchNorm2d(256, eps=1e-05, momentum=0.1, affine=True, track_running_stats=True)\n",
       "     (conv3): Conv2d(256, 1024, kernel_size=(1, 1), stride=(1, 1), bias=False)\n",
       "     (bn3): BatchNorm2d(1024, eps=1e-05, momentum=0.1, affine=True, track_running_stats=True)\n",
       "     (relu): ReLU(inplace=True)\n",
       "   )\n",
       " ),\n",
       " Sequential(\n",
       "   (0): Bottleneck(\n",
       "     (conv1): Conv2d(1024, 512, kernel_size=(1, 1), stride=(1, 1), bias=False)\n",
       "     (bn1): BatchNorm2d(512, eps=1e-05, momentum=0.1, affine=True, track_running_stats=True)\n",
       "     (conv2): Conv2d(512, 512, kernel_size=(3, 3), stride=(2, 2), padding=(1, 1), bias=False)\n",
       "     (bn2): BatchNorm2d(512, eps=1e-05, momentum=0.1, affine=True, track_running_stats=True)\n",
       "     (conv3): Conv2d(512, 2048, kernel_size=(1, 1), stride=(1, 1), bias=False)\n",
       "     (bn3): BatchNorm2d(2048, eps=1e-05, momentum=0.1, affine=True, track_running_stats=True)\n",
       "     (relu): ReLU(inplace=True)\n",
       "     (downsample): Sequential(\n",
       "       (0): Conv2d(1024, 2048, kernel_size=(1, 1), stride=(2, 2), bias=False)\n",
       "       (1): BatchNorm2d(2048, eps=1e-05, momentum=0.1, affine=True, track_running_stats=True)\n",
       "     )\n",
       "   )\n",
       "   (1): Bottleneck(\n",
       "     (conv1): Conv2d(2048, 512, kernel_size=(1, 1), stride=(1, 1), bias=False)\n",
       "     (bn1): BatchNorm2d(512, eps=1e-05, momentum=0.1, affine=True, track_running_stats=True)\n",
       "     (conv2): Conv2d(512, 512, kernel_size=(3, 3), stride=(1, 1), padding=(1, 1), bias=False)\n",
       "     (bn2): BatchNorm2d(512, eps=1e-05, momentum=0.1, affine=True, track_running_stats=True)\n",
       "     (conv3): Conv2d(512, 2048, kernel_size=(1, 1), stride=(1, 1), bias=False)\n",
       "     (bn3): BatchNorm2d(2048, eps=1e-05, momentum=0.1, affine=True, track_running_stats=True)\n",
       "     (relu): ReLU(inplace=True)\n",
       "   )\n",
       "   (2): Bottleneck(\n",
       "     (conv1): Conv2d(2048, 512, kernel_size=(1, 1), stride=(1, 1), bias=False)\n",
       "     (bn1): BatchNorm2d(512, eps=1e-05, momentum=0.1, affine=True, track_running_stats=True)\n",
       "     (conv2): Conv2d(512, 512, kernel_size=(3, 3), stride=(1, 1), padding=(1, 1), bias=False)\n",
       "     (bn2): BatchNorm2d(512, eps=1e-05, momentum=0.1, affine=True, track_running_stats=True)\n",
       "     (conv3): Conv2d(512, 2048, kernel_size=(1, 1), stride=(1, 1), bias=False)\n",
       "     (bn3): BatchNorm2d(2048, eps=1e-05, momentum=0.1, affine=True, track_running_stats=True)\n",
       "     (relu): ReLU(inplace=True)\n",
       "   )\n",
       " ),\n",
       " AdaptiveAvgPool2d(output_size=(1, 1)),\n",
       " Linear(in_features=2048, out_features=1000, bias=True)]"
      ]
     },
     "execution_count": 33,
     "metadata": {},
     "output_type": "execute_result"
    }
   ],
   "execution_count": 33
  },
  {
   "cell_type": "markdown",
   "metadata": {
    "id": "G6tGvMSp3bk3"
   },
   "source": [
    "### Extra: Giải thích về \"*\"\n",
    "Dùng để unpacking mảng 1 chiều"
   ]
  },
  {
   "cell_type": "code",
   "metadata": {
    "colab": {
     "base_uri": "https://localhost:8080/",
     "height": 176
    },
    "id": "dK_RhG2a3Ke0",
    "outputId": "6d998fa5-4b12-48ae-8688-6d2893181f82",
    "ExecuteTime": {
     "end_time": "2024-11-10T13:59:17.607976Z",
     "start_time": "2024-11-10T13:59:17.532824Z"
    }
   },
   "source": [
    "def sum3(a, b, c):\n",
    "    return a + b + c\n",
    "array = [1, 2, 3]\n",
    "result = sum3(array)"
   ],
   "outputs": [
    {
     "ename": "TypeError",
     "evalue": "sum3() missing 2 required positional arguments: 'b' and 'c'",
     "output_type": "error",
     "traceback": [
      "\u001B[1;31m---------------------------------------------------------------------------\u001B[0m",
      "\u001B[1;31mTypeError\u001B[0m                                 Traceback (most recent call last)",
      "Cell \u001B[1;32mIn[34], line 4\u001B[0m\n\u001B[0;32m      2\u001B[0m     \u001B[38;5;28;01mreturn\u001B[39;00m a \u001B[38;5;241m+\u001B[39m b \u001B[38;5;241m+\u001B[39m c\n\u001B[0;32m      3\u001B[0m array \u001B[38;5;241m=\u001B[39m [\u001B[38;5;241m1\u001B[39m, \u001B[38;5;241m2\u001B[39m, \u001B[38;5;241m3\u001B[39m]\n\u001B[1;32m----> 4\u001B[0m result \u001B[38;5;241m=\u001B[39m \u001B[43msum3\u001B[49m\u001B[43m(\u001B[49m\u001B[43marray\u001B[49m\u001B[43m)\u001B[49m\n",
      "\u001B[1;31mTypeError\u001B[0m: sum3() missing 2 required positional arguments: 'b' and 'c'"
     ]
    }
   ],
   "execution_count": 34
  },
  {
   "cell_type": "code",
   "metadata": {
    "colab": {
     "base_uri": "https://localhost:8080/"
    },
    "id": "hDINZRHL3gXI",
    "outputId": "52fca902-21ab-4c82-e5be-16f250c78c1f",
    "ExecuteTime": {
     "end_time": "2024-11-10T13:59:20.599469Z",
     "start_time": "2024-11-10T13:59:20.590717Z"
    }
   },
   "source": [
    "sum3(*array)"
   ],
   "outputs": [
    {
     "data": {
      "text/plain": [
       "6"
      ]
     },
     "execution_count": 35,
     "metadata": {},
     "output_type": "execute_result"
    }
   ],
   "execution_count": 35
  },
  {
   "cell_type": "markdown",
   "metadata": {
    "id": "ByMLW0vr4KEG"
   },
   "source": [
    "### Với dictionary là **"
   ]
  },
  {
   "cell_type": "code",
   "execution_count": 27,
   "metadata": {
    "id": "J3Ng6adQ3oDq"
   },
   "outputs": [],
   "source": [
    "def display(ten, tuoi, thanh_pho):\n",
    "    print(f\"Tên: {ten}, Tuổi: {tuoi}, Thành phố: {thanh_pho}\")"
   ]
  },
  {
   "cell_type": "code",
   "execution_count": 28,
   "metadata": {
    "colab": {
     "base_uri": "https://localhost:8080/"
    },
    "id": "37b7FIf-3rCR",
    "outputId": "3f4b0df1-2bb2-46ac-e7da-57a0c1424a09"
   },
   "outputs": [
    {
     "name": "stdout",
     "output_type": "stream",
     "text": [
      "Tên: Nguyễn Văn B, Tuổi: 30, Thành phố: Đà Nẵng\n"
     ]
    }
   ],
   "source": [
    "thong_tin = {\n",
    "    \"ten\": \"Nguyễn Văn B\",\n",
    "    \"tuoi\": 30,\n",
    "    \"thanh_pho\": \"Đà Nẵng\"\n",
    "}\n",
    "\n",
    "display(**thong_tin)"
   ]
  },
  {
   "cell_type": "code",
   "execution_count": 29,
   "metadata": {
    "colab": {
     "base_uri": "https://localhost:8080/"
    },
    "id": "q8wmKjyhU8qR",
    "outputId": "6efba47f-cd62-4524-f642-5276aa1595b3"
   },
   "outputs": [
    {
     "data": {
      "text/plain": [
       "[Conv2d(3, 64, kernel_size=(7, 7), stride=(2, 2), padding=(3, 3), bias=False),\n",
       " BatchNorm2d(64, eps=1e-05, momentum=0.1, affine=True, track_running_stats=True),\n",
       " ReLU(inplace=True),\n",
       " MaxPool2d(kernel_size=3, stride=2, padding=1, dilation=1, ceil_mode=False),\n",
       " Sequential(\n",
       "   (0): Bottleneck(\n",
       "     (conv1): Conv2d(64, 64, kernel_size=(1, 1), stride=(1, 1), bias=False)\n",
       "     (bn1): BatchNorm2d(64, eps=1e-05, momentum=0.1, affine=True, track_running_stats=True)\n",
       "     (conv2): Conv2d(64, 64, kernel_size=(3, 3), stride=(1, 1), padding=(1, 1), bias=False)\n",
       "     (bn2): BatchNorm2d(64, eps=1e-05, momentum=0.1, affine=True, track_running_stats=True)\n",
       "     (conv3): Conv2d(64, 256, kernel_size=(1, 1), stride=(1, 1), bias=False)\n",
       "     (bn3): BatchNorm2d(256, eps=1e-05, momentum=0.1, affine=True, track_running_stats=True)\n",
       "     (relu): ReLU(inplace=True)\n",
       "     (downsample): Sequential(\n",
       "       (0): Conv2d(64, 256, kernel_size=(1, 1), stride=(1, 1), bias=False)\n",
       "       (1): BatchNorm2d(256, eps=1e-05, momentum=0.1, affine=True, track_running_stats=True)\n",
       "     )\n",
       "   )\n",
       "   (1): Bottleneck(\n",
       "     (conv1): Conv2d(256, 64, kernel_size=(1, 1), stride=(1, 1), bias=False)\n",
       "     (bn1): BatchNorm2d(64, eps=1e-05, momentum=0.1, affine=True, track_running_stats=True)\n",
       "     (conv2): Conv2d(64, 64, kernel_size=(3, 3), stride=(1, 1), padding=(1, 1), bias=False)\n",
       "     (bn2): BatchNorm2d(64, eps=1e-05, momentum=0.1, affine=True, track_running_stats=True)\n",
       "     (conv3): Conv2d(64, 256, kernel_size=(1, 1), stride=(1, 1), bias=False)\n",
       "     (bn3): BatchNorm2d(256, eps=1e-05, momentum=0.1, affine=True, track_running_stats=True)\n",
       "     (relu): ReLU(inplace=True)\n",
       "   )\n",
       "   (2): Bottleneck(\n",
       "     (conv1): Conv2d(256, 64, kernel_size=(1, 1), stride=(1, 1), bias=False)\n",
       "     (bn1): BatchNorm2d(64, eps=1e-05, momentum=0.1, affine=True, track_running_stats=True)\n",
       "     (conv2): Conv2d(64, 64, kernel_size=(3, 3), stride=(1, 1), padding=(1, 1), bias=False)\n",
       "     (bn2): BatchNorm2d(64, eps=1e-05, momentum=0.1, affine=True, track_running_stats=True)\n",
       "     (conv3): Conv2d(64, 256, kernel_size=(1, 1), stride=(1, 1), bias=False)\n",
       "     (bn3): BatchNorm2d(256, eps=1e-05, momentum=0.1, affine=True, track_running_stats=True)\n",
       "     (relu): ReLU(inplace=True)\n",
       "   )\n",
       " ),\n",
       " Sequential(\n",
       "   (0): Bottleneck(\n",
       "     (conv1): Conv2d(256, 128, kernel_size=(1, 1), stride=(1, 1), bias=False)\n",
       "     (bn1): BatchNorm2d(128, eps=1e-05, momentum=0.1, affine=True, track_running_stats=True)\n",
       "     (conv2): Conv2d(128, 128, kernel_size=(3, 3), stride=(2, 2), padding=(1, 1), bias=False)\n",
       "     (bn2): BatchNorm2d(128, eps=1e-05, momentum=0.1, affine=True, track_running_stats=True)\n",
       "     (conv3): Conv2d(128, 512, kernel_size=(1, 1), stride=(1, 1), bias=False)\n",
       "     (bn3): BatchNorm2d(512, eps=1e-05, momentum=0.1, affine=True, track_running_stats=True)\n",
       "     (relu): ReLU(inplace=True)\n",
       "     (downsample): Sequential(\n",
       "       (0): Conv2d(256, 512, kernel_size=(1, 1), stride=(2, 2), bias=False)\n",
       "       (1): BatchNorm2d(512, eps=1e-05, momentum=0.1, affine=True, track_running_stats=True)\n",
       "     )\n",
       "   )\n",
       "   (1): Bottleneck(\n",
       "     (conv1): Conv2d(512, 128, kernel_size=(1, 1), stride=(1, 1), bias=False)\n",
       "     (bn1): BatchNorm2d(128, eps=1e-05, momentum=0.1, affine=True, track_running_stats=True)\n",
       "     (conv2): Conv2d(128, 128, kernel_size=(3, 3), stride=(1, 1), padding=(1, 1), bias=False)\n",
       "     (bn2): BatchNorm2d(128, eps=1e-05, momentum=0.1, affine=True, track_running_stats=True)\n",
       "     (conv3): Conv2d(128, 512, kernel_size=(1, 1), stride=(1, 1), bias=False)\n",
       "     (bn3): BatchNorm2d(512, eps=1e-05, momentum=0.1, affine=True, track_running_stats=True)\n",
       "     (relu): ReLU(inplace=True)\n",
       "   )\n",
       "   (2): Bottleneck(\n",
       "     (conv1): Conv2d(512, 128, kernel_size=(1, 1), stride=(1, 1), bias=False)\n",
       "     (bn1): BatchNorm2d(128, eps=1e-05, momentum=0.1, affine=True, track_running_stats=True)\n",
       "     (conv2): Conv2d(128, 128, kernel_size=(3, 3), stride=(1, 1), padding=(1, 1), bias=False)\n",
       "     (bn2): BatchNorm2d(128, eps=1e-05, momentum=0.1, affine=True, track_running_stats=True)\n",
       "     (conv3): Conv2d(128, 512, kernel_size=(1, 1), stride=(1, 1), bias=False)\n",
       "     (bn3): BatchNorm2d(512, eps=1e-05, momentum=0.1, affine=True, track_running_stats=True)\n",
       "     (relu): ReLU(inplace=True)\n",
       "   )\n",
       "   (3): Bottleneck(\n",
       "     (conv1): Conv2d(512, 128, kernel_size=(1, 1), stride=(1, 1), bias=False)\n",
       "     (bn1): BatchNorm2d(128, eps=1e-05, momentum=0.1, affine=True, track_running_stats=True)\n",
       "     (conv2): Conv2d(128, 128, kernel_size=(3, 3), stride=(1, 1), padding=(1, 1), bias=False)\n",
       "     (bn2): BatchNorm2d(128, eps=1e-05, momentum=0.1, affine=True, track_running_stats=True)\n",
       "     (conv3): Conv2d(128, 512, kernel_size=(1, 1), stride=(1, 1), bias=False)\n",
       "     (bn3): BatchNorm2d(512, eps=1e-05, momentum=0.1, affine=True, track_running_stats=True)\n",
       "     (relu): ReLU(inplace=True)\n",
       "   )\n",
       " ),\n",
       " Sequential(\n",
       "   (0): Bottleneck(\n",
       "     (conv1): Conv2d(512, 256, kernel_size=(1, 1), stride=(1, 1), bias=False)\n",
       "     (bn1): BatchNorm2d(256, eps=1e-05, momentum=0.1, affine=True, track_running_stats=True)\n",
       "     (conv2): Conv2d(256, 256, kernel_size=(3, 3), stride=(2, 2), padding=(1, 1), bias=False)\n",
       "     (bn2): BatchNorm2d(256, eps=1e-05, momentum=0.1, affine=True, track_running_stats=True)\n",
       "     (conv3): Conv2d(256, 1024, kernel_size=(1, 1), stride=(1, 1), bias=False)\n",
       "     (bn3): BatchNorm2d(1024, eps=1e-05, momentum=0.1, affine=True, track_running_stats=True)\n",
       "     (relu): ReLU(inplace=True)\n",
       "     (downsample): Sequential(\n",
       "       (0): Conv2d(512, 1024, kernel_size=(1, 1), stride=(2, 2), bias=False)\n",
       "       (1): BatchNorm2d(1024, eps=1e-05, momentum=0.1, affine=True, track_running_stats=True)\n",
       "     )\n",
       "   )\n",
       "   (1): Bottleneck(\n",
       "     (conv1): Conv2d(1024, 256, kernel_size=(1, 1), stride=(1, 1), bias=False)\n",
       "     (bn1): BatchNorm2d(256, eps=1e-05, momentum=0.1, affine=True, track_running_stats=True)\n",
       "     (conv2): Conv2d(256, 256, kernel_size=(3, 3), stride=(1, 1), padding=(1, 1), bias=False)\n",
       "     (bn2): BatchNorm2d(256, eps=1e-05, momentum=0.1, affine=True, track_running_stats=True)\n",
       "     (conv3): Conv2d(256, 1024, kernel_size=(1, 1), stride=(1, 1), bias=False)\n",
       "     (bn3): BatchNorm2d(1024, eps=1e-05, momentum=0.1, affine=True, track_running_stats=True)\n",
       "     (relu): ReLU(inplace=True)\n",
       "   )\n",
       "   (2): Bottleneck(\n",
       "     (conv1): Conv2d(1024, 256, kernel_size=(1, 1), stride=(1, 1), bias=False)\n",
       "     (bn1): BatchNorm2d(256, eps=1e-05, momentum=0.1, affine=True, track_running_stats=True)\n",
       "     (conv2): Conv2d(256, 256, kernel_size=(3, 3), stride=(1, 1), padding=(1, 1), bias=False)\n",
       "     (bn2): BatchNorm2d(256, eps=1e-05, momentum=0.1, affine=True, track_running_stats=True)\n",
       "     (conv3): Conv2d(256, 1024, kernel_size=(1, 1), stride=(1, 1), bias=False)\n",
       "     (bn3): BatchNorm2d(1024, eps=1e-05, momentum=0.1, affine=True, track_running_stats=True)\n",
       "     (relu): ReLU(inplace=True)\n",
       "   )\n",
       "   (3): Bottleneck(\n",
       "     (conv1): Conv2d(1024, 256, kernel_size=(1, 1), stride=(1, 1), bias=False)\n",
       "     (bn1): BatchNorm2d(256, eps=1e-05, momentum=0.1, affine=True, track_running_stats=True)\n",
       "     (conv2): Conv2d(256, 256, kernel_size=(3, 3), stride=(1, 1), padding=(1, 1), bias=False)\n",
       "     (bn2): BatchNorm2d(256, eps=1e-05, momentum=0.1, affine=True, track_running_stats=True)\n",
       "     (conv3): Conv2d(256, 1024, kernel_size=(1, 1), stride=(1, 1), bias=False)\n",
       "     (bn3): BatchNorm2d(1024, eps=1e-05, momentum=0.1, affine=True, track_running_stats=True)\n",
       "     (relu): ReLU(inplace=True)\n",
       "   )\n",
       "   (4): Bottleneck(\n",
       "     (conv1): Conv2d(1024, 256, kernel_size=(1, 1), stride=(1, 1), bias=False)\n",
       "     (bn1): BatchNorm2d(256, eps=1e-05, momentum=0.1, affine=True, track_running_stats=True)\n",
       "     (conv2): Conv2d(256, 256, kernel_size=(3, 3), stride=(1, 1), padding=(1, 1), bias=False)\n",
       "     (bn2): BatchNorm2d(256, eps=1e-05, momentum=0.1, affine=True, track_running_stats=True)\n",
       "     (conv3): Conv2d(256, 1024, kernel_size=(1, 1), stride=(1, 1), bias=False)\n",
       "     (bn3): BatchNorm2d(1024, eps=1e-05, momentum=0.1, affine=True, track_running_stats=True)\n",
       "     (relu): ReLU(inplace=True)\n",
       "   )\n",
       "   (5): Bottleneck(\n",
       "     (conv1): Conv2d(1024, 256, kernel_size=(1, 1), stride=(1, 1), bias=False)\n",
       "     (bn1): BatchNorm2d(256, eps=1e-05, momentum=0.1, affine=True, track_running_stats=True)\n",
       "     (conv2): Conv2d(256, 256, kernel_size=(3, 3), stride=(1, 1), padding=(1, 1), bias=False)\n",
       "     (bn2): BatchNorm2d(256, eps=1e-05, momentum=0.1, affine=True, track_running_stats=True)\n",
       "     (conv3): Conv2d(256, 1024, kernel_size=(1, 1), stride=(1, 1), bias=False)\n",
       "     (bn3): BatchNorm2d(1024, eps=1e-05, momentum=0.1, affine=True, track_running_stats=True)\n",
       "     (relu): ReLU(inplace=True)\n",
       "   )\n",
       " ),\n",
       " Sequential(\n",
       "   (0): Bottleneck(\n",
       "     (conv1): Conv2d(1024, 512, kernel_size=(1, 1), stride=(1, 1), bias=False)\n",
       "     (bn1): BatchNorm2d(512, eps=1e-05, momentum=0.1, affine=True, track_running_stats=True)\n",
       "     (conv2): Conv2d(512, 512, kernel_size=(3, 3), stride=(2, 2), padding=(1, 1), bias=False)\n",
       "     (bn2): BatchNorm2d(512, eps=1e-05, momentum=0.1, affine=True, track_running_stats=True)\n",
       "     (conv3): Conv2d(512, 2048, kernel_size=(1, 1), stride=(1, 1), bias=False)\n",
       "     (bn3): BatchNorm2d(2048, eps=1e-05, momentum=0.1, affine=True, track_running_stats=True)\n",
       "     (relu): ReLU(inplace=True)\n",
       "     (downsample): Sequential(\n",
       "       (0): Conv2d(1024, 2048, kernel_size=(1, 1), stride=(2, 2), bias=False)\n",
       "       (1): BatchNorm2d(2048, eps=1e-05, momentum=0.1, affine=True, track_running_stats=True)\n",
       "     )\n",
       "   )\n",
       "   (1): Bottleneck(\n",
       "     (conv1): Conv2d(2048, 512, kernel_size=(1, 1), stride=(1, 1), bias=False)\n",
       "     (bn1): BatchNorm2d(512, eps=1e-05, momentum=0.1, affine=True, track_running_stats=True)\n",
       "     (conv2): Conv2d(512, 512, kernel_size=(3, 3), stride=(1, 1), padding=(1, 1), bias=False)\n",
       "     (bn2): BatchNorm2d(512, eps=1e-05, momentum=0.1, affine=True, track_running_stats=True)\n",
       "     (conv3): Conv2d(512, 2048, kernel_size=(1, 1), stride=(1, 1), bias=False)\n",
       "     (bn3): BatchNorm2d(2048, eps=1e-05, momentum=0.1, affine=True, track_running_stats=True)\n",
       "     (relu): ReLU(inplace=True)\n",
       "   )\n",
       "   (2): Bottleneck(\n",
       "     (conv1): Conv2d(2048, 512, kernel_size=(1, 1), stride=(1, 1), bias=False)\n",
       "     (bn1): BatchNorm2d(512, eps=1e-05, momentum=0.1, affine=True, track_running_stats=True)\n",
       "     (conv2): Conv2d(512, 512, kernel_size=(3, 3), stride=(1, 1), padding=(1, 1), bias=False)\n",
       "     (bn2): BatchNorm2d(512, eps=1e-05, momentum=0.1, affine=True, track_running_stats=True)\n",
       "     (conv3): Conv2d(512, 2048, kernel_size=(1, 1), stride=(1, 1), bias=False)\n",
       "     (bn3): BatchNorm2d(2048, eps=1e-05, momentum=0.1, affine=True, track_running_stats=True)\n",
       "     (relu): ReLU(inplace=True)\n",
       "   )\n",
       " ),\n",
       " AdaptiveAvgPool2d(output_size=(1, 1))]"
      ]
     },
     "execution_count": 29,
     "metadata": {},
     "output_type": "execute_result"
    }
   ],
   "source": [
    "list(backbone.children())[:-1]"
   ]
  },
  {
   "cell_type": "markdown",
   "metadata": {
    "id": "eNo3t99u4OQF"
   },
   "source": [
    "## Tiếp tục, ở đây dùng * để unpack các block của model ResNet"
   ]
  },
  {
   "cell_type": "code",
   "execution_count": 30,
   "metadata": {
    "id": "y3x56uLM2e3t"
   },
   "outputs": [],
   "source": [
    "class MyModel(nn.Module):\n",
    "    def __init__(self, num_cls):\n",
    "        super(MyModel, self).__init__()\n",
    "        self.num_cls = num_cls\n",
    "\n",
    "        # Load the ResNet50 backbone\n",
    "        backbone = models.resnet50(pretrained=True)\n",
    "\n",
    "        # Remove the last fully connected layer\n",
    "        self.model_backbone = nn.Sequential(*list(backbone.children())[:-1])  # Exclude the last layer\n",
    "\n",
    "        # Define the classification layer\n",
    "        self.clf = nn.Linear(backbone.fc.in_features, num_cls)\n",
    "\n",
    "    def forward(self, input):\n",
    "        output = self.model_backbone(input)  # Output shape: (batch_size, 2048, 1, 1)\n",
    "        output = output.view(output.size(0), -1)  # Flatten the output to (batch_size, 2048)\n",
    "        output = self.clf(output)  # Pass through the classifier\n",
    "        return output"
   ]
  },
  {
   "cell_type": "markdown",
   "metadata": {
    "id": "vcx5WIVT5NCp"
   },
   "source": [
    "## Một số layer phổ biển:\n",
    "nn.Linear\n",
    "\n",
    "nn.Conv2d\n",
    "\n",
    "nn.MaxPool2d\n",
    "\n",
    "nn.ReLU\n",
    "\n",
    "nn.BatchNorm2d\n",
    "\n",
    "nn.Dropout\n",
    "\n",
    "nn.Embedding\n",
    "\n",
    "nn.GRU\n",
    "\n",
    "nn.LSTM\n",
    "\n",
    "nn.Softmax\n",
    "\n",
    "nn.LogSoftmax\n",
    "\n",
    "nn.MultiheadAttention\n",
    "\n",
    "nn.TransformerEncoder\n"
   ]
  },
  {
   "cell_type": "code",
   "execution_count": 31,
   "metadata": {
    "colab": {
     "base_uri": "https://localhost:8080/"
    },
    "id": "HrIZzHwU4ffW",
    "outputId": "906dd070-d9a2-432f-e762-d917657c995a"
   },
   "outputs": [
    {
     "name": "stdout",
     "output_type": "stream",
     "text": [
      "torch.Size([1, 256, 127, 127])\n"
     ]
    }
   ],
   "source": [
    "import torch.nn as nn\n",
    "import torch\n",
    "#Tạo một lớp Conv2d với đầu vào channals là 3, đầu ra là 256, với kernel có kích thước (3,3) và stride = 2\n",
    "layers =  nn.Conv2d(3,256,(3,3),2)\n",
    "#Mình sẽ tạo ngẫu nhiên một Tensor có chiều (3,256,256) để xem nó thay đổi như thế nào sau khi đi qua lớp Conv2d, kết quả sẽ được một Tensor có chiều (256,127,127)\n",
    "print(layers(torch.randn(1,3,256,256)).shape)"
   ]
  },
  {
   "cell_type": "markdown",
   "metadata": {
    "id": "XzNqo90Y7bO3"
   },
   "source": [
    "# 6. Format dataset"
   ]
  },
  {
   "cell_type": "code",
   "execution_count": 32,
   "metadata": {
    "id": "qU9tgZiJGhsx"
   },
   "outputs": [],
   "source": [
    "# !pip install -U kagglehub"
   ]
  },
  {
   "cell_type": "code",
   "execution_count": 33,
   "metadata": {
    "colab": {
     "base_uri": "https://localhost:8080/"
    },
    "id": "SlVuc_TMGbGO",
    "outputId": "497dff3a-7f30-4eab-91ca-4c056c8d3877"
   },
   "outputs": [
    {
     "name": "stdout",
     "output_type": "stream",
     "text": [
      "Warning: Looks like you're using an outdated `kagglehub` version, please consider updating (latest version: 0.3.3)\n",
      "Path to dataset files: /root/.cache/kagglehub/datasets/playlist/men-women-classification/versions/3\n"
     ]
    }
   ],
   "source": [
    "import kagglehub\n",
    "\n",
    "# Download latest version\n",
    "path = kagglehub.dataset_download(\"playlist/men-women-classification\")\n",
    "\n",
    "print(\"Path to dataset files:\", path)"
   ]
  },
  {
   "cell_type": "code",
   "execution_count": 34,
   "metadata": {
    "colab": {
     "base_uri": "https://localhost:8080/"
    },
    "id": "S_i0EdLyIXQP",
    "outputId": "c3140187-d4c4-448e-b548-b0fce7098aa6"
   },
   "outputs": [
    {
     "name": "stdout",
     "output_type": "stream",
     "text": [
      "\u001B[0m\u001B[01;34mmen\u001B[0m/  \u001B[01;34mwomen\u001B[0m/\n"
     ]
    }
   ],
   "source": [
    "ls /root/.cache/kagglehub/datasets/playlist/men-women-classification/versions/3/data"
   ]
  },
  {
   "cell_type": "code",
   "execution_count": 35,
   "metadata": {
    "id": "5hYC6iS4KUX-"
   },
   "outputs": [],
   "source": [
    "data_folder = \"/root/.cache/kagglehub/datasets/playlist/men-women-classification/versions/3/data\""
   ]
  },
  {
   "cell_type": "code",
   "execution_count": 123,
   "metadata": {
    "colab": {
     "base_uri": "https://localhost:8080/"
    },
    "id": "ZE6gjinF48vx",
    "outputId": "b834953e-db13-4aba-ec92-6efcf0f05f81"
   },
   "outputs": [
    {
     "name": "stdout",
     "output_type": "stream",
     "text": [
      "Num Images in Dataset: 3309\n",
      "Label index {0: 'men', 1: 'women'}\n"
     ]
    }
   ],
   "source": [
    "from torchvision import transforms\n",
    "from torchvision.datasets import ImageFolder\n",
    "traindir = data_folder\n",
    "\n",
    "\n",
    "t = transforms.Compose([\n",
    "        transforms.Resize(size=256),\n",
    "    transforms.CenterCrop(size=224),\n",
    "        transforms.ToTensor()])\n",
    "\n",
    "train_dataset = ImageFolder(root=traindir,transform=t)\n",
    "\n",
    "print(\"Num Images in Dataset:\", len(train_dataset))\n",
    "label_dict = {idx: cls for idx, cls in enumerate(train_dataset.classes)}\n",
    "print(\"Label index\", label_dict)"
   ]
  },
  {
   "cell_type": "code",
   "execution_count": 124,
   "metadata": {
    "colab": {
     "base_uri": "https://localhost:8080/"
    },
    "id": "d8V9nJee-yhJ",
    "outputId": "b96e1eb9-92f0-4aaf-bcda-23b1944e3e97"
   },
   "outputs": [
    {
     "name": "stdout",
     "output_type": "stream",
     "text": [
      "Example Image and Label:\n"
     ]
    },
    {
     "data": {
      "text/plain": [
       "torch.Size([3, 224, 224])"
      ]
     },
     "execution_count": 124,
     "metadata": {},
     "output_type": "execute_result"
    }
   ],
   "source": [
    "print(\"Example Image and Label:\")\n",
    "image, label = train_dataset[2]\n",
    "image.shape"
   ]
  },
  {
   "cell_type": "code",
   "execution_count": 125,
   "metadata": {
    "colab": {
     "base_uri": "https://localhost:8080/",
     "height": 434
    },
    "id": "B9bmE_tErRBT",
    "outputId": "2ca4c6b2-2328-40fd-f80d-de4241be6f12"
   },
   "outputs": [
    {
     "data": {
      "image/png": "[encoded data removed]",
      "text/plain": [
       "<Figure size 640x480 with 1 Axes>"
      ]
     },
     "metadata": {},
     "output_type": "display_data"
    }
   ],
   "source": [
    "import matplotlib.pyplot as plt\n",
    "image = image.transpose(0, 2)\n",
    "plt.imshow(image)\n",
    "plt.show()"
   ]
  },
  {
   "cell_type": "code",
   "execution_count": 126,
   "metadata": {
    "colab": {
     "base_uri": "https://localhost:8080/"
    },
    "id": "_8RSBveb7BvO",
    "outputId": "f68aebb4-7c0f-4877-8ca6-915f96b7d05b"
   },
   "outputs": [
    {
     "name": "stdout",
     "output_type": "stream",
     "text": [
      "torch.Size([32, 3, 224, 224]) tensor([[0., 1.],\n",
      "        [1., 0.],\n",
      "        [1., 0.],\n",
      "        [1., 0.],\n",
      "        [0., 1.],\n",
      "        [0., 1.],\n",
      "        [0., 1.],\n",
      "        [1., 0.],\n",
      "        [0., 1.],\n",
      "        [0., 1.],\n",
      "        [0., 1.],\n",
      "        [1., 0.],\n",
      "        [0., 1.],\n",
      "        [0., 1.],\n",
      "        [0., 1.],\n",
      "        [1., 0.],\n",
      "        [0., 1.],\n",
      "        [0., 1.],\n",
      "        [0., 1.],\n",
      "        [1., 0.],\n",
      "        [1., 0.],\n",
      "        [0., 1.],\n",
      "        [0., 1.],\n",
      "        [0., 1.],\n",
      "        [0., 1.],\n",
      "        [0., 1.],\n",
      "        [0., 1.],\n",
      "        [1., 0.],\n",
      "        [0., 1.],\n",
      "        [0., 1.],\n",
      "        [1., 0.],\n",
      "        [0., 1.]])\n"
     ]
    }
   ],
   "source": [
    "import os\n",
    "import cv2\n",
    "import numpy as np\n",
    "from PIL import Image\n",
    "from torch.utils.data import Dataset\n",
    "from torchvision import transforms\n",
    "\n",
    "# Define your custom dataset class\n",
    "class myDataset(Dataset):\n",
    "    def __init__(self, data_dict, trans=None):\n",
    "        super().__init__()\n",
    "        self.data_dict = data_dict\n",
    "        self.trans = trans\n",
    "\n",
    "    def __len__(self):\n",
    "        return len(self.data_dict)\n",
    "\n",
    "    def __getitem__(self, idx):\n",
    "        image_path = self.data_dict[idx]['data_link']\n",
    "        current_label = self.data_dict[idx]['label']\n",
    "        if current_label == 0:\n",
    "          label = torch.tensor([1.,0.])\n",
    "        else:\n",
    "          label = torch.tensor([0.,1.])\n",
    "\n",
    "        # Attempt to read the image\n",
    "        try:\n",
    "            image = cv2.imread(image_path)\n",
    "            image = cv2.cvtColor(image, cv2.COLOR_BGR2RGB)\n",
    "            image = Image.fromarray(image)  # Convert NumPy array to PIL Image\n",
    "        except Exception as e:\n",
    "            print(f\"Error reading image {image_path}: {e}\")\n",
    "            # Create a blank image as a placeholder\n",
    "            image = Image.new(\"RGB\", (224, 224))  # Placeholder for invalid images\n",
    "\n",
    "        if self.trans:\n",
    "            image = self.trans(image)  # Apply the transformations\n",
    "\n",
    "        return image, label  # Return the image (already a tensor) and the label\n",
    "\n",
    "# Example transformations\n",
    "transform = transforms.Compose([\n",
    "    transforms.Resize(size=(256, 256)),\n",
    "    transforms.CenterCrop(size=(224, 224)),\n",
    "    transforms.ToTensor()  # Converts PIL image to tensor\n",
    "])\n",
    "\n",
    "data_dict = []\n",
    "\n",
    "# Create the data_dict by iterating over the directories\n",
    "for label, folder in enumerate(['men', 'women']):\n",
    "    folder_path = os.path.join(data_folder, folder)\n",
    "    for filename in os.listdir(folder_path):\n",
    "        if filename.lower().endswith(('.jpg', '.jpeg', '.png')):\n",
    "            image_path = os.path.join(folder_path, filename)\n",
    "            data_dict.append({'data_link': image_path, 'label': label})\n",
    "\n",
    "# Create the dataset\n",
    "dataset = myDataset(data_dict=data_dict, trans=transform)\n",
    "\n",
    "# Optionally, create a DataLoader\n",
    "from torch.utils.data import DataLoader\n",
    "dataloader = DataLoader(dataset, batch_size=32, shuffle=True)\n",
    "\n",
    "# Example of using the DataLoader\n",
    "for images, labels in dataloader:\n",
    "    print(images.shape, labels)\n",
    "    break"
   ]
  },
  {
   "cell_type": "code",
   "execution_count": 127,
   "metadata": {
    "colab": {
     "base_uri": "https://localhost:8080/"
    },
    "id": "lanrEg5XMXmX",
    "outputId": "769f0f85-9c99-4d3c-f5de-2b2b45c44ab9"
   },
   "outputs": [
    {
     "data": {
      "text/plain": [
       "(torch.Size([32, 3, 224, 224]), torch.Size([32, 2]))"
      ]
     },
     "execution_count": 127,
     "metadata": {},
     "output_type": "execute_result"
    }
   ],
   "source": [
    "next_batch = next(iter(dataloader))\n",
    "images, labels = next_batch\n",
    "images.shape, labels.shape"
   ]
  },
  {
   "cell_type": "markdown",
   "metadata": {
    "id": "SVtZIRb9-_D3"
   },
   "source": [
    "# Train"
   ]
  },
  {
   "cell_type": "markdown",
   "metadata": {
    "id": "FWclE54hNYX0"
   },
   "source": [
    "## Một số hàm loss\n",
    "nn.MSE(),nn.CrossEntropyLoss(), nn.KLDivLoss(), nn.BCELoss, nn.NLLLoss()\n",
    "## Một số optimizer\n",
    "torch.optim.Adadelta , torch.optim.Adagrad , torch.optim.RMSprop\n",
    "torch.optim.Adam"
   ]
  },
  {
   "cell_type": "code",
   "execution_count": 40,
   "metadata": {
    "id": "H0lmukQJN_0x"
   },
   "outputs": [],
   "source": [
    "def custom_bce_loss(pred, target):\n",
    "  bce_loss = nn.BCEWithLogitsLoss()\n",
    "  return bce_loss(pred, target)"
   ]
  },
  {
   "cell_type": "code",
   "execution_count": 41,
   "metadata": {
    "id": "qyUBT_31Yi88"
   },
   "outputs": [],
   "source": [
    "from torch.utils.data import random_split"
   ]
  },
  {
   "cell_type": "code",
   "execution_count": 42,
   "metadata": {
    "id": "5BegV8sTREiF"
   },
   "outputs": [],
   "source": [
    "train_size = int(0.7 * len(dataset))  # 70% for training\n",
    "valid_size = int(0.15 * len(dataset))  # 15% for validation\n",
    "test_size = len(dataset) - train_size - valid_size  # 15% for test\n",
    "\n",
    "train_dataset, valid_dataset, test_dataset = random_split(dataset, [train_size, valid_size, test_size])\n",
    "train_dataloader = DataLoader(train_dataset, batch_size=128, shuffle=True)\n",
    "valid_dataloader = DataLoader(valid_dataset, batch_size=128, shuffle=False)\n",
    "test_dataloader = DataLoader(test_dataset, batch_size=128, shuffle=False)"
   ]
  },
  {
   "cell_type": "code",
   "execution_count": 43,
   "metadata": {
    "colab": {
     "base_uri": "https://localhost:8080/"
    },
    "id": "GJRmiCn1WtSi",
    "outputId": "da6fd996-e8f7-4c5b-c273-724870da796a"
   },
   "outputs": [
    {
     "data": {
      "text/plain": [
       "torch.Size([128, 3, 224, 224])"
      ]
     },
     "execution_count": 43,
     "metadata": {},
     "output_type": "execute_result"
    }
   ],
   "source": [
    "next_batch = next(iter(train_dataloader))\n",
    "next_batch[0].shape"
   ]
  },
  {
   "cell_type": "code",
   "execution_count": 44,
   "metadata": {
    "id": "PcjN6s0YamvM"
   },
   "outputs": [],
   "source": [
    "device = torch.device(\"cuda\" if torch.cuda.is_available() else \"cpu\")  # Set the device"
   ]
  },
  {
   "cell_type": "code",
   "execution_count": 45,
   "metadata": {
    "colab": {
     "base_uri": "https://localhost:8080/"
    },
    "id": "gPrkZdsvOK1z",
    "outputId": "a381c6aa-b9aa-486d-d6ab-ac9478d08755"
   },
   "outputs": [
    {
     "name": "stderr",
     "output_type": "stream",
     "text": [
      "/usr/local/lib/python3.10/dist-packages/torchvision/models/_utils.py:208: UserWarning: The parameter 'pretrained' is deprecated since 0.13 and may be removed in the future, please use 'weights' instead.\n",
      "  warnings.warn(\n",
      "/usr/local/lib/python3.10/dist-packages/torchvision/models/_utils.py:223: UserWarning: Arguments other than a weight enum or `None` for 'weights' are deprecated since 0.13 and may be removed in the future. The current behavior is equivalent to passing `weights=ResNet50_Weights.IMAGENET1K_V1`. You can also use `weights=ResNet50_Weights.DEFAULT` to get the most up-to-date weights.\n",
      "  warnings.warn(msg)\n"
     ]
    }
   ],
   "source": [
    "model = MyModel(2).to(device)\n",
    "optimizer = torch.optim.Adam(model.parameters())"
   ]
  },
  {
   "cell_type": "code",
   "execution_count": 46,
   "metadata": {
    "colab": {
     "base_uri": "https://localhost:8080/"
    },
    "id": "6iT5XS9bbQXL",
    "outputId": "b1ebfbd2-9264-4b55-d906-e5d0ab4a6269"
   },
   "outputs": [
    {
     "name": "stdout",
     "output_type": "stream",
     "text": [
      "Requirement already satisfied: torchmetrics in /usr/local/lib/python3.10/dist-packages (1.5.0)\n",
      "Requirement already satisfied: numpy<2.0,>1.20.0 in /usr/local/lib/python3.10/dist-packages (from torchmetrics) (1.26.4)\n",
      "Requirement already satisfied: packaging>17.1 in /usr/local/lib/python3.10/dist-packages (from torchmetrics) (24.1)\n",
      "Requirement already satisfied: torch>=1.10.0 in /usr/local/lib/python3.10/dist-packages (from torchmetrics) (2.4.1+cu121)\n",
      "Requirement already satisfied: lightning-utilities>=0.8.0 in /usr/local/lib/python3.10/dist-packages (from torchmetrics) (0.11.8)\n",
      "Requirement already satisfied: setuptools in /usr/local/lib/python3.10/dist-packages (from lightning-utilities>=0.8.0->torchmetrics) (75.1.0)\n",
      "Requirement already satisfied: typing-extensions in /usr/local/lib/python3.10/dist-packages (from lightning-utilities>=0.8.0->torchmetrics) (4.12.2)\n",
      "Requirement already satisfied: filelock in /usr/local/lib/python3.10/dist-packages (from torch>=1.10.0->torchmetrics) (3.16.1)\n",
      "Requirement already satisfied: sympy in /usr/local/lib/python3.10/dist-packages (from torch>=1.10.0->torchmetrics) (1.13.3)\n",
      "Requirement already satisfied: networkx in /usr/local/lib/python3.10/dist-packages (from torch>=1.10.0->torchmetrics) (3.4.1)\n",
      "Requirement already satisfied: jinja2 in /usr/local/lib/python3.10/dist-packages (from torch>=1.10.0->torchmetrics) (3.1.4)\n",
      "Requirement already satisfied: fsspec in /usr/local/lib/python3.10/dist-packages (from torch>=1.10.0->torchmetrics) (2024.6.1)\n",
      "Requirement already satisfied: MarkupSafe>=2.0 in /usr/local/lib/python3.10/dist-packages (from jinja2->torch>=1.10.0->torchmetrics) (3.0.1)\n",
      "Requirement already satisfied: mpmath<1.4,>=1.1.0 in /usr/local/lib/python3.10/dist-packages (from sympy->torch>=1.10.0->torchmetrics) (1.3.0)\n"
     ]
    }
   ],
   "source": [
    "!pip install torchmetrics"
   ]
  },
  {
   "cell_type": "code",
   "execution_count": 47,
   "metadata": {
    "id": "D8p9h2ALbOR2"
   },
   "outputs": [],
   "source": [
    "from torchmetrics import Accuracy, F1Score\n",
    "\n",
    "accuracy_metric = Accuracy(task=\"binary\")\n",
    "f1_metric = F1Score(task=\"binary\", num_classes=2, average='weighted')"
   ]
  },
  {
   "cell_type": "code",
   "execution_count": 49,
   "metadata": {
    "colab": {
     "base_uri": "https://localhost:8080/",
     "height": 421
    },
    "id": "i6_8xMcU-_46",
    "outputId": "3575875b-4c1a-4a7e-df17-4a7083a6cf6c"
   },
   "outputs": [
    {
     "name": "stderr",
     "output_type": "stream",
     "text": [
      "100%|██████████| 19/19 [01:10<00:00,  3.70s/it]\n",
      "<ipython-input-49-d5aeec526054>:28: UserWarning: Creating a tensor from a list of numpy.ndarrays is extremely slow. Please consider converting the list to a single numpy.ndarray with numpy.array() before converting to a tensor. (Triggered internally at ../torch/csrc/utils/tensor_new.cpp:278.)\n",
      "  all_preds = torch.as_tensor(all_preds)\n"
     ]
    },
    {
     "name": "stdout",
     "output_type": "stream",
     "text": [
      "Epoch [1/10] - Train Loss: 0.3999, Train Accuracy: 0.8405, Train F1 Score: 0.8409\n"
     ]
    },
    {
     "name": "stderr",
     "output_type": "stream",
     "text": [
      "100%|██████████| 4/4 [00:11<00:00,  2.79s/it]\n"
     ]
    },
    {
     "name": "stdout",
     "output_type": "stream",
     "text": [
      "Epoch [1/10] - Validation Loss: 4.6489, Validation Accuracy: 0.6976, Validation F1 Score: 0.6982\n"
     ]
    },
    {
     "name": "stderr",
     "output_type": "stream",
     "text": [
      "100%|██████████| 19/19 [01:17<00:00,  4.10s/it]\n"
     ]
    },
    {
     "name": "stdout",
     "output_type": "stream",
     "text": [
      "Epoch [2/10] - Train Loss: 0.3400, Train Accuracy: 0.8456, Train F1 Score: 0.8457\n"
     ]
    },
    {
     "name": "stderr",
     "output_type": "stream",
     "text": [
      "100%|██████████| 4/4 [00:19<00:00,  4.97s/it]\n"
     ]
    },
    {
     "name": "stdout",
     "output_type": "stream",
     "text": [
      "Epoch [2/10] - Validation Loss: 1.4499, Validation Accuracy: 0.7248, Validation F1 Score: 0.7251\n"
     ]
    },
    {
     "name": "stderr",
     "output_type": "stream",
     "text": [
      " 26%|██▋       | 5/19 [00:19<00:55,  3.99s/it]\n"
     ]
    },
    {
     "ename": "KeyboardInterrupt",
     "evalue": "",
     "output_type": "error",
     "traceback": [
      "\u001B[0;31m---------------------------------------------------------------------------\u001B[0m",
      "\u001B[0;31mKeyboardInterrupt\u001B[0m                         Traceback (most recent call last)",
      "\u001B[0;32m<ipython-input-49-d5aeec526054>\u001B[0m in \u001B[0;36m<cell line: 5>\u001B[0;34m()\u001B[0m\n\u001B[1;32m     20\u001B[0m         \u001B[0moptimizer\u001B[0m\u001B[0;34m.\u001B[0m\u001B[0mstep\u001B[0m\u001B[0;34m(\u001B[0m\u001B[0;34m)\u001B[0m\u001B[0;34m\u001B[0m\u001B[0;34m\u001B[0m\u001B[0m\n\u001B[1;32m     21\u001B[0m \u001B[0;34m\u001B[0m\u001B[0m\n\u001B[0;32m---> 22\u001B[0;31m         \u001B[0mtotal_loss\u001B[0m \u001B[0;34m+=\u001B[0m \u001B[0mloss\u001B[0m\u001B[0;34m.\u001B[0m\u001B[0mitem\u001B[0m\u001B[0;34m(\u001B[0m\u001B[0;34m)\u001B[0m\u001B[0;34m\u001B[0m\u001B[0;34m\u001B[0m\u001B[0m\n\u001B[0m\u001B[1;32m     23\u001B[0m         \u001B[0mall_preds\u001B[0m\u001B[0;34m.\u001B[0m\u001B[0mextend\u001B[0m\u001B[0;34m(\u001B[0m\u001B[0mpred\u001B[0m\u001B[0;34m.\u001B[0m\u001B[0mcpu\u001B[0m\u001B[0;34m(\u001B[0m\u001B[0;34m)\u001B[0m\u001B[0;34m.\u001B[0m\u001B[0mdetach\u001B[0m\u001B[0;34m(\u001B[0m\u001B[0;34m)\u001B[0m\u001B[0;34m.\u001B[0m\u001B[0mnumpy\u001B[0m\u001B[0;34m(\u001B[0m\u001B[0;34m)\u001B[0m\u001B[0;34m)\u001B[0m\u001B[0;34m\u001B[0m\u001B[0;34m\u001B[0m\u001B[0m\n\u001B[1;32m     24\u001B[0m         \u001B[0mall_labels\u001B[0m\u001B[0;34m.\u001B[0m\u001B[0mextend\u001B[0m\u001B[0;34m(\u001B[0m\u001B[0my_batch\u001B[0m\u001B[0;34m.\u001B[0m\u001B[0mcpu\u001B[0m\u001B[0;34m(\u001B[0m\u001B[0;34m)\u001B[0m\u001B[0;34m.\u001B[0m\u001B[0mdetach\u001B[0m\u001B[0;34m(\u001B[0m\u001B[0;34m)\u001B[0m\u001B[0;34m.\u001B[0m\u001B[0mnumpy\u001B[0m\u001B[0;34m(\u001B[0m\u001B[0;34m)\u001B[0m\u001B[0;34m)\u001B[0m\u001B[0;34m\u001B[0m\u001B[0;34m\u001B[0m\u001B[0m\n",
      "\u001B[0;31mKeyboardInterrupt\u001B[0m: "
     ]
    }
   ],
   "source": [
    "import torch\n",
    "from tqdm import tqdm\n",
    "\n",
    "num_epochs = 10\n",
    "for epoch in range(num_epochs):\n",
    "    # Training phase\n",
    "    model.train()\n",
    "    total_loss = 0\n",
    "    all_preds = []\n",
    "    all_labels = []\n",
    "\n",
    "    for x_batch, y_batch in tqdm(train_dataloader):\n",
    "        x_batch = x_batch.to(device)\n",
    "        y_batch = y_batch.to(device)\n",
    "        optimizer.zero_grad()\n",
    "        pred = model(x_batch)\n",
    "\n",
    "        loss = custom_bce_loss(pred, y_batch)\n",
    "        loss.backward()\n",
    "        optimizer.step()\n",
    "\n",
    "        total_loss += loss.item()\n",
    "        all_preds.extend(pred.cpu().detach().numpy())\n",
    "        all_labels.extend(y_batch.cpu().detach().numpy())\n",
    "\n",
    "\n",
    "    # Calculate training accuracy and F1 score\n",
    "    all_preds = torch.as_tensor(all_preds)\n",
    "    all_labels = torch.as_tensor(all_labels)\n",
    "    train_accuracy = accuracy_metric(all_preds, all_labels)\n",
    "    train_f1 = f1_metric(all_preds, all_labels)\n",
    "    avg_train_loss = total_loss / len(train_dataloader)\n",
    "\n",
    "    print(f'Epoch [{epoch+1}/{num_epochs}] - '\n",
    "          f'Train Loss: {avg_train_loss:.4f}, '\n",
    "          f'Train Accuracy: {train_accuracy:.4f}, '\n",
    "          f'Train F1 Score: {train_f1:.4f}')\n",
    "\n",
    "    # Validation phase\n",
    "    model.eval()\n",
    "    val_total_loss = 0\n",
    "    val_all_preds = []\n",
    "    val_all_labels = []\n",
    "\n",
    "    with torch.no_grad():\n",
    "        for x_batch, y_batch in tqdm(valid_dataloader):\n",
    "            x_batch = x_batch.to(device)\n",
    "            y_batch = y_batch.to(device)\n",
    "            pred = model(x_batch)\n",
    "            val_loss = custom_bce_loss(pred, y_batch)\n",
    "\n",
    "            val_total_loss += val_loss.item()\n",
    "            val_all_preds.extend(pred.cpu().detach().numpy())\n",
    "            val_all_labels.extend(y_batch.cpu().detach().numpy())\n",
    "\n",
    "    # Calculate validation accuracy and F1 score\n",
    "    all_preds = torch.as_tensor(val_all_preds)\n",
    "    all_labels = torch.as_tensor(val_all_labels)\n",
    "    val_accuracy = accuracy_metric(all_preds, all_labels)\n",
    "    val_f1 = f1_metric(all_preds, all_labels)\n",
    "    avg_val_loss = val_total_loss / len(valid_dataloader)\n",
    "\n",
    "    print(f'Epoch [{epoch+1}/{num_epochs}] - '\n",
    "          f'Validation Loss: {avg_val_loss:.4f}, '\n",
    "          f'Validation Accuracy: {val_accuracy:.4f}, '\n",
    "          f'Validation F1 Score: {val_f1:.4f}')\n",
    "    "
   ]
  },
  {
   "cell_type": "code",
   "execution_count": 53,
   "metadata": {
    "colab": {
     "base_uri": "https://localhost:8080/"
    },
    "id": "hb_pJ-99bsH3",
    "outputId": "85d4fb78-ebb9-418c-b75f-38ea4cd50379"
   },
   "outputs": [
    {
     "name": "stdout",
     "output_type": "stream",
     "text": [
      "              precision    recall  f1-score   support\n",
      "\n",
      "     Class 0       0.72      0.88      0.79       191\n",
      "     Class 1       0.92      0.78      0.84       306\n",
      "\n",
      "    accuracy                           0.82       497\n",
      "   macro avg       0.82      0.83      0.82       497\n",
      "weighted avg       0.84      0.82      0.82       497\n",
      "\n"
     ]
    }
   ],
   "source": [
    "import torch\n",
    "import numpy as np\n",
    "from sklearn.metrics import classification_report\n",
    "\n",
    "# Assuming you have your test dataloader and model set up\n",
    "all_labels = []\n",
    "all_preds = []\n",
    "\n",
    "# Evaluate the model on the test DataLoader\n",
    "model.eval()  # Set the model to evaluation mode\n",
    "\n",
    "with torch.no_grad():  # Disable gradient calculation\n",
    "    for images, labels in test_dataloader:  # Replace with your test dataloader\n",
    "        images = images.to(device)  # Move images to device\n",
    "        labels = labels.to(device)  # Move labels to device\n",
    "\n",
    "        outputs = model(images)  # Your model's forward pass\n",
    "        _, preds = torch.max(outputs, 1)  # Get the predicted class\n",
    "\n",
    "        all_labels.extend(labels.argmax(dim=1).cpu().numpy())  # Collect true labels\n",
    "        all_preds.extend(preds.cpu().numpy())  # Collect predictions\n",
    "\n",
    "# Convert lists to numpy arrays\n",
    "all_labels = np.array(all_labels)\n",
    "all_preds = np.array(all_preds)\n",
    "\n",
    "# Generate and print the classification report\n",
    "report = classification_report(all_labels, all_preds, target_names=['Class 0', 'Class 1'])  # Adjust class names as needed\n",
    "print(report)"
   ]
  },
  {
   "cell_type": "markdown",
   "metadata": {
    "id": "62kv7RDKf9WO"
   },
   "source": [
    "# Pratice: Multiclass Classification"
   ]
  },
  {
   "cell_type": "code",
   "execution_count": 54,
   "metadata": {
    "id": "YW-HNtUrgBfM"
   },
   "outputs": [],
   "source": [
    "from sklearn.datasets import load_iris\n",
    "iris = load_iris()\n",
    "X = iris.data\n",
    "Y = iris.target"
   ]
  },
  {
   "cell_type": "code",
   "execution_count": 55,
   "metadata": {
    "id": "9yubHNjZgHfe"
   },
   "outputs": [],
   "source": [
    "from sklearn.model_selection import train_test_split\n",
    "x_train, x_val, y_train, y_val = train_test_split(X, Y, test_size=0.33, random_state=42)\n",
    "x_val, x_test, y_val, y_test = train_test_split(x_val, y_val, test_size=0.15, random_state=42)"
   ]
  },
  {
   "cell_type": "code",
   "execution_count": 58,
   "metadata": {
    "id": "d01WMhSggvRc"
   },
   "outputs": [],
   "source": [
    "class Data(Dataset):\n",
    "    def __init__(self, X, y):\n",
    "        self.x=torch.from_numpy(X)\n",
    "        self.y=torch.from_numpy(y)\n",
    "        self.len=self.x.shape[0]\n",
    "    def __getitem__(self,index):\n",
    "        return self.x[index], self.y[index]\n",
    "    def __len__(self):\n",
    "        return self.len"
   ]
  },
  {
   "cell_type": "code",
   "execution_count": 60,
   "metadata": {
    "id": "N4iw8bt5hCeV"
   },
   "outputs": [],
   "source": [
    "train_dataset = Data(x_train, y_train)\n",
    "trainloader = DataLoader(dataset=train_dataset,batch_size=64)\n",
    "val_dataset = Data(x_train, y_train)\n",
    "val_loader = DataLoader(dataset=val_dataset,batch_size=64)\n",
    "test_dataset = Data(x_train, y_train)\n",
    "test_loader = DataLoader(dataset=test_dataset,batch_size=64)"
   ]
  },
  {
   "cell_type": "code",
   "execution_count": 61,
   "metadata": {
    "id": "J-pmUkxCgzys"
   },
   "outputs": [],
   "source": [
    "class Net(nn.Module):\n",
    "    def __init__(self,D_in,H,D_out):\n",
    "        super(Net,self).__init__()\n",
    "        self.linear1=nn.Linear(D_in,H)\n",
    "        self.linear2=nn.Linear(H,D_out)\n",
    "\n",
    "\n",
    "    def forward(self,x):\n",
    "        x=torch.sigmoid(self.linear1(x))\n",
    "        x=self.linear2(x)\n",
    "        return x"
   ]
  },
  {
   "cell_type": "code",
   "execution_count": 62,
   "metadata": {
    "id": "WA-mNR21hIHm"
   },
   "outputs": [],
   "source": [
    "input_dim = 4\n",
    "hidden_dim = 25\n",
    "output_dim = 3\n",
    "model = Net(input_dim,hidden_dim,output_dim)"
   ]
  },
  {
   "cell_type": "markdown",
   "metadata": {
    "id": "bCogvLVah115"
   },
   "source": [
    "# Yêu cầu: viết đoạn script để Train và Inference\n",
    "+ Trong phần code train phải log ra được loss, Accuracy, Precision, Recall, F1.\n",
    "\n",
    "**Hint**:\n",
    "\n",
    "https://torchmetrics.readthedocs.io/en/v0.10.2/classification/precision_recall.html\n",
    "\n",
    "https://lightning.ai/docs/torchmetrics/stable/classification/f1_score.html\n",
    "\n",
    "https://lightning.ai/docs/torchmetrics/stable/classification/accuracy.html\n",
    "\n",
    "\n",
    "+ Xuất ra bản classification_report bằng sklearn trong phần Inference\n"
   ]
  },
  {
   "metadata": {},
   "cell_type": "code",
   "outputs": [],
   "execution_count": null,
   "source": ""
  }
 ],
 "metadata": {
  "accelerator": "GPU",
  "colab": {
   "gpuType": "T4",
   "provenance": []
  },
  "kernelspec": {
   "display_name": "Python 3 (ipykernel)",
   "language": "python",
   "name": "python3"
  },
  "language_info": {
   "codemirror_mode": {
    "name": "ipython",
    "version": 3
   },
   "file_extension": ".py",
   "mimetype": "text/x-python",
   "name": "python",
   "nbconvert_exporter": "python",
   "pygments_lexer": "ipython3",
   "version": "3.12.4"
  }
 },
 "nbformat": 4,
 "nbformat_minor": 4
}
