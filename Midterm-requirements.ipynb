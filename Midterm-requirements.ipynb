{
 "cells": [
  {
   "cell_type": "markdown",
   "id": "e3b8f805-f6c1-4b67-a755-da96fff2917e",
   "metadata": {
    "id": "e3b8f805-f6c1-4b67-a755-da96fff2917e"
   },
   "source": [
    "# 1. Refractor script\n",
    "Bạn được giao nhiệm vụ cải tiến một hệ thống giỏ hàng trực tuyến. Đoạn mã hiện tại bao gồm nhiều hàm độc lập xử lý các tính năng khác nhau cho sản phẩm và giỏ hàng, nhưng nó chưa được tổ chức rõ ràng. Nhiệm vụ của bạn là tái cấu trúc đoạn mã này bằng cách sử dụng các lớp (class) để mã dễ bảo trì và dễ mở rộng."
   ]
  },
  {
   "cell_type": "markdown",
   "id": "5c234acb-582a-4d66-8a4a-6de07a9e7d10",
   "metadata": {
    "id": "5c234acb-582a-4d66-8a4a-6de07a9e7d10"
   },
   "source": [
    "## Mã ban đầu\n",
    "Dưới đây là đoạn mã hiện tại, bao gồm các hàm xử lý giảm giá, thuế, quản lý giỏ hàng, và kiểm tra hàng tồn kho. Mỗi sản phẩm là một từ điển (dictionary) với các thuộc tính như tên, giá, và số lượng hàng tồn kho."
   ]
  },
  {
   "cell_type": "code",
   "execution_count": null,
   "id": "473195b6-4990-4574-9bb4-4ce9d7f39a04",
   "metadata": {
    "id": "473195b6-4990-4574-9bb4-4ce9d7f39a04"
   },
   "outputs": [],
   "source": [
    "# Dữ liệu mẫu\n",
    "products = [\n",
    "    {'name': 'Book', 'price': 15.0, 'stock': 10},\n",
    "    {'name': 'Food', 'price': 8.0, 'stock': 20},\n",
    "    {'name': 'Gadget', 'price': 25.0, 'stock': 5}\n",
    "]\n",
    "\n",
    "# Các hàm hiện tại\n",
    "def apply_discount(product, discount):\n",
    "    return product['price'] * (1 - discount)\n",
    "\n",
    "def calculate_tax(product, tax_rate):\n",
    "    return product['price'] * tax_rate\n",
    "\n",
    "def calculate_total(cart):\n",
    "    total = 0\n",
    "    for item in cart:\n",
    "        total += item['price']\n",
    "    return total\n",
    "\n",
    "def add_product(cart, product):\n",
    "    cart.append(product)\n",
    "\n",
    "def remove_product(cart, product_name):\n",
    "    cart[:] = [p for p in cart if p['name'] != product_name]\n",
    "\n",
    "def list_products(cart):\n",
    "    for product in cart:\n",
    "        print(f\"{product['name']}: ${product['price']}\")\n",
    "\n",
    "def update_stock(product, amount):\n",
    "    product['stock'] += amount\n",
    "\n",
    "def is_in_stock(product):\n",
    "    return product['stock'] > 0\n",
    "\n",
    "def get_total_stock(products):\n",
    "    return sum(product['stock'] for product in products)\n"
   ]
  },
  {
   "metadata": {},
   "cell_type": "markdown",
   "source": [
    "## Yêu cầu\n",
    "\n",
    "### 1. Tái cấu trúc mã: Sử dụng các lớp để tổ chức lại mã. (30%)\n",
    "\n",
    "* Product: Lớp này sẽ đại diện cho một sản phẩm và chứa các phương thức liên quan đến sản phẩm.\n",
    "* Cart: Lớp này sẽ quản lý các sản phẩm trong giỏ hàng và chứa các phương thức để thêm, xóa sản phẩm và tính tổng giá.\n",
    "\n",
    "### 2. Cập nhật mã (30%)\n",
    "Di chuyển các hàm hiện tại vào các lớp thích hợp và điều chỉnh lại mã để sử dụng các phương thức thay vì các hàm độc lập.\n",
    "\n",
    "### 3. Xây dựng ví dụ: Sau khi tổ chức lại mã, tạo một ví dụ tuỳ ý để hiển thị (15%)\n",
    "\n",
    "* Thêm sản phẩm vào giỏ hàng.\n",
    "* Tính tổng giá sau khi áp dụng thuế và giảm giá.\n",
    "* In danh sách sản phẩm trong giỏ hàng.\n"
   ],
   "id": "7a23c1124ecc5b55"
  },
  {
   "metadata": {},
   "cell_type": "code",
   "outputs": [],
   "execution_count": null,
   "source": [
    "class Product:\n",
    "    def __init__(self, name, price, stock):\n",
    "        \"\"\"Khởi tạo một sản phẩm với tên, giá và số lượng hàng tồn kho.\"\"\"\n",
    "        self.name = name\n",
    "        self.price = price\n",
    "        self.stock = stock\n",
    "\n",
    "    def apply_discount(self, discount):\n",
    "        \"\"\"Áp dụng giảm giá cho sản phẩm.\"\"\"\n",
    "        return self.price * (1 - discount)\n",
    "\n",
    "    def calculate_tax(self, tax_rate):\n",
    "        \"\"\"Tính thuế cho sản phẩm.\"\"\"\n",
    "        return self.price * tax_rate\n",
    "\n",
    "    def is_in_stock(self, quantity=1):\n",
    "        \"\"\"Kiểm tra xem sản phẩm có đủ hàng trong kho không.\"\"\"\n",
    "        return self.stock >= quantity\n",
    "\n",
    "    def update_stock(self, quantity):\n",
    "        \"\"\"Giảm số lượng hàng tồn kho khi đặt hàng.\"\"\"\n",
    "        if quantity <= self.stock:\n",
    "            self.stock -= quantity\n",
    "        else:\n",
    "            raise ValueError(\"Số lượng không đủ trong kho!\")\n",
    "\n",
    "    def restock(self, quantity):\n",
    "        \"\"\"Tăng số lượng hàng tồn kho khi sản phẩm được trả lại.\"\"\"\n",
    "        self.stock += quantity\n",
    "\n",
    "\n",
    "class Cart:\n",
    "    def __init__(self):\n",
    "        \"\"\"Khởi tạo một giỏ hàng trống.\"\"\"\n",
    "        self.items = []\n",
    "\n",
    "    def add_product(self, product, quantity=1):\n",
    "        \"\"\"Thêm sản phẩm vào giỏ hàng với số lượng chỉ định.\"\"\"\n",
    "        if product.is_in_stock(quantity):\n",
    "            self.items.append({'product': product, 'quantity': quantity})\n",
    "            product.update_stock(quantity)\n",
    "        else:\n",
    "            print(f\"{product.name} không đủ hàng trong kho cho {quantity} sản phẩm!\")\n",
    "\n",
    "    def remove_quantity(self, product_name, quantity=1):\n",
    "        \"\"\"Giảm một số lượng sản phẩm trong giỏ hàng và cập nhật lại kho hàng.\"\"\"\n",
    "        for item in self.items:\n",
    "            if item['product'].name == product_name:\n",
    "                if item['quantity'] > quantity:\n",
    "                    item['quantity'] -= quantity\n",
    "                    item['product'].restock(quantity)\n",
    "                else:\n",
    "                    # Nếu số lượng muốn xóa >= số lượng hiện tại, xóa sản phẩm khỏi giỏ hàng\n",
    "                    item['product'].restock(item['quantity'])\n",
    "                    self.items.remove(item)\n",
    "                break\n",
    "\n",
    "    def calculate_total(self):\n",
    "        \"\"\"Tính tổng giá các sản phẩm trong giỏ.\"\"\"\n",
    "        return sum(item['product'].price * item['quantity'] for item in self.items)\n",
    "\n",
    "    def calculate_total_with_discount_and_tax(self, discount, tax_rate):\n",
    "        \"\"\"Tính tổng giá sau khi áp dụng giảm giá và thuế.\"\"\"\n",
    "        total = 0\n",
    "        for item in self.items:\n",
    "            product = item['product']\n",
    "            quantity = item['quantity']\n",
    "            discounted_price = product.apply_discount(discount) * quantity\n",
    "            total += discounted_price + product.calculate_tax(tax_rate) * quantity\n",
    "        return total\n",
    "\n",
    "    def list_products(self):\n",
    "        \"\"\"In danh sách các sản phẩm trong giỏ hàng.\"\"\"\n",
    "        for item in self.items:\n",
    "            product = item['product']\n",
    "            quantity = item['quantity']\n",
    "            print(f\"{product.name} x {quantity}: ${product.price * quantity:.2f}\")\n",
    "\n",
    "\n",
    "# Dữ liệu mẫu sản phẩm\n",
    "products_data = [\n",
    "    {'name': 'Book', 'price': 15.0, 'stock': 10},\n",
    "    {'name': 'Food', 'price': 8.0, 'stock': 20},\n",
    "    {'name': 'Gadget', 'price': 25.0, 'stock': 5}\n",
    "]\n",
    "\n",
    "# Tạo các sản phẩm từ dữ liệu mẫu\n",
    "products = [Product(**data) for data in products_data]\n",
    "\n",
    "# Tạo giỏ hàng và thêm sản phẩm\n",
    "cart = Cart()\n",
    "cart.add_product(products[0], quantity=3)  # Thêm x3 Book\n",
    "cart.add_product(products[1], quantity=5)  # Thêm x5 Food\n",
    "cart.add_product(products[2], quantity=6)  # Thêm x6 Gadget\n",
    "\n",
    "# In danh sách sản phẩm trong giỏ hàng và tổng giá ban đầu\n",
    "print(\"Giỏ hàng ban đầu:\")\n",
    "cart.list_products()\n",
    "print(f\"Tổng giá ban đầu: ${cart.calculate_total():.2f}\")\n",
    "\n",
    "# Loại bỏ x1 Book khỏi giỏ hàng\n",
    "cart.remove_quantity(\"Book\", quantity=1)\n",
    "\n",
    "# Áp dụng giảm giá và thuế sau khi cập nhật giỏ hàng\n",
    "discount = 0.2  # Giảm giá 20%\n",
    "tax = 0.06  # Thuế 6%\n",
    "total_with_discount_and_tax = cart.calculate_total_with_discount_and_tax(discount, tax)\n",
    "\n",
    "# In giỏ hàng và tổng giá sau khi loại bỏ x1 Book\n",
    "print(\"\\nGiỏ hàng sau khi trả lại x1 Book:\")\n",
    "cart.list_products()\n",
    "print(f\"Tổng giá sau khi áp dụng giảm giá và thuế: ${total_with_discount_and_tax:.2f}\")\n"
   ],
   "id": "caa3b95b01c58397"
  },
  {
   "cell_type": "markdown",
   "id": "df138a81-5f0b-4945-8785-060e4c30c15c",
   "metadata": {
    "id": "df138a81-5f0b-4945-8785-060e4c30c15c"
   },
   "source": [
    "# 2. Viết hàm từ flowchart sau (20%)\n",
    "Link ảnh: https://drive.google.com/file/d/1nLY0RH4GrA6OXEuDqhIOGMmVPikvmMkL/view?usp=sharing"
   ]
  },
  {
   "metadata": {
    "ExecuteTime": {
     "end_time": "2024-11-22T15:58:45.705164Z",
     "start_time": "2024-11-22T15:58:42.416824Z"
    }
   },
   "cell_type": "code",
   "source": [
    "def f(n):\n",
    "    a = 0\n",
    "    b = 1\n",
    "    count = 2\n",
    "    \n",
    "    print(a)\n",
    "    print(b)\n",
    "    \n",
    "    while count <= n:\n",
    "        next = a + b\n",
    "        \n",
    "        print(next)\n",
    "        \n",
    "        a = b\n",
    "        b = next\n",
    "        count += 1 \n",
    "\n",
    "n = int(input(\"Nhập giá trị của n: \"))\n",
    "f(n)\n"
   ],
   "id": "ddc16e93a9cf6f03",
   "outputs": [
    {
     "name": "stdout",
     "output_type": "stream",
     "text": [
      "0 1 1 2 3 5 "
     ]
    }
   ],
   "execution_count": 3
  },
  {
   "cell_type": "markdown",
   "source": [
    "## Cho biết tác dụng của thuật toán trong flowchart (5%)"
   ],
   "metadata": {
    "id": "gYOD4-ReLUzS"
   },
   "id": "gYOD4-ReLUzS"
  },
  {
   "cell_type": "code",
   "execution_count": null,
   "id": "1874c516-92d0-4057-aee3-4f2a01da505d",
   "metadata": {
    "id": "1874c516-92d0-4057-aee3-4f2a01da505d"
   },
   "outputs": [],
   "source": []
  }
 ],
 "metadata": {
  "kernelspec": {
   "display_name": "Python 3 (ipykernel)",
   "language": "python",
   "name": "python3"
  },
  "language_info": {
   "codemirror_mode": {
    "name": "ipython",
    "version": 3
   },
   "file_extension": ".py",
   "mimetype": "text/x-python",
   "name": "python",
   "nbconvert_exporter": "python",
   "pygments_lexer": "ipython3",
   "version": "3.9.16"
  },
  "colab": {
   "provenance": []
  }
 },
 "nbformat": 4,
 "nbformat_minor": 5
}
