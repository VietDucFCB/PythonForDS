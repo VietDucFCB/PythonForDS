{
 "cells": [
  {
   "cell_type": "markdown",
   "id": "e3b8f805-f6c1-4b67-a755-da96fff2917e",
   "metadata": {
    "id": "e3b8f805-f6c1-4b67-a755-da96fff2917e"
   },
   "source": [
    "# 1. Refractor script\n",
    "Bạn được giao nhiệm vụ cải tiến một hệ thống giỏ hàng trực tuyến. Đoạn mã hiện tại bao gồm nhiều hàm độc lập xử lý các tính năng khác nhau cho sản phẩm và giỏ hàng, nhưng nó chưa được tổ chức rõ ràng. Nhiệm vụ của bạn là tái cấu trúc đoạn mã này bằng cách sử dụng các lớp (class) để mã dễ bảo trì và dễ mở rộng."
   ]
  },
  {
   "cell_type": "markdown",
   "id": "5c234acb-582a-4d66-8a4a-6de07a9e7d10",
   "metadata": {
    "id": "5c234acb-582a-4d66-8a4a-6de07a9e7d10"
   },
   "source": [
    "## Mã ban đầu\n",
    "Dưới đây là đoạn mã hiện tại, bao gồm các hàm xử lý giảm giá, thuế, quản lý giỏ hàng, và kiểm tra hàng tồn kho. Mỗi sản phẩm là một từ điển (dictionary) với các thuộc tính như tên, giá, và số lượng hàng tồn kho."
   ]
  },
  {
   "cell_type": "code",
   "execution_count": null,
   "id": "473195b6-4990-4574-9bb4-4ce9d7f39a04",
   "metadata": {
    "id": "473195b6-4990-4574-9bb4-4ce9d7f39a04"
   },
   "outputs": [],
   "source": [
    "# Dữ liệu mẫu\n",
    "products = [\n",
    "    {'name': 'Book', 'price': 15.0, 'stock': 10},\n",
    "    {'name': 'Food', 'price': 8.0, 'stock': 20},\n",
    "    {'name': 'Gadget', 'price': 25.0, 'stock': 5}\n",
    "]\n",
    "\n",
    "# Các hàm hiện tại\n",
    "def apply_discount(product, discount):\n",
    "    return product['price'] * (1 - discount)\n",
    "\n",
    "def calculate_tax(product, tax_rate):\n",
    "    return product['price'] * tax_rate\n",
    "\n",
    "def calculate_total(cart):\n",
    "    total = 0\n",
    "    for item in cart:\n",
    "        total += item['price']\n",
    "    return total\n",
    "\n",
    "def add_product(cart, product):\n",
    "    cart.append(product)\n",
    "\n",
    "def remove_product(cart, product_name):\n",
    "    cart[:] = [p for p in cart if p['name'] != product_name]\n",
    "\n",
    "def list_products(cart):\n",
    "    for product in cart:\n",
    "        print(f\"{product['name']}: ${product['price']}\")\n",
    "\n",
    "def update_stock(product, amount):\n",
    "    product['stock'] += amount\n",
    "\n",
    "def is_in_stock(product):\n",
    "    return product['stock'] > 0\n",
    "\n",
    "def get_total_stock(products):\n",
    "    return sum(product['stock'] for product in products)\n"
   ]
  },
  {
   "cell_type": "markdown",
   "id": "586ba589-aa81-4f76-ab9f-77dfe56ef327",
   "metadata": {
    "id": "586ba589-aa81-4f76-ab9f-77dfe56ef327"
   },
   "source": [
    "## Yêu cầu\n",
    "\n",
    "### 1. Tái cấu trúc mã: Sử dụng các lớp để tổ chức lại mã. (30%)\n",
    "\n",
    "* Product: Lớp này sẽ đại diện cho một sản phẩm và chứa các phương thức liên quan đến sản phẩm.\n",
    "* Cart: Lớp này sẽ quản lý các sản phẩm trong giỏ hàng và chứa các phương thức để thêm, xóa sản phẩm và tính tổng giá.\n",
    "\n",
    "### 2. Cập nhật mã (30%)\n",
    "Di chuyển các hàm hiện tại vào các lớp thích hợp và điều chỉnh lại mã để sử dụng các phương thức thay vì các hàm độc lập.\n",
    "\n",
    "### 3. Xây dựng ví dụ: Sau khi tổ chức lại mã, tạo một ví dụ tuỳ ý để hiển thị (15%)\n",
    "\n",
    "* Thêm sản phẩm vào giỏ hàng.\n",
    "* Tính tổng giá sau khi áp dụng thuế và giảm giá.\n",
    "* In danh sách sản phẩm trong giỏ hàng.\n"
   ]
  },
  {
   "metadata": {},
   "cell_type": "code",
   "outputs": [],
   "execution_count": null,
   "source": [
    "class Product:\n",
    "    def __init__(self, name, price, stock):\n",
    "        \"\"\"Khởi tạo một sản phẩm với tên, giá, và số lượng hàng tồn kho.\"\"\"\n",
    "        self._name = name\n",
    "        self._price = price\n",
    "        self._stock = stock\n",
    "\n",
    "    @property\n",
    "    def name(self):\n",
    "        \"\"\"Trả về tên sản phẩm.\"\"\"\n",
    "        return self._name\n",
    "\n",
    "    @name.setter\n",
    "    def name(self, name):\n",
    "        \"\"\"Đặt tên mới cho sản phẩm.\"\"\"\n",
    "        self._name = name\n",
    "\n",
    "    @property\n",
    "    def price(self):\n",
    "        \"\"\"Trả về giá sản phẩm.\"\"\"\n",
    "        return self._price\n",
    "\n",
    "    @price.setter\n",
    "    def price(self, price):\n",
    "        \"\"\"Đặt giá mới cho sản phẩm.\"\"\"\n",
    "        if price < 0:\n",
    "            raise ValueError(\"Giá không thể âm!\")\n",
    "        self._price = price\n",
    "\n",
    "    @property\n",
    "    def stock(self):\n",
    "        \"\"\"Trả về số lượng hàng tồn kho của sản phẩm.\"\"\"\n",
    "        return self._stock\n",
    "\n",
    "    @stock.setter\n",
    "    def stock(self, stock):\n",
    "        \"\"\"Đặt số lượng hàng tồn kho mới cho sản phẩm.\"\"\"\n",
    "        if stock < 0:\n",
    "            raise ValueError(\"Số lượng hàng tồn kho không thể âm!\")\n",
    "        self._stock = stock\n",
    "\n",
    "    def apply_discount(self, discount):\n",
    "        \"\"\"Áp dụng giảm giá cho sản phẩm.\"\"\"\n",
    "        return self.price * (1 - discount)\n",
    "\n",
    "    def calculate_tax(self, tax_rate):\n",
    "        \"\"\"Tính thuế cho sản phẩm.\"\"\"\n",
    "        return self.price * tax_rate\n",
    "\n",
    "    def is_in_stock(self):\n",
    "        \"\"\"Kiểm tra xem sản phẩm có trong kho không.\"\"\"\n",
    "        return self.stock > 0\n",
    "\n",
    "    def update_stock(self, amount):\n",
    "        \"\"\"Cập nhật số lượng hàng tồn kho.\"\"\"\n",
    "        self.stock += amount\n",
    "\n",
    "\n",
    "class Cart:\n",
    "    def __init__(self):\n",
    "        \"\"\"Khởi tạo một giỏ hàng trống.\"\"\"\n",
    "        self.products = []\n",
    "\n",
    "    def add_product(self, product):\n",
    "        \"\"\"Thêm sản phẩm vào giỏ hàng.\"\"\"\n",
    "        self.products.append(product)\n",
    "\n",
    "    def remove_product(self, product_name):\n",
    "        \"\"\"Xóa sản phẩm khỏi giỏ hàng theo tên.\"\"\"\n",
    "        self.products = [p for p in self.products if p.name != product_name]\n",
    "\n",
    "    def calculate_total(self):\n",
    "        \"\"\"Tính tổng giá các sản phẩm trong giỏ.\"\"\"\n",
    "        total = sum(product.price for product in self.products)\n",
    "        return total\n",
    "\n",
    "    def list_products(self):\n",
    "        \"\"\"In danh sách các sản phẩm trong giỏ hàng.\"\"\"\n",
    "        for product in self.products:\n",
    "            print(f\"{product.name}: ${product.price:.2f}\")\n",
    "\n",
    "    def calculate_total_with_discount_and_tax(self, discount, tax_rate):\n",
    "        \"\"\"Tính tổng giá sau khi áp dụng giảm giá và thuế.\"\"\"\n",
    "        total = 0\n",
    "        for product in self.products:\n",
    "            discounted_price = product.apply_discount(discount)\n",
    "            total += discounted_price + product.calculate_tax(tax_rate)\n",
    "        return total\n",
    "\n",
    "    def get_total_stock(self):\n",
    "        \"\"\"Tính tổng số lượng sản phẩm trong kho của giỏ hàng.\"\"\"\n",
    "        return sum(product.stock for product in self.products)\n",
    "\n",
    "\n",
    "# Dữ liệu mẫu sản phẩm\n",
    "products_data = [\n",
    "    {'name': 'Book', 'price': 15.0, 'stock': 10},\n",
    "    {'name': 'Food', 'price': 8.0, 'stock': 20},\n",
    "    {'name': 'Gadget', 'price': 25.0, 'stock': 5}\n",
    "]\n",
    "\n",
    "# Tạo các sản phẩm từ dữ liệu mẫu\n",
    "products = [Product(**data) for data in products_data]\n",
    "\n",
    "# Tạo giỏ hàng và thêm sản phẩm\n",
    "cart = Cart()\n",
    "cart.add_product(products[0])  # Thêm \"Book\"\n",
    "cart.add_product(products[1])  # Thêm \"Food\"\n",
    "\n",
    "# Tính tổng giá sau khi áp dụng giảm giá và thuế\n",
    "discount = 0.1  # Giảm giá 10%\n",
    "tax_rate = 0.07  # Thuế 7%\n",
    "total_with_discount_and_tax = cart.calculate_total_with_discount_and_tax(discount, tax_rate)\n",
    "\n",
    "# In danh sách sản phẩm trong giỏ hàng và tổng giá sau khi áp dụng giảm giá và thuế\n",
    "print(\"Danh sách sản phẩm trong giỏ hàng:\")\n",
    "cart.list_products()\n",
    "print(f\"\\nTổng giá sau khi áp dụng giảm giá và thuế: ${total_with_discount_and_tax:.2f}\")\n"
   ],
   "id": "158be4df23c4b99"
  },
  {
   "cell_type": "markdown",
   "id": "df138a81-5f0b-4945-8785-060e4c30c15c",
   "metadata": {
    "id": "df138a81-5f0b-4945-8785-060e4c30c15c"
   },
   "source": [
    "# 2. Viết hàm từ flowchart sau (20%)\n",
    "Link ảnh: https://drive.google.com/file/d/1nLY0RH4GrA6OXEuDqhIOGMmVPikvmMkL/view?usp=sharing"
   ]
  },
  {
   "metadata": {},
   "cell_type": "code",
   "outputs": [],
   "execution_count": null,
   "source": "",
   "id": "ddc16e93a9cf6f03"
  },
  {
   "cell_type": "markdown",
   "source": [
    "## Cho biết tác dụng của thuật toán trong flowchart (5%)"
   ],
   "metadata": {
    "id": "gYOD4-ReLUzS"
   },
   "id": "gYOD4-ReLUzS"
  },
  {
   "cell_type": "code",
   "execution_count": null,
   "id": "1874c516-92d0-4057-aee3-4f2a01da505d",
   "metadata": {
    "id": "1874c516-92d0-4057-aee3-4f2a01da505d"
   },
   "outputs": [],
   "source": []
  }
 ],
 "metadata": {
  "kernelspec": {
   "display_name": "Python 3 (ipykernel)",
   "language": "python",
   "name": "python3"
  },
  "language_info": {
   "codemirror_mode": {
    "name": "ipython",
    "version": 3
   },
   "file_extension": ".py",
   "mimetype": "text/x-python",
   "name": "python",
   "nbconvert_exporter": "python",
   "pygments_lexer": "ipython3",
   "version": "3.9.16"
  },
  "colab": {
   "provenance": []
  }
 },
 "nbformat": 4,
 "nbformat_minor": 5
}
