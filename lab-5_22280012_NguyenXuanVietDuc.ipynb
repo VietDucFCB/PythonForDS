{
 "cells": [
  {
   "cell_type": "markdown",
   "id": "db234c0b749ff15b",
   "metadata": {},
   "source": [
    "# Python for Data Science\n",
    "## Lab 5:\n",
    "### Nguyen Xuan Viet Duc - 22280012"
   ]
  },
  {
   "metadata": {
    "ExecuteTime": {
     "end_time": "2024-11-10T15:01:26.690317Z",
     "start_time": "2024-11-10T15:01:26.676416Z"
    }
   },
   "cell_type": "code",
   "source": [
    "import torch\n",
    "from sklearn.datasets import load_iris\n",
    "from sklearn.model_selection import train_test_split\n",
    "from sklearn.metrics import precision_score, recall_score, f1_score, accuracy_score, classification_report\n",
    "import torch.optim as optim\n",
    "import torch.nn as nn\n",
    "from torch.utils.data import DataLoader, Dataset"
   ],
   "id": "99a62de0ff20b72b",
   "outputs": [],
   "execution_count": 52
  },
  {
   "cell_type": "code",
   "id": "e11a2c2c867047d",
   "metadata": {
    "ExecuteTime": {
     "end_time": "2024-11-10T15:01:26.702282Z",
     "start_time": "2024-11-10T15:01:26.694081Z"
    }
   },
   "source": [
    "iris = load_iris()\n",
    "X = iris.data\n",
    "Y = iris.target"
   ],
   "outputs": [],
   "execution_count": 53
  },
  {
   "cell_type": "code",
   "id": "844628105fb308a0",
   "metadata": {
    "ExecuteTime": {
     "end_time": "2024-11-10T15:01:26.714389Z",
     "start_time": "2024-11-10T15:01:26.707788Z"
    }
   },
   "source": [
    "x_train, x_val, y_train, y_val = train_test_split(X, Y, test_size=0.33, random_state=42)\n",
    "x_val, x_test, y_val, y_test = train_test_split(x_val, y_val, test_size=0.15, random_state=42)"
   ],
   "outputs": [],
   "execution_count": 54
  },
  {
   "cell_type": "code",
   "id": "771857cd8dc0be84",
   "metadata": {
    "ExecuteTime": {
     "end_time": "2024-11-10T15:01:26.735869Z",
     "start_time": "2024-11-10T15:01:26.727624Z"
    }
   },
   "source": [
    "# Kiểm tra thiết bị (GPU/CPU)\n",
    "device = torch.device(\"cuda\" if torch.cuda.is_available() else \"cpu\")\n",
    "\n",
    "# Dataset Class\n",
    "class Data(Dataset):\n",
    "    def __init__(self, X, y):\n",
    "        self.x = torch.from_numpy(X).float()\n",
    "        self.y = torch.from_numpy(y).long()\n",
    "        self.len = self.x.shape[0]\n",
    "\n",
    "    def __getitem__(self, index):\n",
    "        return self.x[index], self.y[index]\n",
    "\n",
    "    def __len__(self):\n",
    "        return self.len"
   ],
   "outputs": [],
   "execution_count": 55
  },
  {
   "cell_type": "code",
   "id": "d6bc42f674073835",
   "metadata": {
    "ExecuteTime": {
     "end_time": "2024-11-10T15:01:26.782063Z",
     "start_time": "2024-11-10T15:01:26.771235Z"
    }
   },
   "source": "",
   "outputs": [],
   "execution_count": 56
  },
  {
   "cell_type": "code",
   "id": "ead296434bb4572",
   "metadata": {
    "ExecuteTime": {
     "end_time": "2024-11-10T15:01:26.789227Z",
     "start_time": "2024-11-10T15:01:26.782063Z"
    }
   },
   "source": [
    "# Mô hình mạng nơ-ron\n",
    "class Net(nn.Module):\n",
    "    def __init__(self, D_in, H, D_out):\n",
    "        super(Net, self).__init__()\n",
    "        self.linear1 = nn.Linear(D_in, H)\n",
    "        self.linear2 = nn.Linear(H, D_out)\n",
    "\n",
    "    def forward(self, x):\n",
    "        x = torch.sigmoid(self.linear1(x))\n",
    "        x = self.linear2(x)\n",
    "        return x\n",
    "    "
   ],
   "outputs": [],
   "execution_count": 57
  },
  {
   "cell_type": "code",
   "id": "ba76fb63d13f38bf",
   "metadata": {
    "ExecuteTime": {
     "end_time": "2024-11-10T15:01:26.801053Z",
     "start_time": "2024-11-10T15:01:26.791235Z"
    }
   },
   "source": [
    "# Khởi tạo mô hình và chuyển nó lên thiết bị\n",
    "input_dim = 4\n",
    "hidden_dim = 25\n",
    "output_dim = 3\n",
    "model = Net(input_dim, hidden_dim, output_dim).to(device)"
   ],
   "outputs": [],
   "execution_count": 58
  },
  {
   "cell_type": "code",
   "id": "c05643514e03facf",
   "metadata": {
    "ExecuteTime": {
     "end_time": "2024-11-10T15:01:26.823224Z",
     "start_time": "2024-11-10T15:01:26.802803Z"
    }
   },
   "source": [
    "# Hàm huấn luyện\n",
    "def train(model, train_loader, val_loader, criterion, optimizer, num_epochs):\n",
    "    for epoch in range(num_epochs):\n",
    "        model.train()  # Đặt chế độ train cho mô hình\n",
    "        train_loss = 0.0\n",
    "        train_preds = []\n",
    "        train_labels = []\n",
    "        \n",
    "        for inputs, labels in train_loader:\n",
    "            inputs, labels = inputs.to(device), labels.to(device)  # Đưa dữ liệu lên thiết bị\n",
    "            optimizer.zero_grad()\n",
    "            outputs = model(inputs)\n",
    "            loss = criterion(outputs, labels)\n",
    "            train_loss += loss.item() * inputs.size(0)\n",
    "            \n",
    "            # Dự đoán và lưu lại các giá trị dự đoán\n",
    "            _, predicted = torch.max(outputs, 1)\n",
    "            train_preds.extend(predicted.cpu().numpy())\n",
    "            train_labels.extend(labels.cpu().numpy())\n",
    "            \n",
    "            # Backward và tối ưu hóa\n",
    "            loss.backward()\n",
    "            optimizer.step()\n",
    "        \n",
    "        train_loss /= len(train_loader.dataset)\n",
    "        train_accuracy = accuracy_score(train_labels, train_preds)\n",
    "        train_precision = precision_score(train_labels, train_preds, average='weighted')\n",
    "        train_recall = recall_score(train_labels, train_preds, average='weighted')\n",
    "        train_f1 = f1_score(train_labels, train_preds, average='weighted')\n",
    "        \n",
    "        # Đánh giá trên tập validation\n",
    "        val_loss, val_accuracy, val_precision, val_recall, val_f1 = evaluate(model, val_loader, criterion)\n",
    "        \n",
    "        # Log các chỉ số cho mỗi epoch\n",
    "        print(f'Epoch [{epoch+1}/{num_epochs}], Train Loss: {train_loss:.4f}, Train Acc: {train_accuracy:.4f}, '\n",
    "              f'Train Precision: {train_precision:.4f}, Train Recall: {train_recall:.4f}, Train F1: {train_f1:.4f}')\n",
    "        print(f'Validation Loss: {val_loss:.4f}, Validation Acc: {val_accuracy:.4f}, '\n",
    "              f'Validation Precision: {val_precision:.4f}, Validation Recall: {val_recall:.4f}, Validation F1: {val_f1:.4f}')\n"
   ],
   "outputs": [],
   "execution_count": 59
  },
  {
   "metadata": {
    "ExecuteTime": {
     "end_time": "2024-11-10T15:01:26.858572Z",
     "start_time": "2024-11-10T15:01:26.849658Z"
    }
   },
   "cell_type": "code",
   "source": [
    "# Hàm đánh giá\n",
    "def evaluate(model, data_loader, criterion):\n",
    "    model.eval()  # Đặt chế độ eval cho mô hình\n",
    "    loss = 0.0\n",
    "    preds = []\n",
    "    labels = []\n",
    "    \n",
    "    with torch.no_grad():\n",
    "        for inputs, label in data_loader:\n",
    "            inputs, label = inputs.to(device), label.to(device)\n",
    "            outputs = model(inputs)\n",
    "            loss += criterion(outputs, label).item() * inputs.size(0)\n",
    "            \n",
    "            _, predicted = torch.max(outputs, 1)\n",
    "            preds.extend(predicted.cpu().numpy())\n",
    "            labels.extend(label.cpu().numpy())\n",
    "    \n",
    "    loss /= len(data_loader.dataset)\n",
    "    accuracy = accuracy_score(labels, preds)\n",
    "    precision = precision_score(labels, preds, average='weighted')\n",
    "    recall = recall_score(labels, preds, average='weighted')\n",
    "    f1 = f1_score(labels, preds, average='weighted')\n",
    "    \n",
    "    return loss, accuracy, precision, recall, f1"
   ],
   "id": "969cfa41ae1443f1",
   "outputs": [],
   "execution_count": 60
  },
  {
   "metadata": {
    "ExecuteTime": {
     "end_time": "2024-11-10T15:01:26.888980Z",
     "start_time": "2024-11-10T15:01:26.881045Z"
    }
   },
   "cell_type": "code",
   "source": [
    "# Hàm suy luận\n",
    "def inference(model, data_loader):\n",
    "    model.eval()\n",
    "    all_labels = []\n",
    "    all_preds = []\n",
    "    \n",
    "    with torch.no_grad():\n",
    "        for x_batch, y_batch in data_loader:\n",
    "            x_batch = x_batch.to(device)\n",
    "            outputs = model(x_batch)\n",
    "            _, preds = torch.max(outputs, 1)\n",
    "            all_preds.extend(preds.cpu().numpy())\n",
    "            all_labels.extend(y_batch.numpy())\n",
    "    \n",
    "    # In báo cáo phân loại\n",
    "    print(\"\\nClassification Report:\\n\", classification_report(all_labels, all_preds, target_names=iris.target_names))"
   ],
   "id": "383c05f75ed0c49c",
   "outputs": [],
   "execution_count": 61
  },
  {
   "metadata": {
    "ExecuteTime": {
     "end_time": "2024-11-10T15:01:27.269234Z",
     "start_time": "2024-11-10T15:01:26.900150Z"
    }
   },
   "cell_type": "code",
   "source": [
    "# Thiết lập tham số và gọi hàm train\n",
    "criterion = nn.CrossEntropyLoss()  # Sử dụng CrossEntropyLoss cho bài toán phân loại nhiều lớp\n",
    "learning_rate = 0.01\n",
    "optimizer = optim.SGD(model.parameters(), lr=learning_rate)\n",
    "\n",
    "num_epochs = 20\n",
    "train(model, train_loader, val_loader, criterion, optimizer, num_epochs)\n",
    "\n",
    "# Thực hiện suy luận trên tập test và in báo cáo phân loại\n",
    "inference(model, test_loader)"
   ],
   "id": "a2b09c3822bd67bd",
   "outputs": [
    {
     "name": "stdout",
     "output_type": "stream",
     "text": [
      "Epoch [1/20], Train Loss: 1.1119, Train Acc: 0.4700, Train Precision: 0.4452, Train Recall: 0.4700, Train F1: 0.4399\n",
      "Validation Loss: 1.1190, Validation Acc: 0.5000, Validation Precision: 0.3695, Validation Recall: 0.5000, Validation F1: 0.4149\n",
      "Epoch [2/20], Train Loss: 1.1106, Train Acc: 0.5200, Train Precision: 0.4381, Train Recall: 0.5200, Train F1: 0.4635\n",
      "Validation Loss: 1.1181, Validation Acc: 0.4762, Validation Precision: 0.3452, Validation Recall: 0.4762, Validation F1: 0.3937\n",
      "Epoch [3/20], Train Loss: 1.1094, Train Acc: 0.5400, Train Precision: 0.4169, Train Recall: 0.5400, Train F1: 0.4660\n",
      "Validation Loss: 1.1173, Validation Acc: 0.5000, Validation Precision: 0.3326, Validation Recall: 0.5000, Validation F1: 0.3971\n",
      "Epoch [4/20], Train Loss: 1.1081, Train Acc: 0.5600, Train Precision: 0.4212, Train Recall: 0.5600, Train F1: 0.4773\n",
      "Validation Loss: 1.1164, Validation Acc: 0.5000, Validation Precision: 0.3326, Validation Recall: 0.5000, Validation F1: 0.3971\n",
      "Epoch [5/20], Train Loss: 1.1069, Train Acc: 0.5900, Train Precision: 0.4190, Train Recall: 0.5900, Train F1: 0.4887\n",
      "Validation Loss: 1.1155, Validation Acc: 0.5000, Validation Precision: 0.3326, Validation Recall: 0.5000, Validation F1: 0.3971\n",
      "Epoch [6/20], Train Loss: 1.1057, Train Acc: 0.5900, Train Precision: 0.4190, Train Recall: 0.5900, Train F1: 0.4887\n",
      "Validation Loss: 1.1146, Validation Acc: 0.5000, Validation Precision: 0.3326, Validation Recall: 0.5000, Validation F1: 0.3971\n",
      "Epoch [7/20], Train Loss: 1.1045, Train Acc: 0.5700, Train Precision: 0.4004, Train Recall: 0.5700, Train F1: 0.4699\n",
      "Validation Loss: 1.1137, Validation Acc: 0.5000, Validation Precision: 0.3326, Validation Recall: 0.5000, Validation F1: 0.3971\n",
      "Epoch [8/20], Train Loss: 1.1033, Train Acc: 0.5600, Train Precision: 0.3912, Train Recall: 0.5600, Train F1: 0.4604\n",
      "Validation Loss: 1.1127, Validation Acc: 0.5000, Validation Precision: 0.3326, Validation Recall: 0.5000, Validation F1: 0.3971\n",
      "Epoch [9/20], Train Loss: 1.1021, Train Acc: 0.5500, Train Precision: 0.3822, Train Recall: 0.5500, Train F1: 0.4509\n",
      "Validation Loss: 1.1117, Validation Acc: 0.5000, Validation Precision: 0.3326, Validation Recall: 0.5000, Validation F1: 0.3971\n",
      "Epoch [10/20], Train Loss: 1.1010, Train Acc: 0.5500, Train Precision: 0.3822, Train Recall: 0.5500, Train F1: 0.4509\n",
      "Validation Loss: 1.1108, Validation Acc: 0.4762, Validation Precision: 0.3113, Validation Recall: 0.4762, Validation F1: 0.3754\n",
      "Epoch [11/20], Train Loss: 1.0998, Train Acc: 0.5300, Train Precision: 0.3642, Train Recall: 0.5300, Train F1: 0.4317\n",
      "Validation Loss: 1.1098, Validation Acc: 0.4762, Validation Precision: 0.3113, Validation Recall: 0.4762, Validation F1: 0.3754\n",
      "Epoch [12/20], Train Loss: 1.0987, Train Acc: 0.5300, Train Precision: 0.3642, Train Recall: 0.5300, Train F1: 0.4317\n",
      "Validation Loss: 1.1087, Validation Acc: 0.4762, Validation Precision: 0.3113, Validation Recall: 0.4762, Validation F1: 0.3754\n",
      "Epoch [13/20], Train Loss: 1.0976, Train Acc: 0.5200, Train Precision: 0.3552, Train Recall: 0.5200, Train F1: 0.4220\n",
      "Validation Loss: 1.1077, Validation Acc: 0.4524, Validation Precision: 0.2902, Validation Recall: 0.4524, Validation F1: 0.3532\n",
      "Epoch [14/20], Train Loss: 1.0964, Train Acc: 0.5200, Train Precision: 0.3552, Train Recall: 0.5200, Train F1: 0.4220\n",
      "Validation Loss: 1.1067, Validation Acc: 0.4524, Validation Precision: 0.2902, Validation Recall: 0.4524, Validation F1: 0.3532\n",
      "Epoch [15/20], Train Loss: 1.0953, Train Acc: 0.5000, Train Precision: 0.3373, Train Recall: 0.5000, Train F1: 0.4023\n",
      "Validation Loss: 1.1056, Validation Acc: 0.4286, Validation Precision: 0.2693, Validation Recall: 0.4286, Validation F1: 0.3307\n",
      "Epoch [16/20], Train Loss: 1.0942, Train Acc: 0.5000, Train Precision: 0.3373, Train Recall: 0.5000, Train F1: 0.4023\n",
      "Validation Loss: 1.1045, Validation Acc: 0.4286, Validation Precision: 0.2693, Validation Recall: 0.4286, Validation F1: 0.3307\n",
      "Epoch [17/20], Train Loss: 1.0930, Train Acc: 0.5000, Train Precision: 0.3373, Train Recall: 0.5000, Train F1: 0.4023\n",
      "Validation Loss: 1.1034, Validation Acc: 0.4286, Validation Precision: 0.2693, Validation Recall: 0.4286, Validation F1: 0.3307\n",
      "Epoch [18/20], Train Loss: 1.0919, Train Acc: 0.5000, Train Precision: 0.3373, Train Recall: 0.5000, Train F1: 0.4023\n",
      "Validation Loss: 1.1023, Validation Acc: 0.4286, Validation Precision: 0.2693, Validation Recall: 0.4286, Validation F1: 0.3307\n",
      "Epoch [19/20], Train Loss: 1.0908, Train Acc: 0.5000, Train Precision: 0.3373, Train Recall: 0.5000, Train F1: 0.4023\n",
      "Validation Loss: 1.1012, Validation Acc: 0.4286, Validation Precision: 0.2693, Validation Recall: 0.4286, Validation F1: 0.3307\n",
      "Epoch [20/20], Train Loss: 1.0897, Train Acc: 0.5000, Train Precision: 0.3373, Train Recall: 0.5000, Train F1: 0.4023\n",
      "Validation Loss: 1.1001, Validation Acc: 0.4048, Validation Precision: 0.2480, Validation Recall: 0.4048, Validation F1: 0.3076\n",
      "\n",
      "Classification Report:\n",
      "               precision    recall  f1-score   support\n",
      "\n",
      "      setosa       0.00      0.00      0.00         3\n",
      "  versicolor       0.50      1.00      0.67         3\n",
      "   virginica       1.00      1.00      1.00         2\n",
      "\n",
      "    accuracy                           0.62         8\n",
      "   macro avg       0.50      0.67      0.56         8\n",
      "weighted avg       0.44      0.62      0.50         8\n",
      "\n"
     ]
    }
   ],
   "execution_count": 62
  }
 ],
 "metadata": {
  "kernelspec": {
   "display_name": "Python 3 (ipykernel)",
   "language": "python",
   "name": "python3"
  },
  "language_info": {
   "codemirror_mode": {
    "name": "ipython",
    "version": 3
   },
   "file_extension": ".py",
   "mimetype": "text/x-python",
   "name": "python",
   "nbconvert_exporter": "python",
   "pygments_lexer": "ipython3",
   "version": "3.12.4"
  }
 },
 "nbformat": 4,
 "nbformat_minor": 5
}
