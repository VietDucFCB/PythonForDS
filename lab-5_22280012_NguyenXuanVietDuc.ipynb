{
 "cells": [
  {
   "cell_type": "markdown",
   "id": "db234c0b749ff15b",
   "metadata": {},
   "source": [
    "# Python for Data Science\n",
    "## Lab 5:\n",
    "### Nguyen Xuan Viet Duc - 22280012"
   ]
  },
  {
   "cell_type": "code",
   "id": "e11a2c2c867047d",
   "metadata": {
    "ExecuteTime": {
     "end_time": "2024-11-10T14:43:04.819261Z",
     "start_time": "2024-11-10T14:43:02.064608Z"
    }
   },
   "source": [
    "from sklearn.datasets import load_iris\n",
    "\n",
    "iris = load_iris()\n",
    "X = iris.data\n",
    "Y = iris.target"
   ],
   "outputs": [],
   "execution_count": 1
  },
  {
   "cell_type": "code",
   "id": "844628105fb308a0",
   "metadata": {
    "ExecuteTime": {
     "end_time": "2024-11-10T14:43:04.959381Z",
     "start_time": "2024-11-10T14:43:04.819261Z"
    }
   },
   "source": [
    "from sklearn.model_selection import train_test_split\n",
    "\n",
    "x_train, x_val, y_train, y_val = train_test_split(X, Y, test_size=0.33, random_state=42)\n",
    "x_val, x_test, y_val, y_test = train_test_split(x_val, y_val, test_size=0.15, random_state=42)"
   ],
   "outputs": [],
   "execution_count": 2
  },
  {
   "cell_type": "code",
   "id": "771857cd8dc0be84",
   "metadata": {
    "ExecuteTime": {
     "end_time": "2024-11-10T14:43:08.949489Z",
     "start_time": "2024-11-10T14:43:04.961390Z"
    }
   },
   "source": [
    "import torch\n",
    "from torch.utils.data import DataLoader, Dataset\n",
    "\n",
    "class Data(Dataset):\n",
    "    def __init__(self, X, y):\n",
    "        self.x=torch.from_numpy(X)\n",
    "        self.y=torch.from_numpy(y)\n",
    "        self.len=self.x.shape[0]\n",
    "    def __getitem__(self,index):\n",
    "        return self.x[index], self.y[index]\n",
    "    def __len__(self):\n",
    "        return self.len"
   ],
   "outputs": [],
   "execution_count": 3
  },
  {
   "cell_type": "code",
   "id": "d6bc42f674073835",
   "metadata": {
    "ExecuteTime": {
     "end_time": "2024-11-10T14:43:08.964941Z",
     "start_time": "2024-11-10T14:43:08.949489Z"
    }
   },
   "source": [
    "train_dataset = Data(x_train, y_train)\n",
    "train_loader = DataLoader(dataset=train_dataset,batch_size=64)\n",
    "\n",
    "val_dataset = Data(x_train, y_train)\n",
    "val_loader = DataLoader(dataset=val_dataset,batch_size=64)\n",
    "\n",
    "test_dataset = Data(x_train, y_train)\n",
    "test_loader = DataLoader(dataset=test_dataset,batch_size=64)"
   ],
   "outputs": [],
   "execution_count": 4
  },
  {
   "cell_type": "code",
   "id": "ead296434bb4572",
   "metadata": {
    "ExecuteTime": {
     "end_time": "2024-11-10T14:43:08.976466Z",
     "start_time": "2024-11-10T14:43:08.964941Z"
    }
   },
   "source": [
    "import torch.nn as nn\n",
    "\n",
    "class Net(nn.Module):\n",
    "    def __init__(self,D_in,H,D_out):\n",
    "        super(Net,self).__init__()\n",
    "        self.linear1=nn.Linear(D_in,H)\n",
    "        self.linear2=nn.Linear(H,D_out)\n",
    "\n",
    "    def forward(self,x):\n",
    "        x=torch.sigmoid(self.linear1(x))\n",
    "        x=self.linear2(x)\n",
    "        return x"
   ],
   "outputs": [],
   "execution_count": 5
  },
  {
   "cell_type": "code",
   "id": "ba76fb63d13f38bf",
   "metadata": {
    "ExecuteTime": {
     "end_time": "2024-11-10T14:43:09.012953Z",
     "start_time": "2024-11-10T14:43:08.978475Z"
    }
   },
   "source": [
    "input_dim = 4\n",
    "hidden_dim = 25\n",
    "output_dim = 3\n",
    "model = Net(input_dim,hidden_dim,output_dim)"
   ],
   "outputs": [],
   "execution_count": 6
  },
  {
   "cell_type": "code",
   "id": "c05643514e03facf",
   "metadata": {
    "ExecuteTime": {
     "end_time": "2024-11-10T14:43:09.026895Z",
     "start_time": "2024-11-10T14:43:09.012953Z"
    }
   },
   "source": [
    "from sklearn.metrics import precision_score, recall_score, f1_score, accuracy_score\n",
    "import torch\n",
    "\n",
    "# Hàm huấn luyện (Train)\n",
    "def train(model, train_loader, val_loader, criterion, optimizer, num_epochs):\n",
    "    for epoch in range(num_epochs):\n",
    "        model.train()  # Đặt chế độ train cho mô hình\n",
    "        train_loss = 0.0\n",
    "        train_preds = []\n",
    "        train_labels = []\n",
    "        \n",
    "        for inputs, labels in train_loader:\n",
    "            # Đặt gradient về 0\n",
    "            optimizer.zero_grad()\n",
    "            \n",
    "            # Forward\n",
    "            outputs = model(inputs.float())\n",
    "            loss = criterion(outputs, labels.long())\n",
    "            train_loss += loss.item() * inputs.size(0)\n",
    "            \n",
    "            # Dự đoán và lưu lại các giá trị dự đoán\n",
    "            _, predicted = torch.max(outputs, 1)\n",
    "            train_preds.extend(predicted.cpu().numpy())\n",
    "            train_labels.extend(labels.cpu().numpy())\n",
    "            \n",
    "            # Backward và tối ưu hóa\n",
    "            loss.backward()\n",
    "            optimizer.step()\n",
    "        \n",
    "        # Tính toán loss và các chỉ số cho tập train\n",
    "        train_loss /= len(train_loader.dataset)\n",
    "        train_accuracy = accuracy_score(train_labels, train_preds)\n",
    "        train_precision = precision_score(train_labels, train_preds, average='weighted')\n",
    "        train_recall = recall_score(train_labels, train_preds, average='weighted')\n",
    "        train_f1 = f1_score(train_labels, train_preds, average='weighted')\n",
    "        \n",
    "        # Đánh giá trên tập validation\n",
    "        val_loss, val_accuracy, val_precision, val_recall, val_f1 = evaluate(model, val_loader, criterion)\n",
    "        \n",
    "        # Log các chỉ số cho mỗi epoch\n",
    "        print(f'Epoch [{epoch+1}/{num_epochs}], Train Loss: {train_loss:.4f}, Train Acc: {train_accuracy:.4f}, '\n",
    "              f'Train Precision: {train_precision:.4f}, Train Recall: {train_recall:.4f}, Train F1: {train_f1:.4f}')\n",
    "        print(f'Validation Loss: {val_loss:.4f}, Validation Acc: {val_accuracy:.4f}, '\n",
    "              f'Validation Precision: {val_precision:.4f}, Validation Recall: {val_recall:.4f}, Validation F1: {val_f1:.4f}')\n",
    "\n"
   ],
   "outputs": [],
   "execution_count": 7
  },
  {
   "metadata": {
    "ExecuteTime": {
     "end_time": "2024-11-10T14:43:09.038265Z",
     "start_time": "2024-11-10T14:43:09.028904Z"
    }
   },
   "cell_type": "code",
   "source": [
    "# Hàm đánh giá (Evaluate)\n",
    "def evaluate(model, data_loader, criterion):\n",
    "    model.eval()  # Đặt chế độ eval cho mô hình\n",
    "    loss = 0.0\n",
    "    preds = []\n",
    "    labels = []\n",
    "    \n",
    "    with torch.no_grad():  # Tắt gradient\n",
    "        for inputs, label in data_loader:\n",
    "            outputs = model(inputs.float())\n",
    "            loss += criterion(outputs, label.long()).item() * inputs.size(0)\n",
    "            \n",
    "            _, predicted = torch.max(outputs, 1)\n",
    "            preds.extend(predicted.cpu().numpy())\n",
    "            labels.extend(label.cpu().numpy())\n",
    "    \n",
    "    loss /= len(data_loader.dataset)\n",
    "    accuracy = accuracy_score(labels, preds)\n",
    "    precision = precision_score(labels, preds, average='weighted')\n",
    "    recall = recall_score(labels, preds, average='weighted')\n",
    "    f1 = f1_score(labels, preds, average='weighted')\n",
    "    \n",
    "    return loss, accuracy, precision, recall, f1"
   ],
   "id": "969cfa41ae1443f1",
   "outputs": [],
   "execution_count": 8
  },
  {
   "metadata": {
    "ExecuteTime": {
     "end_time": "2024-11-10T14:43:09.045930Z",
     "start_time": "2024-11-10T14:43:09.038265Z"
    }
   },
   "cell_type": "code",
   "source": [
    "# Hàm suy luận (Inference)\n",
    "def inference(model, data_loader):\n",
    "    model.eval()\n",
    "    preds = []\n",
    "    \n",
    "    with torch.no_grad():\n",
    "        for inputs, _ in data_loader:\n",
    "            outputs = model(inputs.float())\n",
    "            _, predicted = torch.max(outputs, 1)\n",
    "            preds.extend(predicted.cpu().numpy())\n",
    "    \n",
    "    return preds"
   ],
   "id": "383c05f75ed0c49c",
   "outputs": [],
   "execution_count": 9
  },
  {
   "metadata": {
    "ExecuteTime": {
     "end_time": "2024-11-10T14:43:12.576480Z",
     "start_time": "2024-11-10T14:43:09.045930Z"
    }
   },
   "cell_type": "code",
   "source": [
    "import torch.optim as optim\n",
    "import warnings\n",
    "\n",
    "warnings.filterwarnings(\"ignore\")\n",
    "\n",
    "criterion = nn.CrossEntropyLoss()  # Sử dụng CrossEntropyLoss cho bài toán phân loại nhiều lớp\n",
    "learning_rate = 0.01\n",
    "optimizer = optim.SGD(model.parameters(), lr=learning_rate)  # Sử dụng SGD, hoặc thay bằng Adam nếu cần\n",
    "\n",
    "num_epochs = 20\n",
    "train(model, train_loader, val_loader, criterion, optimizer, num_epochs)\n",
    "\n",
    "# Thực hiện suy luận trên tập test\n",
    "test_preds = inference(model, test_loader)\n",
    "print(\"Predictions on Test Set:\", test_preds)\n"
   ],
   "id": "a2b09c3822bd67bd",
   "outputs": [
    {
     "name": "stdout",
     "output_type": "stream",
     "text": [
      "Epoch [1/20], Train Loss: 1.1431, Train Acc: 0.3500, Train Precision: 0.1225, Train Recall: 0.3500, Train F1: 0.1815\n",
      "Validation Loss: 1.1368, Validation Acc: 0.3500, Validation Precision: 0.1225, Validation Recall: 0.3500, Validation F1: 0.1815\n",
      "Epoch [2/20], Train Loss: 1.1359, Train Acc: 0.3500, Train Precision: 0.1225, Train Recall: 0.3500, Train F1: 0.1815\n",
      "Validation Loss: 1.1304, Validation Acc: 0.3500, Validation Precision: 0.1225, Validation Recall: 0.3500, Validation F1: 0.1815\n",
      "Epoch [3/20], Train Loss: 1.1297, Train Acc: 0.3500, Train Precision: 0.1225, Train Recall: 0.3500, Train F1: 0.1815\n",
      "Validation Loss: 1.1249, Validation Acc: 0.3500, Validation Precision: 0.1225, Validation Recall: 0.3500, Validation F1: 0.1815\n",
      "Epoch [4/20], Train Loss: 1.1243, Train Acc: 0.3500, Train Precision: 0.1225, Train Recall: 0.3500, Train F1: 0.1815\n",
      "Validation Loss: 1.1201, Validation Acc: 0.3500, Validation Precision: 0.1225, Validation Recall: 0.3500, Validation F1: 0.1815\n",
      "Epoch [5/20], Train Loss: 1.1196, Train Acc: 0.3500, Train Precision: 0.1225, Train Recall: 0.3500, Train F1: 0.1815\n",
      "Validation Loss: 1.1159, Validation Acc: 0.3500, Validation Precision: 0.1225, Validation Recall: 0.3500, Validation F1: 0.1815\n",
      "Epoch [6/20], Train Loss: 1.1156, Train Acc: 0.3500, Train Precision: 0.1225, Train Recall: 0.3500, Train F1: 0.1815\n",
      "Validation Loss: 1.1123, Validation Acc: 0.3500, Validation Precision: 0.1225, Validation Recall: 0.3500, Validation F1: 0.1815\n",
      "Epoch [7/20], Train Loss: 1.1120, Train Acc: 0.3500, Train Precision: 0.1225, Train Recall: 0.3500, Train F1: 0.1815\n",
      "Validation Loss: 1.1090, Validation Acc: 0.3500, Validation Precision: 0.1225, Validation Recall: 0.3500, Validation F1: 0.1815\n",
      "Epoch [8/20], Train Loss: 1.1088, Train Acc: 0.3500, Train Precision: 0.1225, Train Recall: 0.3500, Train F1: 0.1815\n",
      "Validation Loss: 1.1061, Validation Acc: 0.3500, Validation Precision: 0.1225, Validation Recall: 0.3500, Validation F1: 0.1815\n",
      "Epoch [9/20], Train Loss: 1.1059, Train Acc: 0.3500, Train Precision: 0.1225, Train Recall: 0.3500, Train F1: 0.1815\n",
      "Validation Loss: 1.1035, Validation Acc: 0.3500, Validation Precision: 0.1225, Validation Recall: 0.3500, Validation F1: 0.1815\n",
      "Epoch [10/20], Train Loss: 1.1034, Train Acc: 0.3500, Train Precision: 0.1225, Train Recall: 0.3500, Train F1: 0.1815\n",
      "Validation Loss: 1.1012, Validation Acc: 0.3500, Validation Precision: 0.1225, Validation Recall: 0.3500, Validation F1: 0.1815\n",
      "Epoch [11/20], Train Loss: 1.1011, Train Acc: 0.3500, Train Precision: 0.1225, Train Recall: 0.3500, Train F1: 0.1815\n",
      "Validation Loss: 1.0991, Validation Acc: 0.3500, Validation Precision: 0.1225, Validation Recall: 0.3500, Validation F1: 0.1815\n",
      "Epoch [12/20], Train Loss: 1.0991, Train Acc: 0.3500, Train Precision: 0.1225, Train Recall: 0.3500, Train F1: 0.1815\n",
      "Validation Loss: 1.0972, Validation Acc: 0.3500, Validation Precision: 0.1225, Validation Recall: 0.3500, Validation F1: 0.1815\n",
      "Epoch [13/20], Train Loss: 1.0972, Train Acc: 0.3500, Train Precision: 0.1225, Train Recall: 0.3500, Train F1: 0.1815\n",
      "Validation Loss: 1.0955, Validation Acc: 0.3500, Validation Precision: 0.1225, Validation Recall: 0.3500, Validation F1: 0.1815\n",
      "Epoch [14/20], Train Loss: 1.0954, Train Acc: 0.3500, Train Precision: 0.1225, Train Recall: 0.3500, Train F1: 0.1815\n",
      "Validation Loss: 1.0938, Validation Acc: 0.3500, Validation Precision: 0.1225, Validation Recall: 0.3500, Validation F1: 0.1815\n",
      "Epoch [15/20], Train Loss: 1.0938, Train Acc: 0.3500, Train Precision: 0.1225, Train Recall: 0.3500, Train F1: 0.1815\n",
      "Validation Loss: 1.0923, Validation Acc: 0.3500, Validation Precision: 0.1225, Validation Recall: 0.3500, Validation F1: 0.1815\n",
      "Epoch [16/20], Train Loss: 1.0923, Train Acc: 0.3500, Train Precision: 0.1225, Train Recall: 0.3500, Train F1: 0.1815\n",
      "Validation Loss: 1.0909, Validation Acc: 0.3500, Validation Precision: 0.1225, Validation Recall: 0.3500, Validation F1: 0.1815\n",
      "Epoch [17/20], Train Loss: 1.0909, Train Acc: 0.3500, Train Precision: 0.1225, Train Recall: 0.3500, Train F1: 0.1815\n",
      "Validation Loss: 1.0896, Validation Acc: 0.3500, Validation Precision: 0.1225, Validation Recall: 0.3500, Validation F1: 0.1815\n",
      "Epoch [18/20], Train Loss: 1.0896, Train Acc: 0.3500, Train Precision: 0.1225, Train Recall: 0.3500, Train F1: 0.1815\n",
      "Validation Loss: 1.0883, Validation Acc: 0.3500, Validation Precision: 0.1225, Validation Recall: 0.3500, Validation F1: 0.1815\n",
      "Epoch [19/20], Train Loss: 1.0884, Train Acc: 0.3500, Train Precision: 0.1225, Train Recall: 0.3500, Train F1: 0.1815\n",
      "Validation Loss: 1.0871, Validation Acc: 0.3500, Validation Precision: 0.1225, Validation Recall: 0.3500, Validation F1: 0.1815\n",
      "Epoch [20/20], Train Loss: 1.0871, Train Acc: 0.3500, Train Precision: 0.1225, Train Recall: 0.3500, Train F1: 0.1815\n",
      "Validation Loss: 1.0859, Validation Acc: 0.3500, Validation Precision: 0.1225, Validation Recall: 0.3500, Validation F1: 0.1815\n",
      "Predictions on Test Set: [1, 1, 1, 1, 1, 1, 1, 1, 1, 1, 1, 1, 1, 1, 1, 1, 1, 1, 1, 1, 1, 1, 1, 1, 1, 1, 1, 1, 1, 1, 1, 1, 1, 1, 1, 1, 1, 1, 1, 1, 1, 1, 1, 1, 1, 1, 1, 1, 1, 1, 1, 1, 1, 1, 1, 1, 1, 1, 1, 1, 1, 1, 1, 1, 1, 1, 1, 1, 1, 1, 1, 1, 1, 1, 1, 1, 1, 1, 1, 1, 1, 1, 1, 1, 1, 1, 1, 1, 1, 1, 1, 1, 1, 1, 1, 1, 1, 1, 1, 1]\n"
     ]
    }
   ],
   "execution_count": 10
  },
  {
   "metadata": {
    "ExecuteTime": {
     "end_time": "2024-11-10T14:43:12.580519Z",
     "start_time": "2024-11-10T14:43:12.576480Z"
    }
   },
   "cell_type": "code",
   "source": "",
   "id": "66642c563e29cb39",
   "outputs": [],
   "execution_count": 10
  }
 ],
 "metadata": {
  "kernelspec": {
   "display_name": "Python 3 (ipykernel)",
   "language": "python",
   "name": "python3"
  },
  "language_info": {
   "codemirror_mode": {
    "name": "ipython",
    "version": 3
   },
   "file_extension": ".py",
   "mimetype": "text/x-python",
   "name": "python",
   "nbconvert_exporter": "python",
   "pygments_lexer": "ipython3",
   "version": "3.12.4"
  }
 },
 "nbformat": 4,
 "nbformat_minor": 5
}
