{
 "cells": [
  {
   "cell_type": "markdown",
   "id": "5ed84ba4-c63f-4e92-b5fd-eb08eb47887c",
   "metadata": {},
   "source": [
    "# Python for Data Science\n",
    "## Lab 2:\n",
    "### Nguyen Xuan Viet Duc - 22280012"
   ]
  },
  {
   "cell_type": "markdown",
   "id": "8de3f18e-c747-47e9-9e13-030a2eebe9ce",
   "metadata": {},
   "source": [
    "#### I. Probability & Statistics questions:"
   ]
  },
  {
   "cell_type": "raw",
   "id": "2d73a3ff-d554-40db-a54e-bec951be13cf",
   "metadata": {},
   "source": [
    "1. The probability of passing three candidates A, B, and C in one interview are 60%, 10%, and 20% respectively. Find the probability of success of at least two\n",
    "- Let P be the probability that the candidate passes the interview round: P(A) = 0.6, P(B) = 0.1 and P(C) = 0.2\n",
    "- The probability that candidate A and B pass, and candidate C fails: \n",
    "    P_AB = P(A) * P(B) * (1 - P(C)) => P_AB = 0.6 * 0.1 * 0.8 = 0.048\n",
    "- The probability that candidate A and C pass, and candidate B fails: \n",
    "    P_AC = P(A) * P(C) * (1 - P(C)) => P_AC = 0.6 * 0.2 * 0.9 = 0.108\n",
    "- The probability that candidate B and C pass, and candidate A fails: \n",
    "    P_BC = P(B) * P(C) * (1 - P(A)) => P_BC = 0.1 * 0.2 * 0.4 = 0.008\n",
    "- The probability that all three candidates A, B and C pass: \n",
    "    P_ABC = P(A) * P(B) * P(C) => P_ABC = 0.6 * 0.1 * 0.2 = 0.012\n",
    "-> The probability of success of at least two: \n",
    "    P_atLeastTwo = P_AB + P_AC + P_BC + P_ABC = 0.048 + 0.108 + 0.008 + 0.012 = 0.176"
   ]
  },
  {
   "cell_type": "raw",
   "id": "0b3536e7-b937-447f-acf4-3fb71cd7c1b4",
   "metadata": {},
   "source": [
    "2. Nine cards are drawn from a deck of 52 cards. What is the probability that 5 cards are diamonds and 2 are hearts and 2 are kings?\n",
    "Case 1:\n",
    "- The probability of drawing 5 diamond cards without any king among them: P_d1 = (12C5)/(52C5) \"C is the combination operation\"\n",
    "- The probability of drawing 2 heart cards without any king among them: P_h1 = (12C2)/(47C2)\n",
    "- The probability of drawing 2 king cards where neither is a diamond nor a heart: P_k1 = 2/(45C2)\n",
    "-> P1 = P_d1 * P_h1 * P_k1 = 3.756*10^(-8) \n",
    "Case 2:\n",
    "- The probability of drawing 5 diamond cards with exactly 1 king among them: P_d2 = 1/52 * (12C4)/(51C4)\n",
    "- The probability of drawing 2 heart cards with exactly 1 king a mong them: P_h2 = 1/47 * 12/46\n",
    "- The probability of drawing 2 cards from the remaining deck that do not contain any diamond or heart: P_t1 = (26C2)/(45C2)\n",
    "-> P2 = P_d2 * P_h2 * P_t1 = 6.941*10^(-8)\n",
    "Case 3:\n",
    "- The probability of drawing 5 diamond cards with exactly 1 king among them: P_d3 = 1/52 * (12C4)/(51C4)\n",
    "- The probability of drawing 2 heart cards without any king among them: P_h3 = (12C2)/(47C2)\n",
    "- The probability of drawing 2 cards from the remaining deck where 1 card is king, and neither card is a diamond or heart:\n",
    "    P_t2 = 2/45 * 24/44 \n",
    "-> P3 = P_d3 * P_h3 * P_t2 = 5.638*10^(-8)\n",
    "Case 4:\n",
    "- The probability of drawing 5 diamond cards without any king among them: P_d4 = (12C5)/(52C5)\n",
    "- The probability of drawing 2 heart cards with exactly 1 king a mong them: P_h4 = 1/47 * 12/46\n",
    "- The probability of drawing 2 cards from the remaining deck where 1 card is king, and neither card is a diamond or heart:\n",
    "    P_t3 = 2/45 * 24/44 \n",
    "-> P4 = P_d4 + P_h4 + P_t3 = 4.1*10^(-8)\n",
    "\n",
    "The probability that 5 cards are diamonds and 2 are hearts and 2 are kings:\n",
    "    P = P1 + P2 + P3 + P4 = 1.07*10^(-7)"
   ]
  },
  {
   "cell_type": "raw",
   "id": "3e49e6fe-4bf9-4be5-b57c-789cd9c9e5ae",
   "metadata": {},
   "source": [
    "3. There are transactions from banks A, B, and C at your company. About 30% of the population comes from A, 20% from B, and 50% from C. Knowing that there is a \n",
    "chance of fraud in the transaction history. The percentages for banks A, B, andC \n",
    "are 3%, 5%, and 4%\n",
    ", respective  .\n",
    "Which bank will most likely belong in the event of fraud detect\n",
    "- The probability of transaction coming from bank A, B and C: P(A) = 0.3; P(B) = 0.2; P(C) = 0.5\n",
    "- The probability of fraud given the bank: P(F|A) = 0.03; P(F|B) = 0.05; P(F|C) = 0.04\n",
    "- The probability of banks A, B, or C given that the transaction is fraudulent according to Bayes' theorem: \n",
    "    P(A|F) = [P(F|A) * P(A)] / P(F)\n",
    "    P(B|F) = [P(F|B) * P(B)] / P(F)\n",
    "    P(C|F) = [P(F|C) * P(C)] / P(F)\n",
    "- Where we have: P(F) = P(F|A) * P(A) + P(F|B) * P(B) + P(F|C) * P(C)\n",
    "                      = 0.3 * 0.03 + 0.2 * 0.05 + 0.5 * 0.04 = 0.039\n",
    "-> P(A|F) = 0.231\n",
    "-> P(B|F) = 0.256\n",
    "-> P(C|F) = 0.513\n",
    "\n",
    "Thus, the bank with the highest probability in the case that the transaction is fraudulent is banon?"
   ]
  },
  {
   "cell_type": "raw",
   "id": "5dbc16ba-b593-4b45-90bf-11237d130f77",
   "metadata": {},
   "source": [
    "4. Assume that the amount of transaction in Service X in your company follow the Normal distribution with mean µ. A random sample of 250000 transactions yielded an average amount of 𝑥 ̅= 525 000 VND, and the standard deviation of the 250 000 transactions is found to be \n",
    "s = 28 340. A 90% confidence interval for µ is (Hint: The t critical value for 90% CI for Degrees of freedom = 24 is 1.711) \n",
    "- x̄ = 525 000 VND\n",
    "- s = 28 340\n",
    "- n = 250 000\n",
    "- Confidence level = 90% => alpha = 0.1\n",
    "- Since the sample size is large (n>=30), the z-statistic will be used instead of the t-statistic: Z-score = 1.645\n",
    "        epsilon = Z(alpha/2) * s/sqrt(n) = 1.645 * 28340 / sqrt(250000) = 93.2368 (VND)\n",
    "- With a 90% confidence level, the confidence interval for muy is:\n",
    "        x̄ - epsilon <= µ <= x̄ + epsilon \n",
    "->      524906.7632 <= µ <= 525093.2368 (VND)"
   ]
  }
 ],
 "metadata": {
  "kernelspec": {
   "display_name": "Python 3 (ipykernel)",
   "language": "python",
   "name": "python3"
  },
  "language_info": {
   "codemirror_mode": {
    "name": "ipython",
    "version": 3
   },
   "file_extension": ".py",
   "mimetype": "text/x-python",
   "name": "python",
   "nbconvert_exporter": "python",
   "pygments_lexer": "ipython3",
   "version": "3.12.4"
  }
 },
 "nbformat": 4,
 "nbformat_minor": 5
}
